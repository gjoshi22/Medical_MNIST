{
 "cells": [
  {
   "cell_type": "code",
   "execution_count": 1,
   "id": "82217c3a",
   "metadata": {},
   "outputs": [],
   "source": [
    "from sklearn import metrics\n",
    "from tqdm import tqdm\n",
    "import numpy as np\n",
    "import torch\n",
    "import torch.nn as nn\n",
    "import torch.optim as optim\n",
    "import torch.utils.data as data\n",
    "import torchvision.transforms as transforms\n",
    "from dataCentric_functions import *\n",
    "\n",
    "import medmnist\n",
    "from medmnist import INFO, Evaluator"
   ]
  },
  {
   "cell_type": "code",
   "execution_count": 2,
   "id": "5e9fb86e",
   "metadata": {},
   "outputs": [],
   "source": [
    "from libauc.losses import AUCMLoss\n",
    "from libauc.optimizers import PESG, Adam, SGD\n",
    "from libauc.models import resnet20 as ResNet20\n",
    "from libauc.datasets import CIFAR10\n",
    "from libauc.utils import ImbalancedDataGenerator\n",
    "from libauc.sampler import DualSampler\n",
    "from libauc.metrics import auc_roc_score\n",
    "from libauc.models import resnet18 as ResNet18\n",
    "\n",
    "import torch \n",
    "from PIL import Image\n",
    "import numpy as np\n",
    "import torchvision.transforms as transforms\n",
    "from torch.utils.data import Dataset\n",
    "from sklearn.metrics import roc_auc_score\n",
    "#from pytorchtools import EarlyStopping\n",
    "import sys"
   ]
  },
  {
   "cell_type": "code",
   "execution_count": 3,
   "id": "6cc06a17",
   "metadata": {},
   "outputs": [],
   "source": [
    "import matplotlib.pyplot as plt"
   ]
  },
  {
   "cell_type": "code",
   "execution_count": 4,
   "id": "dbae4c88",
   "metadata": {},
   "outputs": [],
   "source": [
    "data_flag = 'nodulemnist3d'\n",
    "download = True\n",
    "\n",
    "NUM_EPOCHS = 3\n",
    "BATCH_SIZE = 128\n",
    "lr = 0.001\n",
    "\n",
    "info = INFO[data_flag]\n",
    "task = info['task']\n",
    "n_channels = info['n_channels']\n",
    "n_classes = len(info['label'])\n",
    "\n",
    "DataClass = getattr(medmnist, info['python_class'])"
   ]
  },
  {
   "cell_type": "code",
   "execution_count": 5,
   "id": "9b3b8d5d",
   "metadata": {},
   "outputs": [
    {
     "data": {
      "text/plain": [
       "{'python_class': 'NoduleMNIST3D',\n",
       " 'description': 'The NoduleMNIST3D is based on the LIDC-IDRI, a large public lung nodule dataset, containing images from thoracic CT scans. The dataset is designed for both lung nodule segmentation and 5-level malignancy classification task. To perform binary classification, we categorize cases with malignancy level 1/2 into negative class and 4/5 into positive class, ignoring the cases with malignancy level 3. We split the source dataset with a ratio of 7:1:2 into training, validation and test set, and center-crop the spatially normalized images (with a spacing of 1mm×1mm×1mm) into 28×28×28.',\n",
       " 'url': 'https://zenodo.org/record/6496656/files/nodulemnist3d.npz?download=1',\n",
       " 'MD5': '8755a7e9e05a4d9ce80a24c3e7a256f3',\n",
       " 'task': 'binary-class',\n",
       " 'label': {'0': 'benign', '1': 'malignant'},\n",
       " 'n_channels': 1,\n",
       " 'n_samples': {'train': 1158, 'val': 165, 'test': 310},\n",
       " 'license': 'CC BY 4.0'}"
      ]
     },
     "execution_count": 5,
     "metadata": {},
     "output_type": "execute_result"
    }
   ],
   "source": [
    "info"
   ]
  },
  {
   "cell_type": "code",
   "execution_count": 6,
   "id": "72c4e672",
   "metadata": {},
   "outputs": [],
   "source": [
    "# preprocessing\n",
    "\n",
    "data_transform1 = transforms.Compose([\n",
    "    transforms.ToPILImage(),\n",
    "    transforms.ToTensor()\n",
    "])\n"
   ]
  },
  {
   "cell_type": "code",
   "execution_count": 7,
   "id": "36042567",
   "metadata": {},
   "outputs": [
    {
     "name": "stdout",
     "output_type": "stream",
     "text": [
      "Using downloaded and verified file: /Users/chihoonlee/.medmnist/nodulemnist3d.npz\n",
      "Using downloaded and verified file: /Users/chihoonlee/.medmnist/nodulemnist3d.npz\n",
      "Using downloaded and verified file: /Users/chihoonlee/.medmnist/nodulemnist3d.npz\n"
     ]
    },
    {
     "data": {
      "text/plain": [
       "Dataset NoduleMNIST3D (nodulemnist3d)\n",
       "    Number of datapoints: 1158\n",
       "    Root location: /Users/chihoonlee/.medmnist\n",
       "    Split: train\n",
       "    Task: binary-class\n",
       "    Number of channels: 1\n",
       "    Meaning of labels: {'0': 'benign', '1': 'malignant'}\n",
       "    Number of samples: {'train': 1158, 'val': 165, 'test': 310}\n",
       "    Description: The NoduleMNIST3D is based on the LIDC-IDRI, a large public lung nodule dataset, containing images from thoracic CT scans. The dataset is designed for both lung nodule segmentation and 5-level malignancy classification task. To perform binary classification, we categorize cases with malignancy level 1/2 into negative class and 4/5 into positive class, ignoring the cases with malignancy level 3. We split the source dataset with a ratio of 7:1:2 into training, validation and test set, and center-crop the spatially normalized images (with a spacing of 1mm×1mm×1mm) into 28×28×28.\n",
       "    License: CC BY 4.0"
      ]
     },
     "execution_count": 7,
     "metadata": {},
     "output_type": "execute_result"
    }
   ],
   "source": [
    "train_dataset1 = DataClass(split='train', transform=data_transform1, download=download)\n",
    "val_dataset1 = DataClass(split='val', transform=data_transform1, download=download)\n",
    "test_dataset = DataClass(split='test', transform=data_transform1, download=download)\n",
    "\n",
    "train_dataset1"
   ]
  },
  {
   "cell_type": "code",
   "execution_count": 8,
   "id": "71a1c69b",
   "metadata": {},
   "outputs": [
    {
     "name": "stdout",
     "output_type": "stream",
     "text": [
      "class ratio: (array([0, 1], dtype=uint8), array([863, 295]))\n",
      "class ratio: (array([0, 1], dtype=uint8), array([123,  42]))\n",
      "class ratio: (array([0, 1], dtype=uint8), array([246,  64]))\n",
      "train+validation class ratio: (986, 337)\n"
     ]
    }
   ],
   "source": [
    "train_counts = np.unique(train_dataset1.labels, return_counts=True)\n",
    "val_counts = np.unique(val_dataset1.labels, return_counts=True)\n",
    "print(f\"class ratio: {train_counts}\")\n",
    "print(f\"class ratio: {val_counts}\")\n",
    "print(f\"class ratio: {np.unique(test_dataset.labels, return_counts=True)}\")\n",
    "train_val_comb = train_counts[1] + val_counts[1]\n",
    "neg_counts, pos_counts = train_val_comb[0], train_val_comb[1]\n",
    "print(f\"train+validation class ratio: {neg_counts, pos_counts}\")"
   ]
  },
  {
   "cell_type": "markdown",
   "id": "a2524634",
   "metadata": {},
   "source": [
    "As we see from the number of counts of each class in the dataset, this dataset is imbalanced, and we are going to balance it by upsampling technique."
   ]
  },
  {
   "cell_type": "markdown",
   "id": "e4fbb889",
   "metadata": {},
   "source": [
    "Step 1: Data shifting (balance data if imblance by upsampling)"
   ]
  },
  {
   "cell_type": "code",
   "execution_count": 9,
   "id": "113d385d",
   "metadata": {},
   "outputs": [
    {
     "data": {
      "text/plain": [
       "torch.Size([1323, 28, 28, 28])"
      ]
     },
     "execution_count": 9,
     "metadata": {},
     "output_type": "execute_result"
    }
   ],
   "source": [
    "ct_tensors_img = torch.cat([torch.from_numpy(train_dataset1.imgs), torch.from_numpy(val_dataset1.imgs)])\n",
    "ct_tensors_labels = torch.cat([torch.from_numpy(train_dataset1.labels), torch.from_numpy(val_dataset1.labels)])\n",
    "ct_tensors_img.shape"
   ]
  },
  {
   "cell_type": "markdown",
   "id": "61ed2316",
   "metadata": {},
   "source": [
    "Step 2: data augmentation"
   ]
  },
  {
   "cell_type": "code",
   "execution_count": 10,
   "id": "dd4735c5",
   "metadata": {},
   "outputs": [],
   "source": [
    "# We will overcome the data imbalance issue by upsamling the minority class using data augmentation\n",
    "# since the majority class is almost three times as many as the minority class, \n",
    "# two data augmentation techniques will be employed to increase the number of images in the minority class\n",
    "\n",
    "# two augmentation combination: HorizontalFlip and Gaussian Noise\n",
    "data_transform2 = transforms.Compose([\n",
    "    transforms.ToTensor(),\n",
    "    transforms.RandomHorizontalFlip(p=1.0)\n",
    "])\n",
    "data_transform3 = transforms.Compose([\n",
    "    transforms.ToTensor(),\n",
    "    AddGaussianNoise(0., 0.2)\n",
    "])"
   ]
  },
  {
   "cell_type": "code",
   "execution_count": 11,
   "id": "a8f66d04",
   "metadata": {},
   "outputs": [],
   "source": [
    "# Data upsampling function\n",
    "def create_new_img_by_augmentations(desired_class, data_transform):\n",
    "    # load more training and validation dataset to create new data using data augmentation\n",
    "    # param: desired_class(list) is a list of classes to be kept,\n",
    "    # and all the other classes not in this list will be filtered out\n",
    "    # param: data_transform(pytorch.transforms) is a data transform method to be applied to dataset\n",
    "    # return: pytorch dataset\n",
    "    train_dataset = DataClass(split='train', transform=data_transform)\n",
    "    val_dataset = DataClass(split='val', transform=data_transform)\n",
    "    '''\n",
    "    filtered_trainset = torch.utils.data.Subset(train_dataset,\n",
    "                            [i for i in range(len(train_dataset)) if train_dataset.labels[i] in desired_class])\n",
    "    filtered_valset = torch.utils.data.Subset(val_dataset,\n",
    "                            [i for i in range(len(val_dataset)) if val_dataset.labels[i] in desired_class])\n",
    "    '''\n",
    "    \n",
    "    combined_imgs = torch.cat([torch.from_numpy(train_dataset.imgs), torch.from_numpy(val_dataset.imgs)])\n",
    "    combined_labels = torch.cat([torch.from_numpy(train_dataset.labels), torch.from_numpy(val_dataset.labels)])\n",
    "    \n",
    "    desired_class_idx = [i for i in range(len(combined_labels)) if combined_labels[i] in desired_class]\n",
    "    \n",
    "    #print(combined_imgs.shape)\n",
    "    #print(combined_labels.shape)\n",
    "    combined_imgs = combined_imgs[desired_class_idx, :, :, :]\n",
    "    combined_labels = combined_labels[desired_class_idx]\n",
    "    \n",
    "    #return combined_imgs, combined_labels\n",
    "    \n",
    "    combined_train = torch.utils.data.TensorDataset(combined_imgs, combined_labels)\n",
    "    \n",
    "    #combined_train = torch.utils.data.ConcatDataset([filtered_trainset, filtered_valset])\n",
    "    return combined_train"
   ]
  },
  {
   "cell_type": "code",
   "execution_count": 12,
   "id": "040a8123",
   "metadata": {},
   "outputs": [
    {
     "data": {
      "text/plain": [
       "674"
      ]
     },
     "execution_count": 12,
     "metadata": {},
     "output_type": "execute_result"
    }
   ],
   "source": [
    "desired_class = [1]\n",
    "new_combined_train = torch.utils.data.ConcatDataset([create_new_img_by_augmentations(desired_class,\n",
    "                                                                                     data_transform=data_transform2),\n",
    "                                               create_new_img_by_augmentations(desired_class,\n",
    "                                                                               data_transform=data_transform3)])\n",
    "len(new_combined_train)"
   ]
  },
  {
   "cell_type": "code",
   "execution_count": 13,
   "id": "c04c952e",
   "metadata": {},
   "outputs": [],
   "source": [
    "#i, l = create_new_img_by_augmentations(desired_class, data_transform=data_transform2)\n",
    "#l.unique(return_counts=True)\n",
    "#t_v = create_new_img_by_augmentations(desired_class, data_transform=data_transform2)\n",
    "#len(t_v)"
   ]
  },
  {
   "cell_type": "code",
   "execution_count": 16,
   "id": "09270237",
   "metadata": {},
   "outputs": [],
   "source": [
    "from math import ceil\n",
    "\n",
    "count_diff = int(max(neg_counts, pos_counts) - min(neg_counts, pos_counts))\n",
    "random_sampler = data.RandomSampler(new_combined_train, num_samples=count_diff)\n",
    "added_dataloader = data.DataLoader(new_combined_train, batch_size=BATCH_SIZE, sampler=random_sampler)\n",
    "\n",
    "added_diter = iter(added_dataloader)\n",
    "examples, labels = next(added_diter)\n",
    "added_tensors_img, added_tensors_labels = examples, labels\n",
    "#for i in range(1, ceil(len(combined_train) / BATCH_SIZE)):\n",
    "for i in range(1, ceil(count_diff / BATCH_SIZE)):\n",
    "    examples, labels = next(added_diter)\n",
    "    added_tensors_img = torch.cat([added_tensors_img, examples])\n",
    "    added_tensors_labels = torch.cat([added_tensors_labels, labels])\n",
    "\n",
    "X = torch.cat([ct_tensors_img, added_tensors_img])\n",
    "y = torch.cat([ct_tensors_labels, added_tensors_labels])\n",
    "X = X.float()"
   ]
  },
  {
   "cell_type": "code",
   "execution_count": 17,
   "id": "39083f41",
   "metadata": {},
   "outputs": [
    {
     "data": {
      "text/plain": [
       "(tensor([0, 1], dtype=torch.uint8), tensor([986, 986]))"
      ]
     },
     "execution_count": 17,
     "metadata": {},
     "output_type": "execute_result"
    }
   ],
   "source": [
    "y.unique(return_counts=True)"
   ]
  },
  {
   "cell_type": "code",
   "execution_count": 18,
   "id": "926a3b6c",
   "metadata": {},
   "outputs": [
    {
     "data": {
      "text/plain": [
       "1577"
      ]
     },
     "execution_count": 18,
     "metadata": {},
     "output_type": "execute_result"
    }
   ],
   "source": [
    "# splitting train and validation data with balanced ratio\n",
    "from sklearn.model_selection import train_test_split\n",
    "X_train, X_val, y_train, y_val = train_test_split(X, y, test_size=0.2, random_state=7)\n",
    "len(X_train)"
   ]
  },
  {
   "cell_type": "code",
   "execution_count": 19,
   "id": "9f3487a0",
   "metadata": {},
   "outputs": [],
   "source": [
    "train_d = torch.utils.data.TensorDataset(X_train, y_train)\n",
    "val_d = torch.utils.data.TensorDataset(X_val, y_val)\n",
    "\n",
    "trainloader = data.DataLoader(dataset=train_d, batch_size=BATCH_SIZE, shuffle=True)\n",
    "valloader = data.DataLoader(dataset=val_d, batch_size=BATCH_SIZE, shuffle=False, num_workers=2)\n",
    "trainloader_eval = data.DataLoader(train_d, batch_size=BATCH_SIZE, shuffle=False, num_workers=2)"
   ]
  },
  {
   "cell_type": "code",
   "execution_count": 20,
   "id": "a2f739a0",
   "metadata": {},
   "outputs": [],
   "source": [
    "# resnet18 model\n",
    "from libauc.models import resnet18 as ResNet18\n",
    "\n",
    "#writer = SummaryWriter(\"runs/breast\")\n",
    "model = ResNet18(pretrained=False, last_activation=None, num_classes=1)\n",
    "model.conv1 = torch.nn.Conv2d(X_train.shape[1], 64, kernel_size=7, stride=2, padding=3, bias=False)\n",
    "\n",
    "\n",
    "# HyperParameters\n",
    "SEED = 123\n",
    "BATCH_SIZE = 128\n",
    "imratio = 0.1 # for demo \n",
    "total_epochs = 50\n",
    "decay_epochs = [50, 75]\n",
    "\n",
    "lr = 0.1\n",
    "margin = 1.0\n",
    "epoch_decay = 0.003 # refers gamma in the paper\n",
    "weight_decay = 0.0001\n",
    "\n",
    "\n",
    "# loss and optimizer\n",
    "loss_fn = AUCMLoss()\n",
    "optimizer = PESG(model, \n",
    "                 loss_fn=loss_fn,\n",
    "                 lr=lr, \n",
    "                 momentum=0.9,\n",
    "                 #margin=margin)\n",
    "                 margin=margin, \n",
    "                 epoch_decay=epoch_decay, \n",
    "                 weight_decay=weight_decay)\n",
    "\n",
    "#writer.add_graph(model=model)  # graph of model structure\n",
    "#writer.close()\n",
    "#sys.exit()\n",
    "\n"
   ]
  },
  {
   "cell_type": "code",
   "execution_count": 21,
   "id": "cf052184",
   "metadata": {
    "scrolled": true
   },
   "outputs": [
    {
     "name": "stdout",
     "output_type": "stream",
     "text": [
      "Start Training\n",
      "------------------------------\n",
      "epoch: 0, train_loss: 0.1929, train_auc: 0.5659, val_auc: 0.5384, lr: 0.1000\n",
      "0\n",
      "epoch: 1, train_loss: 0.1348, train_auc: 0.8136, val_auc: 0.7936, lr: 0.1000\n",
      "0\n",
      "epoch: 2, train_loss: 0.1032, train_auc: 0.6526, val_auc: 0.6196, lr: 0.1000\n",
      "1\n",
      "epoch: 3, train_loss: 0.0949, train_auc: 0.8824, val_auc: 0.8339, lr: 0.1000\n",
      "0\n",
      "epoch: 4, train_loss: 0.0751, train_auc: 0.8940, val_auc: 0.8790, lr: 0.1000\n",
      "0\n",
      "epoch: 5, train_loss: 0.0536, train_auc: 0.9327, val_auc: 0.9055, lr: 0.1000\n",
      "0\n",
      "epoch: 6, train_loss: 0.0426, train_auc: 0.9233, val_auc: 0.9000, lr: 0.1000\n",
      "1\n",
      "epoch: 7, train_loss: 0.0397, train_auc: 0.9455, val_auc: 0.9253, lr: 0.1000\n",
      "0\n",
      "epoch: 8, train_loss: 0.0326, train_auc: 0.9668, val_auc: 0.9223, lr: 0.1000\n",
      "1\n",
      "epoch: 9, train_loss: 0.0239, train_auc: 0.9772, val_auc: 0.9474, lr: 0.1000\n",
      "0\n",
      "epoch: 10, train_loss: 0.0165, train_auc: 0.9755, val_auc: 0.9239, lr: 0.1000\n",
      "1\n",
      "epoch: 11, train_loss: 0.0172, train_auc: 0.9848, val_auc: 0.9484, lr: 0.1000\n",
      "0\n",
      "epoch: 12, train_loss: 0.0106, train_auc: 0.9859, val_auc: 0.9419, lr: 0.1000\n",
      "1\n",
      "epoch: 13, train_loss: 0.0075, train_auc: 0.9923, val_auc: 0.9666, lr: 0.1000\n",
      "0\n",
      "epoch: 14, train_loss: 0.0050, train_auc: 0.9926, val_auc: 0.9675, lr: 0.1000\n",
      "1\n",
      "epoch: 15, train_loss: 0.0050, train_auc: 0.9877, val_auc: 0.9540, lr: 0.1000\n",
      "2\n",
      "epoch: 16, train_loss: 0.0058, train_auc: 0.9928, val_auc: 0.9725, lr: 0.1000\n",
      "0\n",
      "epoch: 17, train_loss: 0.0038, train_auc: 0.9919, val_auc: 0.9709, lr: 0.1000\n",
      "1\n",
      "epoch: 18, train_loss: 0.0029, train_auc: 0.9921, val_auc: 0.9704, lr: 0.1000\n",
      "2\n",
      "epoch: 19, train_loss: 0.0030, train_auc: 0.9926, val_auc: 0.9681, lr: 0.1000\n",
      "3\n",
      "epoch: 20, train_loss: 0.0031, train_auc: 0.9917, val_auc: 0.9687, lr: 0.1000\n",
      "4\n",
      "epoch: 21, train_loss: 0.0035, train_auc: 0.9922, val_auc: 0.9726, lr: 0.1000\n",
      "5\n",
      "epoch: 22, train_loss: 0.0027, train_auc: 0.9927, val_auc: 0.9741, lr: 0.1000\n",
      "6\n",
      "epoch: 23, train_loss: 0.0043, train_auc: 0.9915, val_auc: 0.9556, lr: 0.1000\n",
      "7\n",
      "epoch: 24, train_loss: 0.0054, train_auc: 0.9937, val_auc: 0.9739, lr: 0.1000\n",
      "0\n",
      "epoch: 25, train_loss: 0.0030, train_auc: 0.9794, val_auc: 0.9426, lr: 0.1000\n",
      "1\n",
      "epoch: 26, train_loss: 0.0052, train_auc: 0.9945, val_auc: 0.9760, lr: 0.1000\n",
      "0\n",
      "epoch: 27, train_loss: 0.0022, train_auc: 0.9940, val_auc: 0.9770, lr: 0.1000\n",
      "1\n",
      "epoch: 28, train_loss: 0.0020, train_auc: 0.9942, val_auc: 0.9764, lr: 0.1000\n",
      "2\n",
      "epoch: 29, train_loss: 0.0019, train_auc: 0.9946, val_auc: 0.9785, lr: 0.1000\n",
      "3\n",
      "epoch: 30, train_loss: 0.0020, train_auc: 0.9948, val_auc: 0.9770, lr: 0.1000\n",
      "4\n",
      "epoch: 31, train_loss: 0.0022, train_auc: 0.9912, val_auc: 0.9714, lr: 0.1000\n",
      "5\n",
      "epoch: 32, train_loss: 0.0035, train_auc: 0.9940, val_auc: 0.9771, lr: 0.1000\n",
      "0\n",
      "epoch: 33, train_loss: 0.0019, train_auc: 0.9952, val_auc: 0.9802, lr: 0.1000\n",
      "1\n",
      "epoch: 34, train_loss: 0.0020, train_auc: 0.9952, val_auc: 0.9821, lr: 0.1000\n",
      "2\n",
      "epoch: 35, train_loss: 0.0014, train_auc: 0.9951, val_auc: 0.9824, lr: 0.1000\n",
      "3\n",
      "epoch: 36, train_loss: 0.0013, train_auc: 0.9951, val_auc: 0.9827, lr: 0.1000\n",
      "4\n",
      "epoch: 37, train_loss: 0.0013, train_auc: 0.9951, val_auc: 0.9828, lr: 0.1000\n",
      "5\n",
      "epoch: 38, train_loss: 0.0013, train_auc: 0.9951, val_auc: 0.9817, lr: 0.1000\n",
      "6\n",
      "epoch: 39, train_loss: 0.0013, train_auc: 0.9951, val_auc: 0.9817, lr: 0.1000\n",
      "7\n",
      "epoch: 40, train_loss: 0.0012, train_auc: 0.9951, val_auc: 0.9839, lr: 0.1000\n",
      "8\n",
      "epoch: 41, train_loss: 0.0015, train_auc: 0.9957, val_auc: 0.9793, lr: 0.1000\n",
      "9\n",
      "epoch: 42, train_loss: 0.0015, train_auc: 0.9952, val_auc: 0.9825, lr: 0.1000\n",
      "10\n",
      "epoch: 43, train_loss: 0.0013, train_auc: 0.9951, val_auc: 0.9824, lr: 0.1000\n",
      "11\n",
      "epoch: 44, train_loss: 0.0014, train_auc: 0.9952, val_auc: 0.9837, lr: 0.1000\n",
      "12\n",
      "Early stopping\n"
     ]
    }
   ],
   "source": [
    "# early stopping patience; how long to wait after last time validation loss improved.\n",
    "patience=12\n",
    "train_log, val_log = train(model, loss_fn, optimizer, total_epochs, trainloader, trainloader_eval, \n",
    "                           valloader, patience=patience, decay_epochs=decay_epochs)"
   ]
  },
  {
   "cell_type": "code",
   "execution_count": 22,
   "id": "8f7d9b21",
   "metadata": {},
   "outputs": [
    {
     "data": {
      "text/plain": [
       "Text(0.5, 0, 'Epoch')"
      ]
     },
     "execution_count": 22,
     "metadata": {},
     "output_type": "execute_result"
    },
    {
     "data": {
      "image/png": "[encoded data removed]",
      "text/plain": [
       "<Figure size 648x360 with 1 Axes>"
      ]
     },
     "metadata": {
      "needs_background": "light"
     },
     "output_type": "display_data"
    }
   ],
   "source": [
    "plt.rcParams[\"figure.figsize\"] = (9,5)\n",
    "x=np.arange(len(train_log))\n",
    "plt.figure()\n",
    "plt.plot(x, train_log, linestyle='-', label='Train Set', linewidth=3)\n",
    "plt.plot(x, val_log,  linestyle='-', label='Validation Set', linewidth=3)\n",
    "plt.title('AUCMLoss (10% NoduleMNIST)',fontsize=25)\n",
    "plt.legend(fontsize=15)\n",
    "plt.ylabel('AUROC', fontsize=25)\n",
    "plt.xlabel('Epoch', fontsize=25)"
   ]
  },
  {
   "cell_type": "code",
   "execution_count": 23,
   "id": "2fada423",
   "metadata": {},
   "outputs": [
    {
     "name": "stdout",
     "output_type": "stream",
     "text": [
      "Test : 0.8127\n"
     ]
    }
   ],
   "source": [
    "X_test = torch.from_numpy(test_dataset.imgs)\n",
    "X_test = X_test.float()\n",
    "test_d = torch.utils.data.TensorDataset(X_test, torch.from_numpy(test_dataset.labels))\n",
    "\n",
    "test_loader = data.DataLoader(dataset=test_d, batch_size=BATCH_SIZE)\n",
    "\n",
    "# Testing AUC\n",
    "score_list = list()\n",
    "label_list = list()\n",
    "for _, d in enumerate(test_loader, 0):\n",
    "    tmp_data, tmp_label = d\n",
    "    #tmp_data, tmp_label = tmp_data.cuda(), tmp_label.cuda()\n",
    "    \n",
    "    tmp_score = model(tmp_data).detach().clone().cpu()\n",
    "    score_list.append(tmp_score)\n",
    "    label_list.append(tmp_label.cpu())\n",
    "\n",
    "test_label = torch.cat(label_list)\n",
    "test_score = torch.cat(score_list)\n",
    "                   \n",
    "test_auc = metrics.roc_auc_score(test_label, test_score)                   \n",
    "print(\"Test : %.4f\"%test_auc, flush=True)"
   ]
  },
  {
   "cell_type": "code",
   "execution_count": 24,
   "id": "c1bd10ee",
   "metadata": {},
   "outputs": [],
   "source": [
    "# save the model1\n",
    "torch.save(model.state_dict(), \"nodule/nodule_model1.pth\")"
   ]
  },
  {
   "cell_type": "code",
   "execution_count": 25,
   "id": "fb49f393",
   "metadata": {},
   "outputs": [],
   "source": [
    "# Back to Step 2\n",
    "# two augmentation combination: HorizontalFlip and Normalize\n",
    "data_transform2 = transforms.Compose([\n",
    "    transforms.ToTensor(),\n",
    "    transforms.RandomHorizontalFlip(p=1.0)\n",
    "])\n",
    "data_transform4 = transforms.Compose([\n",
    "    transforms.ToTensor(),\n",
    "    transforms.Normalize(mean=[.5], std=[.5])\n",
    "])"
   ]
  },
  {
   "cell_type": "code",
   "execution_count": 26,
   "id": "bd855e7d",
   "metadata": {},
   "outputs": [
    {
     "data": {
      "text/plain": [
       "674"
      ]
     },
     "execution_count": 26,
     "metadata": {},
     "output_type": "execute_result"
    }
   ],
   "source": [
    "desired_class = [1]\n",
    "new_combined_train = torch.utils.data.ConcatDataset([create_new_img_by_augmentations(desired_class,\n",
    "                                                                                     data_transform=data_transform2),\n",
    "                                               create_new_img_by_augmentations(desired_class,\n",
    "                                                                               data_transform=data_transform4)])\n",
    "len(new_combined_train)"
   ]
  },
  {
   "cell_type": "code",
   "execution_count": 27,
   "id": "2f693803",
   "metadata": {},
   "outputs": [],
   "source": [
    "count_diff = int(max(neg_counts, pos_counts) - min(neg_counts, pos_counts))\n",
    "random_sampler = data.RandomSampler(new_combined_train, num_samples=count_diff)\n",
    "added_dataloader = data.DataLoader(new_combined_train, batch_size=BATCH_SIZE, sampler=random_sampler)\n",
    "\n",
    "added_diter = iter(added_dataloader)\n",
    "examples, labels = next(added_diter)\n",
    "added_tensors_img, added_tensors_labels = examples, labels\n",
    "#for i in range(1, ceil(len(combined_train) / BATCH_SIZE)):\n",
    "for i in range(1, ceil(count_diff / BATCH_SIZE)):\n",
    "    examples, labels = next(added_diter)\n",
    "    added_tensors_img = torch.cat([added_tensors_img, examples])\n",
    "    added_tensors_labels = torch.cat([added_tensors_labels, labels])\n",
    "\n",
    "X = torch.cat([ct_tensors_img, added_tensors_img])\n",
    "y = torch.cat([ct_tensors_labels, added_tensors_labels])\n",
    "X = X.float()"
   ]
  },
  {
   "cell_type": "code",
   "execution_count": 28,
   "id": "ca1d3224",
   "metadata": {},
   "outputs": [
    {
     "data": {
      "text/plain": [
       "(tensor([0, 1], dtype=torch.uint8), tensor([986, 986]))"
      ]
     },
     "execution_count": 28,
     "metadata": {},
     "output_type": "execute_result"
    }
   ],
   "source": [
    "y.unique(return_counts=True)"
   ]
  },
  {
   "cell_type": "code",
   "execution_count": 29,
   "id": "8d2e1fba",
   "metadata": {},
   "outputs": [
    {
     "data": {
      "text/plain": [
       "1577"
      ]
     },
     "execution_count": 29,
     "metadata": {},
     "output_type": "execute_result"
    }
   ],
   "source": [
    "# splitting train and validation data with balanced ratio\n",
    "from sklearn.model_selection import train_test_split\n",
    "X_train, X_val, y_train, y_val = train_test_split(X, y, test_size=0.2, random_state=7)\n",
    "len(X_train)"
   ]
  },
  {
   "cell_type": "code",
   "execution_count": 30,
   "id": "4ed09706",
   "metadata": {},
   "outputs": [],
   "source": [
    "train_d = torch.utils.data.TensorDataset(X_train, y_train)\n",
    "val_d = torch.utils.data.TensorDataset(X_val, y_val)\n",
    "\n",
    "trainloader = data.DataLoader(dataset=train_d, batch_size=BATCH_SIZE, shuffle=True)\n",
    "valloader = data.DataLoader(dataset=val_d, batch_size=BATCH_SIZE, shuffle=False, num_workers=2)\n",
    "trainloader_eval = data.DataLoader(train_d, batch_size=BATCH_SIZE, shuffle=False, num_workers=2)"
   ]
  },
  {
   "cell_type": "code",
   "execution_count": 31,
   "id": "85553142",
   "metadata": {},
   "outputs": [],
   "source": [
    "# resnet18 model\n",
    "from libauc.models import resnet18 as ResNet18\n",
    "\n",
    "#writer = SummaryWriter(\"runs/breast\")\n",
    "model2 = ResNet18(pretrained=False, last_activation=None, num_classes=1)\n",
    "model2.conv1 = torch.nn.Conv2d(X_train.shape[1], 64, kernel_size=7, stride=2, padding=3, bias=False)\n",
    "\n",
    "\n",
    "# HyperParameters\n",
    "SEED = 123\n",
    "BATCH_SIZE = 128\n",
    "imratio = 0.1 # for demo \n",
    "total_epochs = 50\n",
    "decay_epochs = [50, 75]\n",
    "\n",
    "lr = 0.1\n",
    "margin = 1.0\n",
    "epoch_decay = 0.003 # refers gamma in the paper\n",
    "weight_decay = 0.0001\n",
    "\n",
    "\n",
    "# loss and optimizer\n",
    "loss_fn = AUCMLoss()\n",
    "optimizer = PESG(model2, \n",
    "                 loss_fn=loss_fn,\n",
    "                 lr=lr, \n",
    "                 momentum=0.9,\n",
    "                 #margin=margin)\n",
    "                 margin=margin, \n",
    "                 epoch_decay=epoch_decay, \n",
    "                 weight_decay=weight_decay)\n",
    "\n",
    "#writer.add_graph(model=model)  # graph of model structure\n",
    "#writer.close()\n",
    "#sys.exit()\n",
    "\n"
   ]
  },
  {
   "cell_type": "code",
   "execution_count": 32,
   "id": "bf276dbf",
   "metadata": {},
   "outputs": [
    {
     "name": "stdout",
     "output_type": "stream",
     "text": [
      "Start Training\n",
      "------------------------------\n",
      "epoch: 0, train_loss: 0.1833, train_auc: 0.5079, val_auc: 0.5031, lr: 0.1000\n",
      "0\n",
      "epoch: 1, train_loss: 0.1409, train_auc: 0.8402, val_auc: 0.8567, lr: 0.1000\n",
      "0\n",
      "epoch: 2, train_loss: 0.1028, train_auc: 0.8211, val_auc: 0.8439, lr: 0.1000\n",
      "1\n",
      "epoch: 3, train_loss: 0.0810, train_auc: 0.8510, val_auc: 0.8416, lr: 0.1000\n",
      "2\n",
      "epoch: 4, train_loss: 0.0628, train_auc: 0.9311, val_auc: 0.9014, lr: 0.1000\n",
      "0\n",
      "epoch: 5, train_loss: 0.0590, train_auc: 0.9145, val_auc: 0.8709, lr: 0.1000\n",
      "1\n",
      "epoch: 6, train_loss: 0.0467, train_auc: 0.9216, val_auc: 0.8897, lr: 0.1000\n",
      "0\n",
      "epoch: 7, train_loss: 0.0337, train_auc: 0.9623, val_auc: 0.9296, lr: 0.1000\n",
      "0\n",
      "epoch: 8, train_loss: 0.0216, train_auc: 0.9460, val_auc: 0.9150, lr: 0.1000\n",
      "1\n",
      "epoch: 9, train_loss: 0.0252, train_auc: 0.9821, val_auc: 0.9536, lr: 0.1000\n",
      "0\n",
      "epoch: 10, train_loss: 0.0115, train_auc: 0.9830, val_auc: 0.9622, lr: 0.1000\n",
      "0\n",
      "epoch: 11, train_loss: 0.0103, train_auc: 0.9839, val_auc: 0.9629, lr: 0.1000\n",
      "1\n",
      "epoch: 12, train_loss: 0.0080, train_auc: 0.9854, val_auc: 0.9591, lr: 0.1000\n",
      "2\n",
      "epoch: 13, train_loss: 0.0086, train_auc: 0.9766, val_auc: 0.9299, lr: 0.1000\n",
      "3\n",
      "epoch: 14, train_loss: 0.0093, train_auc: 0.9883, val_auc: 0.9602, lr: 0.1000\n",
      "0\n",
      "epoch: 15, train_loss: 0.0072, train_auc: 0.9863, val_auc: 0.9516, lr: 0.1000\n",
      "1\n",
      "epoch: 16, train_loss: 0.0057, train_auc: 0.9894, val_auc: 0.9648, lr: 0.1000\n",
      "0\n",
      "epoch: 17, train_loss: 0.0040, train_auc: 0.9855, val_auc: 0.9567, lr: 0.1000\n",
      "1\n",
      "epoch: 18, train_loss: 0.0045, train_auc: 0.9903, val_auc: 0.9683, lr: 0.1000\n",
      "0\n",
      "epoch: 19, train_loss: 0.0041, train_auc: 0.9906, val_auc: 0.9668, lr: 0.1000\n",
      "1\n",
      "epoch: 20, train_loss: 0.0037, train_auc: 0.9911, val_auc: 0.9667, lr: 0.1000\n",
      "2\n",
      "epoch: 21, train_loss: 0.0037, train_auc: 0.9916, val_auc: 0.9669, lr: 0.1000\n",
      "3\n",
      "epoch: 22, train_loss: 0.0043, train_auc: 0.9918, val_auc: 0.9692, lr: 0.1000\n",
      "4\n",
      "epoch: 23, train_loss: 0.0036, train_auc: 0.9922, val_auc: 0.9697, lr: 0.1000\n",
      "5\n",
      "epoch: 24, train_loss: 0.0032, train_auc: 0.9926, val_auc: 0.9703, lr: 0.1000\n",
      "6\n",
      "epoch: 25, train_loss: 0.0034, train_auc: 0.9822, val_auc: 0.9200, lr: 0.1000\n",
      "7\n",
      "epoch: 26, train_loss: 0.0044, train_auc: 0.9924, val_auc: 0.9681, lr: 0.1000\n",
      "0\n",
      "epoch: 27, train_loss: 0.0029, train_auc: 0.9930, val_auc: 0.9666, lr: 0.1000\n",
      "1\n",
      "epoch: 28, train_loss: 0.0028, train_auc: 0.9936, val_auc: 0.9707, lr: 0.1000\n",
      "2\n",
      "epoch: 29, train_loss: 0.0025, train_auc: 0.9942, val_auc: 0.9723, lr: 0.1000\n",
      "3\n",
      "epoch: 30, train_loss: 0.0025, train_auc: 0.9936, val_auc: 0.9715, lr: 0.1000\n",
      "4\n",
      "epoch: 31, train_loss: 0.0033, train_auc: 0.9966, val_auc: 0.9746, lr: 0.1000\n",
      "5\n",
      "epoch: 32, train_loss: 0.0027, train_auc: 0.9937, val_auc: 0.9687, lr: 0.1000\n",
      "6\n",
      "epoch: 33, train_loss: 0.0021, train_auc: 0.9936, val_auc: 0.9697, lr: 0.1000\n",
      "7\n",
      "epoch: 34, train_loss: 0.0022, train_auc: 0.9940, val_auc: 0.9700, lr: 0.1000\n",
      "8\n",
      "epoch: 35, train_loss: 0.0021, train_auc: 0.9943, val_auc: 0.9704, lr: 0.1000\n",
      "9\n",
      "epoch: 36, train_loss: 0.0022, train_auc: 0.9941, val_auc: 0.9696, lr: 0.1000\n",
      "10\n",
      "epoch: 37, train_loss: 0.0021, train_auc: 0.9946, val_auc: 0.9711, lr: 0.1000\n",
      "11\n",
      "epoch: 38, train_loss: 0.0021, train_auc: 0.9948, val_auc: 0.9718, lr: 0.1000\n",
      "12\n",
      "Early stopping\n"
     ]
    }
   ],
   "source": [
    "# early stopping patience; how long to wait after last time validation loss improved.\n",
    "patience=12\n",
    "train_log, val_log = train(model2, loss_fn, optimizer, total_epochs, trainloader, trainloader_eval, \n",
    "                           valloader, patience=patience, decay_epochs=decay_epochs)"
   ]
  },
  {
   "cell_type": "code",
   "execution_count": 33,
   "id": "a5e9b985",
   "metadata": {},
   "outputs": [
    {
     "data": {
      "text/plain": [
       "Text(0.5, 0, 'Epoch')"
      ]
     },
     "execution_count": 33,
     "metadata": {},
     "output_type": "execute_result"
    },
    {
     "data": {
      "image/png": "[encoded data removed]",
      "text/plain": [
       "<Figure size 648x360 with 1 Axes>"
      ]
     },
     "metadata": {
      "needs_background": "light"
     },
     "output_type": "display_data"
    }
   ],
   "source": [
    "plt.rcParams[\"figure.figsize\"] = (9,5)\n",
    "x=np.arange(len(train_log))\n",
    "plt.figure()\n",
    "plt.plot(x, train_log, linestyle='-', label='Train Set', linewidth=3)\n",
    "plt.plot(x, val_log,  linestyle='-', label='Validation Set', linewidth=3)\n",
    "plt.title('AUCMLoss (10% NoduleMNIST)',fontsize=25)\n",
    "plt.legend(fontsize=15)\n",
    "plt.ylabel('AUROC', fontsize=25)\n",
    "plt.xlabel('Epoch', fontsize=25)"
   ]
  },
  {
   "cell_type": "code",
   "execution_count": 34,
   "id": "412bde7f",
   "metadata": {},
   "outputs": [
    {
     "name": "stdout",
     "output_type": "stream",
     "text": [
      "Test : 0.8521\n"
     ]
    }
   ],
   "source": [
    "X_test = torch.from_numpy(test_dataset.imgs)\n",
    "X_test = X_test.float()\n",
    "test_d = torch.utils.data.TensorDataset(X_test, torch.from_numpy(test_dataset.labels))\n",
    "\n",
    "test_loader = data.DataLoader(dataset=test_d, batch_size=BATCH_SIZE)\n",
    "\n",
    "# Testing AUC\n",
    "score_list = list()\n",
    "label_list = list()\n",
    "for _, d in enumerate(test_loader, 0):\n",
    "    tmp_data, tmp_label = d\n",
    "    #tmp_data, tmp_label = tmp_data.cuda(), tmp_label.cuda()\n",
    "    \n",
    "    tmp_score = model2(tmp_data).detach().clone().cpu()\n",
    "    score_list.append(tmp_score)\n",
    "    label_list.append(tmp_label.cpu())\n",
    "\n",
    "test_label = torch.cat(label_list)\n",
    "test_score = torch.cat(score_list)\n",
    "                   \n",
    "test_auc = metrics.roc_auc_score(test_label, test_score)                   \n",
    "print(\"Test : %.4f\"%test_auc, flush=True)"
   ]
  },
  {
   "cell_type": "code",
   "execution_count": 35,
   "id": "cf2d8e67",
   "metadata": {},
   "outputs": [],
   "source": [
    "# save the model2\n",
    "torch.save(model2.state_dict(), \"nodule/nodule_model2.pth\")"
   ]
  },
  {
   "cell_type": "code",
   "execution_count": 36,
   "id": "3398e4b7",
   "metadata": {},
   "outputs": [
    {
     "data": {
      "text/plain": [
       "<torch.utils.data.dataset.ConcatDataset at 0x7ff33e133130>"
      ]
     },
     "execution_count": 36,
     "metadata": {},
     "output_type": "execute_result"
    }
   ],
   "source": [
    "# Back to Step 2\n",
    "# two augmentation combination: Gaussian Noise and Normalize\n",
    "# load more training and validation dataset to create new data using data augmentation\n",
    "desired_class = [1]\n",
    "new_combined_train = torch.utils.data.ConcatDataset([create_new_img_by_augmentations(desired_class,\n",
    "                                                                                     data_transform=data_transform3),\n",
    "                                               create_new_img_by_augmentations(desired_class,\n",
    "                                                                               data_transform=data_transform4)])\n",
    "new_combined_train"
   ]
  },
  {
   "cell_type": "code",
   "execution_count": 37,
   "id": "b8805082",
   "metadata": {},
   "outputs": [],
   "source": [
    "count_diff = int(max(neg_counts, pos_counts) - min(neg_counts, pos_counts))\n",
    "random_sampler = data.RandomSampler(new_combined_train, num_samples=count_diff)\n",
    "added_dataloader = data.DataLoader(new_combined_train, batch_size=BATCH_SIZE, sampler=random_sampler)\n",
    "\n",
    "added_diter = iter(added_dataloader)\n",
    "examples, labels = next(added_diter)\n",
    "added_tensors_img, added_tensors_labels = examples, labels\n",
    "#for i in range(1, ceil(len(combined_train) / BATCH_SIZE)):\n",
    "for i in range(1, ceil(count_diff / BATCH_SIZE)):\n",
    "    examples, labels = next(added_diter)\n",
    "    added_tensors_img = torch.cat([added_tensors_img, examples])\n",
    "    added_tensors_labels = torch.cat([added_tensors_labels, labels])\n",
    "\n",
    "X = torch.cat([ct_tensors_img, added_tensors_img])\n",
    "y = torch.cat([ct_tensors_labels, added_tensors_labels])\n",
    "X = X.float()"
   ]
  },
  {
   "cell_type": "code",
   "execution_count": 38,
   "id": "5bdaaa3b",
   "metadata": {},
   "outputs": [
    {
     "data": {
      "text/plain": [
       "(tensor([0, 1], dtype=torch.uint8), tensor([986, 986]))"
      ]
     },
     "execution_count": 38,
     "metadata": {},
     "output_type": "execute_result"
    }
   ],
   "source": [
    "y.unique(return_counts=True)"
   ]
  },
  {
   "cell_type": "code",
   "execution_count": 39,
   "id": "452b70e9",
   "metadata": {},
   "outputs": [
    {
     "data": {
      "text/plain": [
       "1577"
      ]
     },
     "execution_count": 39,
     "metadata": {},
     "output_type": "execute_result"
    }
   ],
   "source": [
    "# splitting train and validation data with balanced ratio\n",
    "from sklearn.model_selection import train_test_split\n",
    "X_train, X_val, y_train, y_val = train_test_split(X, y, test_size=0.2, random_state=7)\n",
    "len(X_train)"
   ]
  },
  {
   "cell_type": "code",
   "execution_count": 40,
   "id": "37a1f3a7",
   "metadata": {},
   "outputs": [],
   "source": [
    "train_d = torch.utils.data.TensorDataset(X_train, y_train)\n",
    "val_d = torch.utils.data.TensorDataset(X_val, y_val)\n",
    "\n",
    "trainloader = data.DataLoader(dataset=train_d, batch_size=BATCH_SIZE, shuffle=True)\n",
    "valloader = data.DataLoader(dataset=val_d, batch_size=BATCH_SIZE, shuffle=False, num_workers=2)\n",
    "trainloader_eval = data.DataLoader(train_d, batch_size=BATCH_SIZE, shuffle=False, num_workers=2)"
   ]
  },
  {
   "cell_type": "code",
   "execution_count": 41,
   "id": "a9570789",
   "metadata": {},
   "outputs": [],
   "source": [
    "# resnet18 model\n",
    "from libauc.models import resnet18 as ResNet18\n",
    "\n",
    "#writer = SummaryWriter(\"runs/breast\")\n",
    "model3 = ResNet18(pretrained=False, last_activation=None, num_classes=1)\n",
    "model3.conv1 = torch.nn.Conv2d(X_train.shape[1], 64, kernel_size=7, stride=2, padding=3, bias=False)\n",
    "\n",
    "\n",
    "# HyperParameters\n",
    "SEED = 123\n",
    "BATCH_SIZE = 128\n",
    "imratio = 0.1 # for demo \n",
    "total_epochs = 50\n",
    "decay_epochs = [50, 75]\n",
    "\n",
    "lr = 0.1\n",
    "margin = 1.0\n",
    "epoch_decay = 0.003 # refers gamma in the paper\n",
    "weight_decay = 0.0001\n",
    "\n",
    "\n",
    "# loss and optimizer\n",
    "loss_fn = AUCMLoss()\n",
    "optimizer = PESG(model3, \n",
    "                 loss_fn=loss_fn,\n",
    "                 lr=lr, \n",
    "                 momentum=0.9,\n",
    "                 #margin=margin)\n",
    "                 margin=margin, \n",
    "                 epoch_decay=epoch_decay, \n",
    "                 weight_decay=weight_decay)\n",
    "\n",
    "#writer.add_graph(model=model)  # graph of model structure\n",
    "#writer.close()\n",
    "#sys.exit()\n",
    "\n"
   ]
  },
  {
   "cell_type": "code",
   "execution_count": 42,
   "id": "ef01f668",
   "metadata": {},
   "outputs": [
    {
     "name": "stdout",
     "output_type": "stream",
     "text": [
      "Start Training\n",
      "------------------------------\n",
      "epoch: 0, train_loss: 0.2038, train_auc: 0.5533, val_auc: 0.5866, lr: 0.1000\n",
      "0\n",
      "epoch: 1, train_loss: 0.1571, train_auc: 0.6919, val_auc: 0.6954, lr: 0.1000\n",
      "0\n",
      "epoch: 2, train_loss: 0.1110, train_auc: 0.7993, val_auc: 0.8112, lr: 0.1000\n",
      "0\n",
      "epoch: 3, train_loss: 0.1128, train_auc: 0.8202, val_auc: 0.8345, lr: 0.1000\n",
      "0\n",
      "epoch: 4, train_loss: 0.0856, train_auc: 0.8534, val_auc: 0.8620, lr: 0.1000\n",
      "0\n",
      "epoch: 5, train_loss: 0.0743, train_auc: 0.8374, val_auc: 0.8463, lr: 0.1000\n",
      "1\n",
      "epoch: 6, train_loss: 0.0534, train_auc: 0.9331, val_auc: 0.9040, lr: 0.1000\n",
      "0\n",
      "epoch: 7, train_loss: 0.0404, train_auc: 0.9477, val_auc: 0.9149, lr: 0.1000\n",
      "0\n",
      "epoch: 8, train_loss: 0.0302, train_auc: 0.9308, val_auc: 0.8938, lr: 0.1000\n",
      "1\n",
      "epoch: 9, train_loss: 0.0255, train_auc: 0.9475, val_auc: 0.9161, lr: 0.1000\n",
      "0\n",
      "epoch: 10, train_loss: 0.0188, train_auc: 0.9466, val_auc: 0.9031, lr: 0.1000\n",
      "1\n",
      "epoch: 11, train_loss: 0.0203, train_auc: 0.9666, val_auc: 0.9296, lr: 0.1000\n",
      "0\n",
      "epoch: 12, train_loss: 0.0172, train_auc: 0.9502, val_auc: 0.9022, lr: 0.1000\n",
      "1\n",
      "epoch: 13, train_loss: 0.0114, train_auc: 0.9814, val_auc: 0.9494, lr: 0.1000\n",
      "0\n",
      "epoch: 14, train_loss: 0.0069, train_auc: 0.9811, val_auc: 0.9434, lr: 0.1000\n",
      "1\n",
      "epoch: 15, train_loss: 0.0070, train_auc: 0.9821, val_auc: 0.9430, lr: 0.1000\n",
      "2\n",
      "epoch: 16, train_loss: 0.0068, train_auc: 0.9829, val_auc: 0.9510, lr: 0.1000\n",
      "0\n",
      "epoch: 17, train_loss: 0.0080, train_auc: 0.9608, val_auc: 0.8994, lr: 0.1000\n",
      "1\n",
      "epoch: 18, train_loss: 0.0115, train_auc: 0.9830, val_auc: 0.9579, lr: 0.1000\n",
      "0\n",
      "epoch: 19, train_loss: 0.0071, train_auc: 0.9852, val_auc: 0.9556, lr: 0.1000\n",
      "1\n",
      "epoch: 20, train_loss: 0.0065, train_auc: 0.9805, val_auc: 0.9608, lr: 0.1000\n",
      "0\n",
      "epoch: 21, train_loss: 0.0060, train_auc: 0.9824, val_auc: 0.9580, lr: 0.1000\n",
      "1\n",
      "epoch: 22, train_loss: 0.0057, train_auc: 0.9861, val_auc: 0.9628, lr: 0.1000\n",
      "2\n",
      "epoch: 23, train_loss: 0.0059, train_auc: 0.9813, val_auc: 0.9590, lr: 0.1000\n",
      "3\n",
      "epoch: 24, train_loss: 0.0059, train_auc: 0.9830, val_auc: 0.9618, lr: 0.1000\n",
      "4\n",
      "epoch: 25, train_loss: 0.0056, train_auc: 0.9829, val_auc: 0.9609, lr: 0.1000\n",
      "5\n",
      "epoch: 26, train_loss: 0.0055, train_auc: 0.9839, val_auc: 0.9626, lr: 0.1000\n",
      "6\n",
      "epoch: 27, train_loss: 0.0059, train_auc: 0.9844, val_auc: 0.9633, lr: 0.1000\n",
      "7\n",
      "epoch: 28, train_loss: 0.0055, train_auc: 0.9851, val_auc: 0.9643, lr: 0.1000\n",
      "8\n",
      "epoch: 29, train_loss: 0.0057, train_auc: 0.9860, val_auc: 0.9656, lr: 0.1000\n",
      "9\n",
      "epoch: 30, train_loss: 0.0057, train_auc: 0.9870, val_auc: 0.9677, lr: 0.1000\n",
      "10\n",
      "epoch: 31, train_loss: 0.0054, train_auc: 0.9874, val_auc: 0.9681, lr: 0.1000\n",
      "11\n",
      "epoch: 32, train_loss: 0.0048, train_auc: 0.9876, val_auc: 0.9704, lr: 0.1000\n",
      "12\n",
      "Early stopping\n"
     ]
    }
   ],
   "source": [
    "# early stopping patience; how long to wait after last time validation loss improved.\n",
    "patience=12\n",
    "train_log, val_log = train(model3, loss_fn, optimizer, total_epochs, trainloader, trainloader_eval, \n",
    "                           valloader, patience=patience, decay_epochs=decay_epochs)"
   ]
  },
  {
   "cell_type": "code",
   "execution_count": 43,
   "id": "f95f4b64",
   "metadata": {},
   "outputs": [
    {
     "data": {
      "text/plain": [
       "Text(0.5, 0, 'Epoch')"
      ]
     },
     "execution_count": 43,
     "metadata": {},
     "output_type": "execute_result"
    },
    {
     "data": {
      "image/png": "[encoded data removed]",
      "text/plain": [
       "<Figure size 648x360 with 1 Axes>"
      ]
     },
     "metadata": {
      "needs_background": "light"
     },
     "output_type": "display_data"
    }
   ],
   "source": [
    "plt.rcParams[\"figure.figsize\"] = (9,5)\n",
    "x=np.arange(len(train_log))\n",
    "plt.figure()\n",
    "plt.plot(x, train_log, linestyle='-', label='Train Set', linewidth=3)\n",
    "plt.plot(x, val_log,  linestyle='-', label='Validation Set', linewidth=3)\n",
    "plt.title('AUCMLoss (10% NoduleMNIST)',fontsize=25)\n",
    "plt.legend(fontsize=15)\n",
    "plt.ylabel('AUROC', fontsize=25)\n",
    "plt.xlabel('Epoch', fontsize=25)"
   ]
  },
  {
   "cell_type": "code",
   "execution_count": 44,
   "id": "ec9f8ed4",
   "metadata": {},
   "outputs": [
    {
     "name": "stdout",
     "output_type": "stream",
     "text": [
      "Test : 0.8711\n"
     ]
    }
   ],
   "source": [
    "X_test = torch.from_numpy(test_dataset.imgs)\n",
    "X_test = X_test.float()\n",
    "test_d = torch.utils.data.TensorDataset(X_test, torch.from_numpy(test_dataset.labels))\n",
    "\n",
    "test_loader = data.DataLoader(dataset=test_d, batch_size=BATCH_SIZE)\n",
    "\n",
    "# Testing AUC\n",
    "score_list = list()\n",
    "label_list = list()\n",
    "for _, d in enumerate(test_loader, 0):\n",
    "    tmp_data, tmp_label = d\n",
    "    #tmp_data, tmp_label = tmp_data.cuda(), tmp_label.cuda()\n",
    "    \n",
    "    tmp_score = model3(tmp_data).detach().clone().cpu()\n",
    "    score_list.append(tmp_score)\n",
    "    label_list.append(tmp_label.cpu())\n",
    "\n",
    "test_label = torch.cat(label_list)\n",
    "test_score = torch.cat(score_list)\n",
    "                   \n",
    "test_auc = metrics.roc_auc_score(test_label, test_score)                   \n",
    "print(\"Test : %.4f\"%test_auc, flush=True)"
   ]
  },
  {
   "cell_type": "code",
   "execution_count": 45,
   "id": "84a20a14",
   "metadata": {},
   "outputs": [],
   "source": [
    "# save the model3\n",
    "torch.save(model3.state_dict(), \"nodule/nodule_model3.pth\")"
   ]
  },
  {
   "cell_type": "code",
   "execution_count": 46,
   "id": "68f9c57a",
   "metadata": {},
   "outputs": [
    {
     "data": {
      "text/plain": [
       "1011"
      ]
     },
     "execution_count": 46,
     "metadata": {},
     "output_type": "execute_result"
    }
   ],
   "source": [
    "# Back to Step 2\n",
    "# two augmentation combination: Flipping, Gaussian Noise, and Normalize\n",
    "# load more training and validation dataset to create new data using data augmentation\n",
    "desired_class = [1]\n",
    "new_combined_train = torch.utils.data.ConcatDataset([create_new_img_by_augmentations(desired_class,\n",
    "                                                                                     data_transform=data_transform2),\n",
    "                                                     create_new_img_by_augmentations(desired_class,\n",
    "                                                                                     data_transform=data_transform3),\n",
    "                                               create_new_img_by_augmentations(desired_class,\n",
    "                                                                               data_transform=data_transform4)])\n",
    "len(new_combined_train)"
   ]
  },
  {
   "cell_type": "code",
   "execution_count": 47,
   "id": "27b617fb",
   "metadata": {},
   "outputs": [],
   "source": [
    "count_diff = int(max(neg_counts, pos_counts) - min(neg_counts, pos_counts))\n",
    "random_sampler = data.RandomSampler(new_combined_train, num_samples=count_diff)\n",
    "added_dataloader = data.DataLoader(new_combined_train, batch_size=BATCH_SIZE, sampler=random_sampler)\n",
    "\n",
    "added_diter = iter(added_dataloader)\n",
    "examples, labels = next(added_diter)\n",
    "added_tensors_img, added_tensors_labels = examples, labels\n",
    "#for i in range(1, ceil(len(combined_train) / BATCH_SIZE)):\n",
    "for i in range(1, ceil(count_diff / BATCH_SIZE)):\n",
    "    examples, labels = next(added_diter)\n",
    "    added_tensors_img = torch.cat([added_tensors_img, examples])\n",
    "    added_tensors_labels = torch.cat([added_tensors_labels, labels])\n",
    "\n",
    "X = torch.cat([ct_tensors_img, added_tensors_img])\n",
    "y = torch.cat([ct_tensors_labels, added_tensors_labels])\n",
    "X = X.float()"
   ]
  },
  {
   "cell_type": "code",
   "execution_count": 48,
   "id": "3c36d625",
   "metadata": {},
   "outputs": [
    {
     "data": {
      "text/plain": [
       "(tensor([0, 1], dtype=torch.uint8), tensor([986, 986]))"
      ]
     },
     "execution_count": 48,
     "metadata": {},
     "output_type": "execute_result"
    }
   ],
   "source": [
    "y.unique(return_counts=True)"
   ]
  },
  {
   "cell_type": "code",
   "execution_count": 49,
   "id": "091ffb5d",
   "metadata": {},
   "outputs": [
    {
     "data": {
      "text/plain": [
       "1577"
      ]
     },
     "execution_count": 49,
     "metadata": {},
     "output_type": "execute_result"
    }
   ],
   "source": [
    "# splitting train and validation data with balanced ratio\n",
    "from sklearn.model_selection import train_test_split\n",
    "X_train, X_val, y_train, y_val = train_test_split(X, y, test_size=0.2, random_state=7)\n",
    "len(X_train)"
   ]
  },
  {
   "cell_type": "code",
   "execution_count": 50,
   "id": "aa09924a",
   "metadata": {},
   "outputs": [],
   "source": [
    "train_d = torch.utils.data.TensorDataset(X_train, y_train)\n",
    "val_d = torch.utils.data.TensorDataset(X_val, y_val)\n",
    "\n",
    "trainloader = data.DataLoader(dataset=train_d, batch_size=BATCH_SIZE, shuffle=True)\n",
    "valloader = data.DataLoader(dataset=val_d, batch_size=BATCH_SIZE, shuffle=False, num_workers=2)\n",
    "trainloader_eval = data.DataLoader(train_d, batch_size=BATCH_SIZE, shuffle=False, num_workers=2)"
   ]
  },
  {
   "cell_type": "code",
   "execution_count": 51,
   "id": "c53ba848",
   "metadata": {},
   "outputs": [],
   "source": [
    "# resnet18 model\n",
    "from libauc.models import resnet18 as ResNet18\n",
    "\n",
    "#writer = SummaryWriter(\"runs/breast\")\n",
    "model4 = ResNet18(pretrained=False, last_activation=None, num_classes=1)\n",
    "model4.conv1 = torch.nn.Conv2d(X_train.shape[1], 64, kernel_size=7, stride=2, padding=3, bias=False)\n",
    "\n",
    "\n",
    "# HyperParameters\n",
    "SEED = 123\n",
    "BATCH_SIZE = 128\n",
    "imratio = 0.1 # for demo \n",
    "total_epochs = 50\n",
    "decay_epochs = [50, 75]\n",
    "\n",
    "lr = 0.1\n",
    "margin = 1.0\n",
    "epoch_decay = 0.003 # refers gamma in the paper\n",
    "weight_decay = 0.0001\n",
    "\n",
    "\n",
    "# loss and optimizer\n",
    "loss_fn = AUCMLoss()\n",
    "optimizer = PESG(model4, \n",
    "                 loss_fn=loss_fn,\n",
    "                 lr=lr, \n",
    "                 momentum=0.9,\n",
    "                 #margin=margin)\n",
    "                 margin=margin, \n",
    "                 epoch_decay=epoch_decay, \n",
    "                 weight_decay=weight_decay)\n",
    "\n",
    "#writer.add_graph(model=model)  # graph of model structure\n",
    "#writer.close()\n",
    "#sys.exit()\n",
    "\n"
   ]
  },
  {
   "cell_type": "code",
   "execution_count": 52,
   "id": "701cb35b",
   "metadata": {
    "scrolled": true
   },
   "outputs": [
    {
     "name": "stdout",
     "output_type": "stream",
     "text": [
      "Start Training\n",
      "------------------------------\n",
      "epoch: 0, train_loss: 0.1864, train_auc: 0.5932, val_auc: 0.6069, lr: 0.1000\n",
      "0\n",
      "epoch: 1, train_loss: 0.1389, train_auc: 0.8019, val_auc: 0.8031, lr: 0.1000\n",
      "0\n",
      "epoch: 2, train_loss: 0.0915, train_auc: 0.8978, val_auc: 0.8617, lr: 0.1000\n",
      "0\n",
      "epoch: 3, train_loss: 0.0701, train_auc: 0.7957, val_auc: 0.7446, lr: 0.1000\n",
      "1\n",
      "epoch: 4, train_loss: 0.0752, train_auc: 0.8978, val_auc: 0.8220, lr: 0.1000\n",
      "0\n",
      "epoch: 5, train_loss: 0.0398, train_auc: 0.9426, val_auc: 0.9013, lr: 0.1000\n",
      "0\n",
      "epoch: 6, train_loss: 0.0308, train_auc: 0.9542, val_auc: 0.9058, lr: 0.1000\n",
      "1\n",
      "epoch: 7, train_loss: 0.0213, train_auc: 0.9693, val_auc: 0.9161, lr: 0.1000\n",
      "0\n",
      "epoch: 8, train_loss: 0.0201, train_auc: 0.9787, val_auc: 0.9216, lr: 0.1000\n",
      "0\n",
      "epoch: 9, train_loss: 0.0179, train_auc: 0.9664, val_auc: 0.9266, lr: 0.1000\n",
      "0\n",
      "epoch: 10, train_loss: 0.0139, train_auc: 0.9765, val_auc: 0.9284, lr: 0.1000\n",
      "1\n",
      "epoch: 11, train_loss: 0.0118, train_auc: 0.9804, val_auc: 0.9279, lr: 0.1000\n",
      "2\n",
      "epoch: 12, train_loss: 0.0087, train_auc: 0.9819, val_auc: 0.9186, lr: 0.1000\n",
      "3\n",
      "epoch: 13, train_loss: 0.0102, train_auc: 0.9650, val_auc: 0.8974, lr: 0.1000\n",
      "4\n",
      "epoch: 14, train_loss: 0.0138, train_auc: 0.9820, val_auc: 0.9265, lr: 0.1000\n",
      "0\n",
      "epoch: 15, train_loss: 0.0083, train_auc: 0.9800, val_auc: 0.9346, lr: 0.1000\n",
      "0\n",
      "epoch: 16, train_loss: 0.0064, train_auc: 0.9834, val_auc: 0.9332, lr: 0.1000\n",
      "1\n",
      "epoch: 17, train_loss: 0.0065, train_auc: 0.9826, val_auc: 0.9376, lr: 0.1000\n",
      "2\n",
      "epoch: 18, train_loss: 0.0078, train_auc: 0.9854, val_auc: 0.9373, lr: 0.1000\n",
      "3\n",
      "epoch: 19, train_loss: 0.0072, train_auc: 0.9862, val_auc: 0.9360, lr: 0.1000\n",
      "4\n",
      "epoch: 20, train_loss: 0.0056, train_auc: 0.9885, val_auc: 0.9380, lr: 0.1000\n",
      "5\n",
      "epoch: 21, train_loss: 0.0049, train_auc: 0.9885, val_auc: 0.9370, lr: 0.1000\n",
      "6\n",
      "epoch: 22, train_loss: 0.0044, train_auc: 0.9901, val_auc: 0.9312, lr: 0.1000\n",
      "7\n",
      "epoch: 23, train_loss: 0.0048, train_auc: 0.9918, val_auc: 0.9417, lr: 0.1000\n",
      "0\n",
      "epoch: 24, train_loss: 0.0045, train_auc: 0.9928, val_auc: 0.9454, lr: 0.1000\n",
      "1\n",
      "epoch: 25, train_loss: 0.0034, train_auc: 0.9934, val_auc: 0.9452, lr: 0.1000\n",
      "2\n",
      "epoch: 26, train_loss: 0.0030, train_auc: 0.9934, val_auc: 0.9464, lr: 0.1000\n",
      "3\n",
      "epoch: 27, train_loss: 0.0031, train_auc: 0.9934, val_auc: 0.9484, lr: 0.1000\n",
      "4\n",
      "epoch: 28, train_loss: 0.0029, train_auc: 0.9936, val_auc: 0.9474, lr: 0.1000\n",
      "5\n",
      "epoch: 29, train_loss: 0.0032, train_auc: 0.9932, val_auc: 0.9456, lr: 0.1000\n",
      "6\n",
      "epoch: 30, train_loss: 0.0037, train_auc: 0.9920, val_auc: 0.9332, lr: 0.1000\n",
      "7\n",
      "epoch: 31, train_loss: 0.0033, train_auc: 0.9938, val_auc: 0.9475, lr: 0.1000\n",
      "0\n",
      "epoch: 32, train_loss: 0.0028, train_auc: 0.9940, val_auc: 0.9491, lr: 0.1000\n",
      "1\n",
      "epoch: 33, train_loss: 0.0024, train_auc: 0.9943, val_auc: 0.9514, lr: 0.1000\n",
      "2\n",
      "epoch: 34, train_loss: 0.0022, train_auc: 0.9946, val_auc: 0.9540, lr: 0.1000\n",
      "3\n",
      "epoch: 35, train_loss: 0.0034, train_auc: 0.9947, val_auc: 0.9474, lr: 0.1000\n",
      "4\n",
      "epoch: 36, train_loss: 0.0021, train_auc: 0.9952, val_auc: 0.9532, lr: 0.1000\n",
      "0\n",
      "epoch: 37, train_loss: 0.0024, train_auc: 0.9953, val_auc: 0.9574, lr: 0.1000\n",
      "1\n",
      "epoch: 38, train_loss: 0.0019, train_auc: 0.9955, val_auc: 0.9577, lr: 0.1000\n",
      "2\n",
      "epoch: 39, train_loss: 0.0024, train_auc: 0.9927, val_auc: 0.9497, lr: 0.1000\n",
      "3\n",
      "epoch: 40, train_loss: 0.0029, train_auc: 0.9956, val_auc: 0.9564, lr: 0.1000\n",
      "0\n",
      "epoch: 41, train_loss: 0.0025, train_auc: 0.9958, val_auc: 0.9636, lr: 0.1000\n",
      "0\n",
      "epoch: 42, train_loss: 0.0015, train_auc: 0.9957, val_auc: 0.9642, lr: 0.1000\n",
      "1\n",
      "epoch: 43, train_loss: 0.0013, train_auc: 0.9960, val_auc: 0.9641, lr: 0.1000\n",
      "2\n",
      "epoch: 44, train_loss: 0.0013, train_auc: 0.9961, val_auc: 0.9637, lr: 0.1000\n",
      "3\n",
      "epoch: 45, train_loss: 0.0014, train_auc: 0.9963, val_auc: 0.9638, lr: 0.1000\n",
      "4\n",
      "epoch: 46, train_loss: 0.0013, train_auc: 0.9965, val_auc: 0.9646, lr: 0.1000\n",
      "5\n",
      "epoch: 47, train_loss: 0.0012, train_auc: 0.9965, val_auc: 0.9652, lr: 0.1000\n",
      "6\n",
      "epoch: 48, train_loss: 0.0013, train_auc: 0.9965, val_auc: 0.9650, lr: 0.1000\n",
      "7\n",
      "epoch: 49, train_loss: 0.0014, train_auc: 0.9965, val_auc: 0.9641, lr: 0.1000\n",
      "8\n"
     ]
    }
   ],
   "source": [
    "# early stopping patience; how long to wait after last time validation loss improved.\n",
    "patience=12\n",
    "train_log, val_log = train(model4, loss_fn, optimizer, total_epochs, trainloader, trainloader_eval, \n",
    "                           valloader, patience=patience, decay_epochs=decay_epochs)"
   ]
  },
  {
   "cell_type": "code",
   "execution_count": 53,
   "id": "03dd822e",
   "metadata": {},
   "outputs": [
    {
     "data": {
      "text/plain": [
       "Text(0.5, 0, 'Epoch')"
      ]
     },
     "execution_count": 53,
     "metadata": {},
     "output_type": "execute_result"
    },
    {
     "data": {
      "image/png": "[encoded data removed]",
      "text/plain": [
       "<Figure size 648x360 with 1 Axes>"
      ]
     },
     "metadata": {
      "needs_background": "light"
     },
     "output_type": "display_data"
    }
   ],
   "source": [
    "plt.rcParams[\"figure.figsize\"] = (9,5)\n",
    "x=np.arange(len(train_log))\n",
    "plt.figure()\n",
    "plt.plot(x, train_log, linestyle='-', label='Train Set', linewidth=3)\n",
    "plt.plot(x, val_log,  linestyle='-', label='Validation Set', linewidth=3)\n",
    "plt.title('AUCMLoss (10% NoduleMNIST)',fontsize=25)\n",
    "plt.legend(fontsize=15)\n",
    "plt.ylabel('AUROC', fontsize=25)\n",
    "plt.xlabel('Epoch', fontsize=25)"
   ]
  },
  {
   "cell_type": "code",
   "execution_count": 54,
   "id": "d887fc1a",
   "metadata": {},
   "outputs": [
    {
     "name": "stdout",
     "output_type": "stream",
     "text": [
      "Test : 0.8424\n"
     ]
    }
   ],
   "source": [
    "X_test = torch.from_numpy(test_dataset.imgs)\n",
    "X_test = X_test.float()\n",
    "test_d = torch.utils.data.TensorDataset(X_test, torch.from_numpy(test_dataset.labels))\n",
    "\n",
    "test_loader = data.DataLoader(dataset=test_d, batch_size=BATCH_SIZE)\n",
    "\n",
    "# Testing AUC\n",
    "score_list = list()\n",
    "label_list = list()\n",
    "for _, d in enumerate(test_loader, 0):\n",
    "    tmp_data, tmp_label = d\n",
    "    #tmp_data, tmp_label = tmp_data.cuda(), tmp_label.cuda()\n",
    "    \n",
    "    tmp_score = model4(tmp_data).detach().clone().cpu()\n",
    "    score_list.append(tmp_score)\n",
    "    label_list.append(tmp_label.cpu())\n",
    "\n",
    "test_label = torch.cat(label_list)\n",
    "test_score = torch.cat(score_list)\n",
    "                   \n",
    "test_auc = metrics.roc_auc_score(test_label, test_score)                   \n",
    "print(\"Test : %.4f\"%test_auc, flush=True)"
   ]
  },
  {
   "cell_type": "code",
   "execution_count": 55,
   "id": "191b734b",
   "metadata": {},
   "outputs": [],
   "source": [
    "# save the model4\n",
    "torch.save(model4.state_dict(), \"nodule/nodule_model4.pth\")"
   ]
  },
  {
   "cell_type": "markdown",
   "id": "20cd65d9",
   "metadata": {},
   "source": [
    "Data created by augmentation techniques Gaussian Noise and data created by Normalize generated the top performing ResNet model. So, the dataset we will use for the next steps will be that one."
   ]
  },
  {
   "cell_type": "markdown",
   "id": "827d73d4",
   "metadata": {},
   "source": [
    "Combined Step 4 & 5: Optimizer selection. Tune optimizer, batch size, and step size and Hyperparameter tuning. Lastly, model training and testing with the best dataset"
   ]
  },
  {
   "cell_type": "code",
   "execution_count": 62,
   "id": "818ad541",
   "metadata": {},
   "outputs": [
    {
     "data": {
      "text/plain": [
       "<torch.utils.data.dataset.ConcatDataset at 0x7ff33e7f4580>"
      ]
     },
     "execution_count": 62,
     "metadata": {},
     "output_type": "execute_result"
    }
   ],
   "source": [
    "# two augmentation combination: Gaussian Noise and Normalize\n",
    "# load more training and validation dataset to create new data using data augmentation\n",
    "desired_class = [1]\n",
    "new_combined_train = torch.utils.data.ConcatDataset([create_new_img_by_augmentations(desired_class,\n",
    "                                                                                     data_transform=data_transform3),\n",
    "                                               create_new_img_by_augmentations(desired_class,\n",
    "                                                                               data_transform=data_transform4)])\n",
    "new_combined_train"
   ]
  },
  {
   "cell_type": "code",
   "execution_count": 66,
   "id": "08a364c4",
   "metadata": {},
   "outputs": [
    {
     "data": {
      "text/plain": [
       "(tensor([0, 1], dtype=torch.uint8), tensor([986, 986]))"
      ]
     },
     "execution_count": 66,
     "metadata": {},
     "output_type": "execute_result"
    }
   ],
   "source": [
    "# construct upsampled dataset\n",
    "BATCH_SIZE = 128\n",
    "count_diff = int(max(neg_counts, pos_counts) - min(neg_counts, pos_counts))\n",
    "random_sampler = data.RandomSampler(new_combined_train, num_samples=count_diff)\n",
    "added_dataloader = data.DataLoader(new_combined_train, batch_size=BATCH_SIZE, sampler=random_sampler)\n",
    "\n",
    "added_diter = iter(added_dataloader)\n",
    "examples, labels = next(added_diter)\n",
    "added_tensors_img, added_tensors_labels = examples, labels\n",
    "#for i in range(1, ceil(len(combined_train) / BATCH_SIZE)):\n",
    "for i in range(1, ceil(count_diff / BATCH_SIZE)):\n",
    "    examples, labels = next(added_diter)\n",
    "    added_tensors_img = torch.cat([added_tensors_img, examples])\n",
    "    added_tensors_labels = torch.cat([added_tensors_labels, labels])\n",
    "\n",
    "X = torch.cat([ct_tensors_img, added_tensors_img])\n",
    "y = torch.cat([ct_tensors_labels, added_tensors_labels])\n",
    "\n",
    "X = X.float()\n",
    "y.unique(return_counts=True)"
   ]
  },
  {
   "cell_type": "code",
   "execution_count": 67,
   "id": "3afa4c16",
   "metadata": {},
   "outputs": [
    {
     "data": {
      "text/plain": [
       "1577"
      ]
     },
     "execution_count": 67,
     "metadata": {},
     "output_type": "execute_result"
    }
   ],
   "source": [
    "# splitting train and validation data with balanced ratio\n",
    "from sklearn.model_selection import train_test_split\n",
    "X_train, X_val, y_train, y_val = train_test_split(X, y, test_size=0.2, random_state=7)\n",
    "len(X_train)"
   ]
  },
  {
   "cell_type": "code",
   "execution_count": 68,
   "id": "f8f7606b",
   "metadata": {},
   "outputs": [],
   "source": [
    "train_d = torch.utils.data.TensorDataset(X_train, y_train)\n",
    "val_d = torch.utils.data.TensorDataset(X_val, y_val)\n",
    "\n",
    "#trainloader = data.DataLoader(dataset=train_d, batch_size=BATCH_SIZE, shuffle=True)\n",
    "#valloader = data.DataLoader(dataset=val_d, batch_size=BATCH_SIZE, shuffle=False, num_workers=2)\n",
    "#trainloader_eval = data.DataLoader(train_d, batch_size=BATCH_SIZE, shuffle=False, num_workers=2)"
   ]
  },
  {
   "cell_type": "code",
   "execution_count": 71,
   "id": "417a9ac7",
   "metadata": {
    "scrolled": true
   },
   "outputs": [
    {
     "name": "stdout",
     "output_type": "stream",
     "text": [
      "optimzer: adam, step size: 0.001, batch size: 128\n",
      "Start Training\n",
      "------------------------------\n",
      "epoch: 0, train_loss: 0.0147, train_auc: 0.4719, val_auc: 0.4698, lr: 0.0010\n",
      "0\n",
      "epoch: 1, train_loss: 0.0000, train_auc: 0.5214, val_auc: 0.5211, lr: 0.0010\n",
      "0\n",
      "epoch: 2, train_loss: 0.0000, train_auc: 0.4978, val_auc: 0.4655, lr: 0.0010\n",
      "1\n",
      "epoch: 3, train_loss: 0.0000, train_auc: 0.4695, val_auc: 0.4605, lr: 0.0010\n",
      "2\n",
      "epoch: 4, train_loss: 0.0000, train_auc: 0.4701, val_auc: 0.4751, lr: 0.0010\n",
      "0\n",
      "epoch: 5, train_loss: 0.0000, train_auc: 0.4814, val_auc: 0.4891, lr: 0.0010\n",
      "0\n",
      "epoch: 6, train_loss: 0.0000, train_auc: 0.4836, val_auc: 0.4904, lr: 0.0010\n",
      "1\n",
      "epoch: 7, train_loss: 0.0000, train_auc: 0.4863, val_auc: 0.4844, lr: 0.0010\n",
      "2\n",
      "epoch: 8, train_loss: 0.0000, train_auc: 0.4882, val_auc: 0.4763, lr: 0.0010\n",
      "3\n",
      "epoch: 9, train_loss: 0.0000, train_auc: 0.4967, val_auc: 0.4728, lr: 0.0010\n",
      "4\n",
      "epoch: 10, train_loss: 0.0000, train_auc: 0.4910, val_auc: 0.4711, lr: 0.0010\n",
      "5\n",
      "epoch: 11, train_loss: 0.0000, train_auc: 0.5013, val_auc: 0.4679, lr: 0.0010\n",
      "6\n",
      "epoch: 12, train_loss: 0.0000, train_auc: 0.4837, val_auc: 0.4629, lr: 0.0010\n",
      "7\n",
      "Early stopping\n",
      "Validation : 0.5011\n",
      "optimzer: adam, step size: 0.1, batch size: 128\n",
      "Start Training\n",
      "------------------------------\n",
      "epoch: 0, train_loss: 0.0089, train_auc: 0.5185, val_auc: 0.5370, lr: 0.1000\n",
      "0\n",
      "epoch: 1, train_loss: 0.0000, train_auc: 0.4907, val_auc: 0.4749, lr: 0.1000\n",
      "1\n",
      "epoch: 2, train_loss: 0.0000, train_auc: 0.5628, val_auc: 0.5421, lr: 0.1000\n",
      "0\n",
      "epoch: 3, train_loss: 0.0000, train_auc: 0.4749, val_auc: 0.4717, lr: 0.1000\n",
      "1\n",
      "epoch: 4, train_loss: 0.0000, train_auc: 0.5686, val_auc: 0.5653, lr: 0.1000\n",
      "0\n",
      "epoch: 5, train_loss: 0.0000, train_auc: 0.5274, val_auc: 0.5185, lr: 0.1000\n",
      "1\n",
      "epoch: 6, train_loss: 0.0000, train_auc: 0.5044, val_auc: 0.4976, lr: 0.1000\n",
      "2\n",
      "epoch: 7, train_loss: 0.0000, train_auc: 0.5128, val_auc: 0.5098, lr: 0.1000\n",
      "0\n",
      "epoch: 8, train_loss: 0.0000, train_auc: 0.5000, val_auc: 0.5050, lr: 0.1000\n",
      "1\n",
      "epoch: 9, train_loss: 0.0000, train_auc: 0.5000, val_auc: 0.5050, lr: 0.1000\n",
      "2\n",
      "epoch: 10, train_loss: 0.0000, train_auc: 0.5000, val_auc: 0.4950, lr: 0.1000\n",
      "3\n",
      "epoch: 11, train_loss: 0.0000, train_auc: 0.5000, val_auc: 0.5000, lr: 0.1000\n",
      "0\n",
      "epoch: 12, train_loss: 0.0000, train_auc: 0.5000, val_auc: 0.5000, lr: 0.1000\n",
      "1\n",
      "epoch: 13, train_loss: 0.0000, train_auc: 0.4994, val_auc: 0.4975, lr: 0.1000\n",
      "2\n",
      "epoch: 14, train_loss: 0.0000, train_auc: 0.5000, val_auc: 0.5050, lr: 0.1000\n",
      "0\n",
      "epoch: 15, train_loss: 0.0000, train_auc: 0.5000, val_auc: 0.5050, lr: 0.1000\n",
      "1\n",
      "epoch: 16, train_loss: 0.0000, train_auc: 0.5000, val_auc: 0.5000, lr: 0.1000\n",
      "2\n",
      "epoch: 17, train_loss: 0.0000, train_auc: 0.5000, val_auc: 0.5050, lr: 0.1000\n",
      "0\n",
      "epoch: 18, train_loss: 0.0000, train_auc: 0.5006, val_auc: 0.4975, lr: 0.1000\n",
      "1\n",
      "epoch: 19, train_loss: 0.0000, train_auc: 0.5000, val_auc: 0.5000, lr: 0.1000\n",
      "2\n",
      "epoch: 20, train_loss: 0.0000, train_auc: 0.5000, val_auc: 0.5050, lr: 0.1000\n",
      "0\n",
      "epoch: 21, train_loss: 0.0000, train_auc: 0.5000, val_auc: 0.5000, lr: 0.1000\n",
      "1\n",
      "epoch: 22, train_loss: 0.0000, train_auc: 0.5000, val_auc: 0.5050, lr: 0.1000\n",
      "0\n",
      "epoch: 23, train_loss: 0.0000, train_auc: 0.5006, val_auc: 0.5025, lr: 0.1000\n",
      "1\n",
      "epoch: 24, train_loss: 0.0000, train_auc: 0.5006, val_auc: 0.5025, lr: 0.1000\n",
      "2\n",
      "epoch: 25, train_loss: 0.0000, train_auc: 0.5000, val_auc: 0.5000, lr: 0.1000\n",
      "3\n",
      "epoch: 26, train_loss: 0.0000, train_auc: 0.5006, val_auc: 0.4925, lr: 0.1000\n",
      "4\n",
      "epoch: 27, train_loss: 0.0000, train_auc: 0.5000, val_auc: 0.5050, lr: 0.1000\n",
      "0\n",
      "epoch: 28, train_loss: 0.0000, train_auc: 0.5000, val_auc: 0.5050, lr: 0.1000\n",
      "1\n",
      "epoch: 29, train_loss: 0.0000, train_auc: 0.5000, val_auc: 0.4950, lr: 0.1000\n",
      "2\n",
      "epoch: 30, train_loss: 0.0000, train_auc: 0.5000, val_auc: 0.4950, lr: 0.1000\n",
      "3\n",
      "epoch: 31, train_loss: 0.0000, train_auc: 0.4994, val_auc: 0.4975, lr: 0.1000\n",
      "4\n",
      "epoch: 32, train_loss: 0.0000, train_auc: 0.5000, val_auc: 0.5050, lr: 0.1000\n",
      "0\n",
      "epoch: 33, train_loss: 0.0000, train_auc: 0.4994, val_auc: 0.5025, lr: 0.1000\n",
      "1\n",
      "epoch: 34, train_loss: 0.0000, train_auc: 0.5006, val_auc: 0.4975, lr: 0.1000\n",
      "2\n",
      "epoch: 35, train_loss: 0.0000, train_auc: 0.5000, val_auc: 0.4950, lr: 0.1000\n",
      "3\n",
      "epoch: 36, train_loss: 0.0000, train_auc: 0.4994, val_auc: 0.5025, lr: 0.1000\n",
      "0\n",
      "epoch: 37, train_loss: 0.0000, train_auc: 0.5000, val_auc: 0.4950, lr: 0.1000\n",
      "1\n",
      "epoch: 38, train_loss: 0.0000, train_auc: 0.5000, val_auc: 0.5050, lr: 0.1000\n",
      "0\n",
      "epoch: 39, train_loss: 0.0000, train_auc: 0.5006, val_auc: 0.4975, lr: 0.1000\n",
      "1\n",
      "epoch: 40, train_loss: 0.0000, train_auc: 0.5006, val_auc: 0.4975, lr: 0.1000\n",
      "2\n",
      "epoch: 41, train_loss: 0.0000, train_auc: 0.5006, val_auc: 0.4925, lr: 0.1000\n",
      "3\n",
      "epoch: 42, train_loss: 0.0000, train_auc: 0.4994, val_auc: 0.5075, lr: 0.1000\n",
      "0\n",
      "epoch: 43, train_loss: 0.0000, train_auc: 0.5006, val_auc: 0.5025, lr: 0.1000\n",
      "1\n",
      "epoch: 44, train_loss: 0.0000, train_auc: 0.4994, val_auc: 0.5075, lr: 0.1000\n",
      "0\n",
      "epoch: 45, train_loss: 0.0000, train_auc: 0.5006, val_auc: 0.4975, lr: 0.1000\n",
      "1\n",
      "epoch: 46, train_loss: 0.0000, train_auc: 0.4994, val_auc: 0.5075, lr: 0.1000\n",
      "0\n",
      "epoch: 47, train_loss: 0.0000, train_auc: 0.5000, val_auc: 0.5050, lr: 0.1000\n",
      "1\n",
      "epoch: 48, train_loss: 0.0000, train_auc: 0.5006, val_auc: 0.5025, lr: 0.1000\n",
      "2\n",
      "epoch: 49, train_loss: 0.0000, train_auc: 0.4994, val_auc: 0.5025, lr: 0.1000\n",
      "3\n",
      "Validation : 0.5025\n",
      "optimzer: adam, step size: 0.001, batch size: 256\n",
      "Start Training\n",
      "------------------------------\n",
      "epoch: 0, train_loss: 0.0728, train_auc: 0.4442, val_auc: 0.4439, lr: 0.0010\n",
      "0\n",
      "epoch: 1, train_loss: 0.0001, train_auc: 0.4985, val_auc: 0.5020, lr: 0.0010\n",
      "0\n",
      "epoch: 2, train_loss: 0.0000, train_auc: 0.5371, val_auc: 0.5297, lr: 0.0010\n",
      "0\n",
      "epoch: 3, train_loss: 0.0000, train_auc: 0.5564, val_auc: 0.5376, lr: 0.0010\n",
      "0\n",
      "epoch: 4, train_loss: 0.0000, train_auc: 0.5238, val_auc: 0.5098, lr: 0.0010\n",
      "1\n",
      "epoch: 5, train_loss: 0.0000, train_auc: 0.5123, val_auc: 0.4971, lr: 0.0010\n",
      "2\n",
      "epoch: 6, train_loss: 0.0000, train_auc: 0.5239, val_auc: 0.4943, lr: 0.0010\n",
      "3\n",
      "epoch: 7, train_loss: 0.0000, train_auc: 0.5160, val_auc: 0.4724, lr: 0.0010\n",
      "4\n",
      "epoch: 8, train_loss: 0.0000, train_auc: 0.4959, val_auc: 0.4490, lr: 0.0010\n",
      "5\n",
      "epoch: 9, train_loss: 0.0000, train_auc: 0.4948, val_auc: 0.4455, lr: 0.0010\n",
      "6\n",
      "epoch: 10, train_loss: 0.0000, train_auc: 0.4987, val_auc: 0.4420, lr: 0.0010\n",
      "7\n",
      "Early stopping\n",
      "Validation : 0.4875\n",
      "optimzer: adam, step size: 0.1, batch size: 256\n",
      "Start Training\n",
      "------------------------------\n",
      "epoch: 0, train_loss: 0.0219, train_auc: 0.4595, val_auc: 0.4657, lr: 0.1000\n",
      "0\n",
      "epoch: 1, train_loss: 0.0000, train_auc: 0.5709, val_auc: 0.5675, lr: 0.1000\n",
      "0\n",
      "epoch: 2, train_loss: 0.0000, train_auc: 0.5647, val_auc: 0.5478, lr: 0.1000\n",
      "1\n",
      "epoch: 3, train_loss: 0.0000, train_auc: 0.5430, val_auc: 0.5345, lr: 0.1000\n",
      "2\n",
      "epoch: 4, train_loss: 0.0000, train_auc: 0.5589, val_auc: 0.5067, lr: 0.1000\n",
      "3\n",
      "epoch: 5, train_loss: 0.0000, train_auc: 0.5300, val_auc: 0.5052, lr: 0.1000\n",
      "4\n",
      "epoch: 6, train_loss: 0.0000, train_auc: 0.5664, val_auc: 0.5298, lr: 0.1000\n",
      "0\n",
      "epoch: 7, train_loss: 0.0000, train_auc: 0.5448, val_auc: 0.4893, lr: 0.1000\n",
      "1\n",
      "epoch: 8, train_loss: 0.0000, train_auc: 0.4560, val_auc: 0.4637, lr: 0.1000\n",
      "2\n",
      "epoch: 9, train_loss: 0.0000, train_auc: 0.4771, val_auc: 0.4718, lr: 0.1000\n",
      "0\n",
      "epoch: 10, train_loss: 0.0000, train_auc: 0.4576, val_auc: 0.4577, lr: 0.1000\n",
      "1\n",
      "epoch: 11, train_loss: 0.0000, train_auc: 0.4670, val_auc: 0.4725, lr: 0.1000\n",
      "0\n",
      "epoch: 12, train_loss: 0.0000, train_auc: 0.5000, val_auc: 0.5000, lr: 0.1000\n",
      "0\n",
      "epoch: 13, train_loss: 0.0000, train_auc: 0.4807, val_auc: 0.5110, lr: 0.1000\n",
      "0\n",
      "epoch: 14, train_loss: 0.0000, train_auc: 0.5006, val_auc: 0.5077, lr: 0.1000\n",
      "1\n",
      "epoch: 15, train_loss: 0.0000, train_auc: 0.5006, val_auc: 0.5129, lr: 0.1000\n",
      "0\n",
      "epoch: 16, train_loss: 0.0000, train_auc: 0.5000, val_auc: 0.4948, lr: 0.1000\n",
      "1\n",
      "epoch: 17, train_loss: 0.0000, train_auc: 0.5006, val_auc: 0.5023, lr: 0.1000\n",
      "0\n",
      "epoch: 18, train_loss: 0.0000, train_auc: 0.5006, val_auc: 0.5129, lr: 0.1000\n",
      "0\n",
      "epoch: 19, train_loss: 0.0000, train_auc: 0.5000, val_auc: 0.4948, lr: 0.1000\n",
      "1\n",
      "epoch: 20, train_loss: 0.0000, train_auc: 0.5000, val_auc: 0.5000, lr: 0.1000\n",
      "0\n",
      "epoch: 21, train_loss: 0.0000, train_auc: 0.4994, val_auc: 0.4923, lr: 0.1000\n",
      "1\n",
      "epoch: 22, train_loss: 0.0000, train_auc: 0.5000, val_auc: 0.4948, lr: 0.1000\n",
      "2\n",
      "epoch: 23, train_loss: 0.0000, train_auc: 0.5000, val_auc: 0.5052, lr: 0.1000\n",
      "0\n"
     ]
    },
    {
     "name": "stdout",
     "output_type": "stream",
     "text": [
      "epoch: 24, train_loss: 0.0000, train_auc: 0.5000, val_auc: 0.5052, lr: 0.1000\n",
      "1\n",
      "epoch: 25, train_loss: 0.0000, train_auc: 0.5000, val_auc: 0.5052, lr: 0.1000\n",
      "2\n",
      "epoch: 26, train_loss: 0.0000, train_auc: 0.5006, val_auc: 0.5128, lr: 0.1000\n",
      "0\n",
      "epoch: 27, train_loss: 0.0000, train_auc: 0.5006, val_auc: 0.5129, lr: 0.1000\n",
      "1\n",
      "epoch: 28, train_loss: 0.0000, train_auc: 0.5000, val_auc: 0.5052, lr: 0.1000\n",
      "2\n",
      "epoch: 29, train_loss: 0.0000, train_auc: 0.5006, val_auc: 0.5129, lr: 0.1000\n",
      "0\n",
      "epoch: 30, train_loss: 0.0000, train_auc: 0.5000, val_auc: 0.5052, lr: 0.1000\n",
      "1\n",
      "epoch: 31, train_loss: 0.0000, train_auc: 0.5000, val_auc: 0.5000, lr: 0.1000\n",
      "2\n",
      "epoch: 32, train_loss: 0.0000, train_auc: 0.5000, val_auc: 0.4948, lr: 0.1000\n",
      "3\n",
      "epoch: 33, train_loss: 0.0000, train_auc: 0.4994, val_auc: 0.4923, lr: 0.1000\n",
      "4\n",
      "epoch: 34, train_loss: 0.0000, train_auc: 0.4994, val_auc: 0.4871, lr: 0.1000\n",
      "5\n",
      "epoch: 35, train_loss: 0.0000, train_auc: 0.5006, val_auc: 0.5023, lr: 0.1000\n",
      "0\n",
      "epoch: 36, train_loss: 0.0000, train_auc: 0.5006, val_auc: 0.5023, lr: 0.1000\n",
      "1\n",
      "epoch: 37, train_loss: 0.0000, train_auc: 0.5006, val_auc: 0.5128, lr: 0.1000\n",
      "0\n",
      "epoch: 38, train_loss: 0.0000, train_auc: 0.4994, val_auc: 0.4977, lr: 0.1000\n",
      "1\n",
      "epoch: 39, train_loss: 0.0000, train_auc: 0.4994, val_auc: 0.4871, lr: 0.1000\n",
      "2\n",
      "epoch: 40, train_loss: 0.0000, train_auc: 0.5000, val_auc: 0.5000, lr: 0.1000\n",
      "0\n",
      "epoch: 41, train_loss: 0.0000, train_auc: 0.4994, val_auc: 0.4923, lr: 0.1000\n",
      "1\n",
      "epoch: 42, train_loss: 0.0000, train_auc: 0.5000, val_auc: 0.5000, lr: 0.1000\n",
      "0\n",
      "epoch: 43, train_loss: 0.0000, train_auc: 0.4994, val_auc: 0.4977, lr: 0.1000\n",
      "1\n",
      "epoch: 44, train_loss: 0.0000, train_auc: 0.5006, val_auc: 0.5129, lr: 0.1000\n",
      "0\n",
      "epoch: 45, train_loss: 0.0000, train_auc: 0.5000, val_auc: 0.5000, lr: 0.1000\n",
      "1\n",
      "epoch: 46, train_loss: 0.0000, train_auc: 0.5000, val_auc: 0.5052, lr: 0.1000\n",
      "0\n",
      "epoch: 47, train_loss: 0.0000, train_auc: 0.5006, val_auc: 0.5129, lr: 0.1000\n",
      "0\n",
      "epoch: 48, train_loss: 0.0000, train_auc: 0.5000, val_auc: 0.5000, lr: 0.1000\n",
      "1\n",
      "epoch: 49, train_loss: 0.0000, train_auc: 0.5000, val_auc: 0.5052, lr: 0.1000\n",
      "0\n",
      "Validation : 0.5052\n",
      "optimzer: PESG, step size: 0.001, batch size: 128\n",
      "Start Training\n",
      "------------------------------\n",
      "epoch: 0, train_loss: 0.0858, train_auc: 0.5294, val_auc: 0.5553, lr: 0.0010\n",
      "0\n",
      "epoch: 1, train_loss: 0.0716, train_auc: 0.4462, val_auc: 0.4717, lr: 0.0010\n",
      "1\n",
      "epoch: 2, train_loss: 0.0676, train_auc: 0.4625, val_auc: 0.4299, lr: 0.0010\n",
      "2\n",
      "epoch: 3, train_loss: 0.0691, train_auc: 0.4874, val_auc: 0.4351, lr: 0.0010\n",
      "0\n",
      "epoch: 4, train_loss: 0.0728, train_auc: 0.5024, val_auc: 0.4426, lr: 0.0010\n",
      "0\n",
      "epoch: 5, train_loss: 0.0789, train_auc: 0.5246, val_auc: 0.4589, lr: 0.0010\n",
      "0\n",
      "epoch: 6, train_loss: 0.0851, train_auc: 0.5459, val_auc: 0.4687, lr: 0.0010\n",
      "0\n",
      "epoch: 7, train_loss: 0.0911, train_auc: 0.5677, val_auc: 0.4887, lr: 0.0010\n",
      "0\n",
      "epoch: 8, train_loss: 0.0977, train_auc: 0.5915, val_auc: 0.5051, lr: 0.0010\n",
      "0\n",
      "epoch: 9, train_loss: 0.1031, train_auc: 0.6170, val_auc: 0.5205, lr: 0.0010\n",
      "0\n",
      "epoch: 10, train_loss: 0.1100, train_auc: 0.6376, val_auc: 0.5432, lr: 0.0010\n",
      "0\n",
      "epoch: 11, train_loss: 0.1156, train_auc: 0.6589, val_auc: 0.5520, lr: 0.0010\n",
      "0\n",
      "epoch: 12, train_loss: 0.1213, train_auc: 0.6891, val_auc: 0.5751, lr: 0.0010\n",
      "0\n",
      "epoch: 13, train_loss: 0.1255, train_auc: 0.7086, val_auc: 0.5928, lr: 0.0010\n",
      "0\n",
      "epoch: 14, train_loss: 0.1315, train_auc: 0.7360, val_auc: 0.6050, lr: 0.0010\n",
      "0\n",
      "epoch: 15, train_loss: 0.1372, train_auc: 0.7542, val_auc: 0.6195, lr: 0.0010\n",
      "0\n",
      "epoch: 16, train_loss: 0.1415, train_auc: 0.7770, val_auc: 0.6378, lr: 0.0010\n",
      "0\n",
      "epoch: 17, train_loss: 0.1450, train_auc: 0.7936, val_auc: 0.6503, lr: 0.0010\n",
      "0\n",
      "epoch: 18, train_loss: 0.1479, train_auc: 0.8082, val_auc: 0.6686, lr: 0.0010\n",
      "0\n",
      "epoch: 19, train_loss: 0.1524, train_auc: 0.8291, val_auc: 0.6850, lr: 0.0010\n",
      "0\n",
      "epoch: 20, train_loss: 0.1537, train_auc: 0.8422, val_auc: 0.6980, lr: 0.0010\n",
      "0\n",
      "epoch: 21, train_loss: 0.1593, train_auc: 0.8542, val_auc: 0.7140, lr: 0.0010\n",
      "0\n",
      "epoch: 22, train_loss: 0.1612, train_auc: 0.8697, val_auc: 0.7288, lr: 0.0010\n",
      "0\n",
      "epoch: 23, train_loss: 0.1641, train_auc: 0.8783, val_auc: 0.7420, lr: 0.0010\n",
      "0\n",
      "epoch: 24, train_loss: 0.1653, train_auc: 0.8836, val_auc: 0.7505, lr: 0.0010\n",
      "0\n",
      "epoch: 25, train_loss: 0.1685, train_auc: 0.8972, val_auc: 0.7675, lr: 0.0010\n",
      "0\n",
      "epoch: 26, train_loss: 0.1697, train_auc: 0.9024, val_auc: 0.7747, lr: 0.0010\n",
      "0\n",
      "epoch: 27, train_loss: 0.1704, train_auc: 0.9116, val_auc: 0.7841, lr: 0.0010\n",
      "0\n",
      "epoch: 28, train_loss: 0.1715, train_auc: 0.9115, val_auc: 0.7944, lr: 0.0010\n",
      "0\n",
      "epoch: 29, train_loss: 0.1711, train_auc: 0.9202, val_auc: 0.8022, lr: 0.0010\n",
      "0\n",
      "epoch: 30, train_loss: 0.1707, train_auc: 0.9251, val_auc: 0.8084, lr: 0.0010\n",
      "0\n",
      "epoch: 31, train_loss: 0.1731, train_auc: 0.9290, val_auc: 0.8118, lr: 0.0010\n",
      "1\n",
      "epoch: 32, train_loss: 0.1730, train_auc: 0.9334, val_auc: 0.8242, lr: 0.0010\n",
      "0\n",
      "epoch: 33, train_loss: 0.1722, train_auc: 0.9364, val_auc: 0.8384, lr: 0.0010\n",
      "0\n",
      "epoch: 34, train_loss: 0.1717, train_auc: 0.9401, val_auc: 0.8350, lr: 0.0010\n",
      "1\n",
      "epoch: 35, train_loss: 0.1704, train_auc: 0.9419, val_auc: 0.8355, lr: 0.0010\n",
      "2\n",
      "epoch: 36, train_loss: 0.1691, train_auc: 0.9437, val_auc: 0.8476, lr: 0.0010\n",
      "0\n",
      "epoch: 37, train_loss: 0.1673, train_auc: 0.9474, val_auc: 0.8624, lr: 0.0010\n",
      "0\n",
      "epoch: 38, train_loss: 0.1677, train_auc: 0.9495, val_auc: 0.8617, lr: 0.0010\n",
      "1\n",
      "epoch: 39, train_loss: 0.1658, train_auc: 0.9533, val_auc: 0.8701, lr: 0.0010\n",
      "0\n",
      "epoch: 40, train_loss: 0.1634, train_auc: 0.9523, val_auc: 0.8673, lr: 0.0010\n",
      "1\n",
      "epoch: 41, train_loss: 0.1627, train_auc: 0.9563, val_auc: 0.8776, lr: 0.0010\n",
      "0\n",
      "epoch: 42, train_loss: 0.1590, train_auc: 0.9597, val_auc: 0.8842, lr: 0.0010\n",
      "0\n",
      "epoch: 43, train_loss: 0.1567, train_auc: 0.9595, val_auc: 0.8882, lr: 0.0010\n",
      "1\n",
      "epoch: 44, train_loss: 0.1544, train_auc: 0.9632, val_auc: 0.8886, lr: 0.0010\n",
      "2\n",
      "epoch: 45, train_loss: 0.1535, train_auc: 0.9645, val_auc: 0.8923, lr: 0.0010\n",
      "3\n",
      "epoch: 46, train_loss: 0.1490, train_auc: 0.9670, val_auc: 0.8960, lr: 0.0010\n",
      "4\n",
      "epoch: 47, train_loss: 0.1480, train_auc: 0.9675, val_auc: 0.9031, lr: 0.0010\n",
      "0\n",
      "epoch: 48, train_loss: 0.1444, train_auc: 0.9682, val_auc: 0.9060, lr: 0.0010\n",
      "1\n",
      "epoch: 49, train_loss: 0.1428, train_auc: 0.9691, val_auc: 0.9049, lr: 0.0010\n",
      "2\n",
      "Validation : 0.8852\n",
      "optimzer: PESG, step size: 0.1, batch size: 128\n",
      "Start Training\n",
      "------------------------------\n",
      "epoch: 0, train_loss: 0.1874, train_auc: 0.5654, val_auc: 0.5822, lr: 0.1000\n",
      "0\n",
      "epoch: 1, train_loss: 0.1424, train_auc: 0.7000, val_auc: 0.7084, lr: 0.1000\n",
      "0\n",
      "epoch: 2, train_loss: 0.1092, train_auc: 0.8317, val_auc: 0.8352, lr: 0.1000\n",
      "0\n",
      "epoch: 3, train_loss: 0.0807, train_auc: 0.8693, val_auc: 0.8598, lr: 0.1000\n",
      "0\n",
      "epoch: 4, train_loss: 0.0728, train_auc: 0.8833, val_auc: 0.8720, lr: 0.1000\n",
      "0\n",
      "epoch: 5, train_loss: 0.0650, train_auc: 0.8861, val_auc: 0.8560, lr: 0.1000\n",
      "1\n",
      "epoch: 6, train_loss: 0.0540, train_auc: 0.9345, val_auc: 0.9011, lr: 0.1000\n",
      "0\n",
      "epoch: 7, train_loss: 0.0428, train_auc: 0.9441, val_auc: 0.9215, lr: 0.1000\n",
      "0\n",
      "epoch: 8, train_loss: 0.0316, train_auc: 0.9435, val_auc: 0.9091, lr: 0.1000\n",
      "1\n",
      "epoch: 9, train_loss: 0.0308, train_auc: 0.9700, val_auc: 0.9195, lr: 0.1000\n",
      "0\n",
      "epoch: 10, train_loss: 0.0221, train_auc: 0.9089, val_auc: 0.8209, lr: 0.1000\n",
      "1\n",
      "epoch: 11, train_loss: 0.0169, train_auc: 0.9829, val_auc: 0.9400, lr: 0.1000\n",
      "0\n",
      "epoch: 12, train_loss: 0.0115, train_auc: 0.9896, val_auc: 0.9557, lr: 0.1000\n",
      "0\n",
      "epoch: 13, train_loss: 0.0089, train_auc: 0.9757, val_auc: 0.9294, lr: 0.1000\n",
      "1\n",
      "epoch: 14, train_loss: 0.0071, train_auc: 0.9935, val_auc: 0.9677, lr: 0.1000\n",
      "0\n",
      "epoch: 15, train_loss: 0.0034, train_auc: 0.9936, val_auc: 0.9695, lr: 0.1000\n",
      "1\n",
      "epoch: 16, train_loss: 0.0045, train_auc: 0.9946, val_auc: 0.9662, lr: 0.1000\n",
      "2\n",
      "epoch: 17, train_loss: 0.0036, train_auc: 0.9964, val_auc: 0.9707, lr: 0.1000\n",
      "3\n",
      "epoch: 18, train_loss: 0.0025, train_auc: 0.9974, val_auc: 0.9750, lr: 0.1000\n",
      "4\n",
      "epoch: 19, train_loss: 0.0025, train_auc: 0.9964, val_auc: 0.9775, lr: 0.1000\n",
      "5\n",
      "epoch: 20, train_loss: 0.0040, train_auc: 0.9980, val_auc: 0.9654, lr: 0.1000\n",
      "6\n",
      "epoch: 21, train_loss: 0.0031, train_auc: 0.9960, val_auc: 0.9612, lr: 0.1000\n",
      "7\n",
      "Early stopping\n",
      "Validation : 0.9667\n",
      "optimzer: PESG, step size: 0.001, batch size: 256\n",
      "Start Training\n",
      "------------------------------\n",
      "epoch: 0, train_loss: 0.0420, train_auc: 0.5411, val_auc: 0.5349, lr: 0.0010\n",
      "0\n"
     ]
    },
    {
     "name": "stdout",
     "output_type": "stream",
     "text": [
      "epoch: 1, train_loss: 0.0429, train_auc: 0.5231, val_auc: 0.5280, lr: 0.0010\n",
      "1\n",
      "epoch: 2, train_loss: 0.0446, train_auc: 0.5290, val_auc: 0.5138, lr: 0.0010\n",
      "2\n",
      "epoch: 3, train_loss: 0.0471, train_auc: 0.5357, val_auc: 0.5052, lr: 0.0010\n",
      "3\n",
      "epoch: 4, train_loss: 0.0495, train_auc: 0.5287, val_auc: 0.4957, lr: 0.0010\n",
      "4\n",
      "epoch: 5, train_loss: 0.0535, train_auc: 0.5297, val_auc: 0.4879, lr: 0.0010\n",
      "5\n",
      "epoch: 6, train_loss: 0.0568, train_auc: 0.5356, val_auc: 0.4814, lr: 0.0010\n",
      "6\n",
      "epoch: 7, train_loss: 0.0614, train_auc: 0.5411, val_auc: 0.4839, lr: 0.0010\n",
      "7\n",
      "Early stopping\n",
      "Validation : 0.4757\n",
      "optimzer: PESG, step size: 0.1, batch size: 256\n",
      "Start Training\n",
      "------------------------------\n",
      "epoch: 0, train_loss: 0.1675, train_auc: 0.4963, val_auc: 0.4944, lr: 0.1000\n",
      "0\n",
      "epoch: 1, train_loss: 0.2017, train_auc: 0.6893, val_auc: 0.7022, lr: 0.1000\n",
      "0\n",
      "epoch: 2, train_loss: 0.1403, train_auc: 0.5838, val_auc: 0.6042, lr: 0.1000\n",
      "1\n",
      "epoch: 3, train_loss: 0.1164, train_auc: 0.5471, val_auc: 0.5348, lr: 0.1000\n",
      "2\n",
      "epoch: 4, train_loss: 0.1028, train_auc: 0.8380, val_auc: 0.8479, lr: 0.1000\n",
      "0\n",
      "epoch: 5, train_loss: 0.0657, train_auc: 0.8069, val_auc: 0.8123, lr: 0.1000\n",
      "1\n",
      "epoch: 6, train_loss: 0.0696, train_auc: 0.8392, val_auc: 0.8140, lr: 0.1000\n",
      "2\n",
      "epoch: 7, train_loss: 0.0645, train_auc: 0.8946, val_auc: 0.8496, lr: 0.1000\n",
      "0\n",
      "epoch: 8, train_loss: 0.0403, train_auc: 0.8923, val_auc: 0.8653, lr: 0.1000\n",
      "0\n",
      "epoch: 9, train_loss: 0.0379, train_auc: 0.9441, val_auc: 0.9170, lr: 0.1000\n",
      "0\n",
      "epoch: 10, train_loss: 0.0246, train_auc: 0.9440, val_auc: 0.9264, lr: 0.1000\n",
      "0\n",
      "epoch: 11, train_loss: 0.0269, train_auc: 0.9450, val_auc: 0.9086, lr: 0.1000\n",
      "1\n",
      "epoch: 12, train_loss: 0.0258, train_auc: 0.9602, val_auc: 0.9237, lr: 0.1000\n",
      "0\n",
      "epoch: 13, train_loss: 0.0195, train_auc: 0.9686, val_auc: 0.9374, lr: 0.1000\n",
      "0\n",
      "epoch: 14, train_loss: 0.0156, train_auc: 0.9703, val_auc: 0.9472, lr: 0.1000\n",
      "0\n",
      "epoch: 15, train_loss: 0.0130, train_auc: 0.9751, val_auc: 0.9444, lr: 0.1000\n",
      "1\n",
      "epoch: 16, train_loss: 0.0137, train_auc: 0.9793, val_auc: 0.9487, lr: 0.1000\n",
      "2\n",
      "epoch: 17, train_loss: 0.0105, train_auc: 0.9820, val_auc: 0.9509, lr: 0.1000\n",
      "3\n",
      "epoch: 18, train_loss: 0.0121, train_auc: 0.9836, val_auc: 0.9536, lr: 0.1000\n",
      "4\n",
      "epoch: 19, train_loss: 0.0093, train_auc: 0.9814, val_auc: 0.9454, lr: 0.1000\n",
      "5\n",
      "epoch: 20, train_loss: 0.0103, train_auc: 0.9851, val_auc: 0.9608, lr: 0.1000\n",
      "0\n",
      "epoch: 21, train_loss: 0.0068, train_auc: 0.9867, val_auc: 0.9611, lr: 0.1000\n",
      "1\n",
      "epoch: 22, train_loss: 0.0075, train_auc: 0.9663, val_auc: 0.9147, lr: 0.1000\n",
      "2\n",
      "epoch: 23, train_loss: 0.0174, train_auc: 0.9899, val_auc: 0.9442, lr: 0.1000\n",
      "0\n",
      "epoch: 24, train_loss: 0.0090, train_auc: 0.9920, val_auc: 0.9541, lr: 0.1000\n",
      "0\n",
      "epoch: 25, train_loss: 0.0042, train_auc: 0.9927, val_auc: 0.9549, lr: 0.1000\n",
      "1\n",
      "epoch: 26, train_loss: 0.0038, train_auc: 0.9934, val_auc: 0.9529, lr: 0.1000\n",
      "2\n",
      "epoch: 27, train_loss: 0.0035, train_auc: 0.9967, val_auc: 0.9621, lr: 0.1000\n",
      "0\n",
      "epoch: 28, train_loss: 0.0031, train_auc: 0.9962, val_auc: 0.9523, lr: 0.1000\n",
      "1\n",
      "epoch: 29, train_loss: 0.0034, train_auc: 0.9853, val_auc: 0.9279, lr: 0.1000\n",
      "2\n",
      "epoch: 30, train_loss: 0.0045, train_auc: 0.9927, val_auc: 0.9574, lr: 0.1000\n",
      "0\n",
      "epoch: 31, train_loss: 0.0094, train_auc: 0.9743, val_auc: 0.9236, lr: 0.1000\n",
      "1\n",
      "epoch: 32, train_loss: 0.0056, train_auc: 0.9689, val_auc: 0.9025, lr: 0.1000\n",
      "2\n",
      "epoch: 33, train_loss: 0.0056, train_auc: 0.9920, val_auc: 0.9466, lr: 0.1000\n",
      "0\n",
      "epoch: 34, train_loss: 0.0043, train_auc: 0.9678, val_auc: 0.9372, lr: 0.1000\n",
      "1\n",
      "epoch: 35, train_loss: 0.0100, train_auc: 0.9615, val_auc: 0.9158, lr: 0.1000\n",
      "2\n",
      "epoch: 36, train_loss: 0.0131, train_auc: 0.9675, val_auc: 0.9119, lr: 0.1000\n",
      "3\n",
      "epoch: 37, train_loss: 0.0058, train_auc: 0.9939, val_auc: 0.9487, lr: 0.1000\n",
      "0\n",
      "epoch: 38, train_loss: 0.0018, train_auc: 0.9972, val_auc: 0.9552, lr: 0.1000\n",
      "0\n",
      "epoch: 39, train_loss: 0.0010, train_auc: 0.9989, val_auc: 0.9639, lr: 0.1000\n",
      "0\n",
      "epoch: 40, train_loss: 0.0006, train_auc: 0.9987, val_auc: 0.9675, lr: 0.1000\n",
      "1\n",
      "epoch: 41, train_loss: 0.0006, train_auc: 0.9986, val_auc: 0.9668, lr: 0.1000\n",
      "2\n",
      "epoch: 42, train_loss: 0.0006, train_auc: 0.9987, val_auc: 0.9678, lr: 0.1000\n",
      "3\n",
      "epoch: 43, train_loss: 0.0006, train_auc: 0.9988, val_auc: 0.9684, lr: 0.1000\n",
      "4\n",
      "epoch: 44, train_loss: 0.0007, train_auc: 0.9990, val_auc: 0.9674, lr: 0.1000\n",
      "5\n",
      "epoch: 45, train_loss: 0.0008, train_auc: 0.9986, val_auc: 0.9592, lr: 0.1000\n",
      "6\n",
      "epoch: 46, train_loss: 0.0009, train_auc: 0.9990, val_auc: 0.9666, lr: 0.1000\n",
      "0\n",
      "epoch: 47, train_loss: 0.0006, train_auc: 0.9992, val_auc: 0.9664, lr: 0.1000\n",
      "1\n",
      "epoch: 48, train_loss: 0.0009, train_auc: 0.9965, val_auc: 0.9600, lr: 0.1000\n",
      "2\n",
      "epoch: 49, train_loss: 0.0027, train_auc: 0.9844, val_auc: 0.9186, lr: 0.1000\n",
      "3\n",
      "Validation : 0.9464\n"
     ]
    }
   ],
   "source": [
    "# resnet18 model\n",
    "from libauc.models import resnet18 as ResNet18\n",
    "\n",
    "SEED = 123\n",
    "imratio = 0.1 # for demo \n",
    "total_epochs = 50\n",
    "decay_epochs = [50, 75]\n",
    "\n",
    "\n",
    "margin = 1.0\n",
    "epoch_decay = 0.003 # refers gamma in the paper\n",
    "weight_decay = 0.0001\n",
    "\n",
    "# HyperParameters\n",
    "optmzr = ['adam', 'PESG']\n",
    "BATCH_SIZE = [128, 256]\n",
    "lr = [1e-3, 1e-1]\n",
    "\n",
    "max_auc = 0\n",
    "best_hyperparams = []  # optimizer, batch_size, lr order\n",
    "best_model = None\n",
    "# hyperparameter tuning based on gridsearch\n",
    "for i in range(len(optmzr)*len(BATCH_SIZE)*len(lr)):\n",
    "    model_i = ResNet18(pretrained=False, last_activation=None, num_classes=1, )\n",
    "    model_i.conv1 = torch.nn.Conv2d(X_train.shape[1], 64, kernel_size=7, stride=2, padding=3, bias=False)\n",
    "    \n",
    "    lr_idx = i % len(lr)\n",
    "    batch_idx = (i // len(lr)) % len(BATCH_SIZE)\n",
    "    optmzr_idx = i // (len(lr) * len(BATCH_SIZE))\n",
    "    \n",
    "    trainloader = data.DataLoader(dataset=train_d, batch_size=BATCH_SIZE[batch_idx], shuffle=True)\n",
    "    valloader = data.DataLoader(dataset=val_d, batch_size=BATCH_SIZE[batch_idx], shuffle=False, num_workers=2)\n",
    "    trainloader_eval = data.DataLoader(train_d, batch_size=BATCH_SIZE[batch_idx], shuffle=False, num_workers=2)\n",
    "    \n",
    "\n",
    "    # loss and optimizer\n",
    "    loss_fn = AUCMLoss()\n",
    "\n",
    "    if optmzr[optmzr_idx] == 'adam':  # use adam optimizer\n",
    "        #optimizer = torch.optim.Adam(model_i.parameters(), lr=lr[lr_idx], weight_decay=weight_decay)\n",
    "        optimizer = Adam(model_i,\n",
    "                 lr=lr[lr_idx],\n",
    "                 weight_decay=weight_decay)\n",
    "    elif optmzr[optmzr_idx] == 'momentum':  # use momentous SGD optimzer\n",
    "        #optimizer = optim.SGD(model_i.parameters(), lr=lr[lr_idx], momentum=0.9)\n",
    "        optimizer = SGD(model_i, \n",
    "                 lr=lr[lr_idx],\n",
    "                 momentum=0.9,\n",
    "                 weight_decay=weight_decay)\n",
    "    else:  # PESG\n",
    "        optimizer = PESG(model_i, \n",
    "                 loss_fn=loss_fn,\n",
    "                 lr=lr[lr_idx], \n",
    "                 momentum=0.9,\n",
    "                 #margin=margin)\n",
    "                 margin=margin, \n",
    "                 epoch_decay=epoch_decay, \n",
    "                 weight_decay=weight_decay)\n",
    "    \n",
    "    print(f\"optimzer: {optmzr[optmzr_idx]}, step size: {lr[lr_idx]}, batch size: {BATCH_SIZE[batch_idx]}\")\n",
    "    train(model_i, loss_fn, optimizer, total_epochs, trainloader, trainloader_eval, valloader,\n",
    "          patience=7, decay_epochs=decay_epochs)\n",
    "\n",
    "    # evaluate the performance on validation set to select the best hyperparameters\n",
    "    val_loader = data.DataLoader(dataset=val_d, batch_size=BATCH_SIZE[batch_idx], num_workers=2)\n",
    "    score_list = list()\n",
    "    label_list = list()\n",
    "    for _, d in enumerate(val_loader, 0):\n",
    "        tmp_data, tmp_label = d\n",
    "        #tmp_data, tmp_label = tmp_data.cuda(), tmp_label.cuda()\n",
    "\n",
    "        tmp_score = model_i(tmp_data).detach().clone().cpu()\n",
    "        #print(tmp_score)\n",
    "        score_list.append(tmp_score)\n",
    "        label_list.append(tmp_label.cpu())\n",
    "\n",
    "    val_label = torch.cat(label_list)\n",
    "    val_score = torch.cat(score_list)\n",
    "\n",
    "    val_auc = metrics.roc_auc_score(val_label, val_score)                   \n",
    "    print(\"Validation : %.4f\"%val_auc, flush=True)\n",
    "                        #val_auc??\n",
    "    if val_auc > max_auc:\n",
    "        #val_auc??\n",
    "        max_auc = val_auc #val_auc?\n",
    "        best_hyperparams = [optmzr[optmzr_idx], lr[lr_idx], BATCH_SIZE[batch_idx]]\n",
    "        best_model = model_i"
   ]
  },
  {
   "cell_type": "code",
   "execution_count": 72,
   "id": "fbf118bc",
   "metadata": {},
   "outputs": [
    {
     "name": "stdout",
     "output_type": "stream",
     "text": [
      "Test : 0.8016\n"
     ]
    }
   ],
   "source": [
    "batch_size = best_hyperparams[2]\n",
    "X_test = torch.from_numpy(test_dataset.imgs)\n",
    "X_test = X_test.float()\n",
    "test_d = torch.utils.data.TensorDataset(X_test, torch.from_numpy(test_dataset.labels))\n",
    "\n",
    "test_loader = data.DataLoader(dataset=test_d, batch_size=batch_size)\n",
    "\n",
    "# Testing AUC\n",
    "score_list = list()\n",
    "label_list = list()\n",
    "for _, d in enumerate(test_loader, 0):\n",
    "    tmp_data, tmp_label = d\n",
    "    #tmp_data, tmp_label = tmp_data.cuda(), tmp_label.cuda()\n",
    "    \n",
    "    tmp_score = best_model(tmp_data).detach().clone().cpu()\n",
    "    score_list.append(tmp_score)\n",
    "    label_list.append(tmp_label.cpu())\n",
    "\n",
    "test_label = torch.cat(label_list)\n",
    "test_score = torch.cat(score_list)\n",
    "                   \n",
    "test_auc = metrics.roc_auc_score(test_label, test_score)                   \n",
    "print(\"Test : %.4f\"%test_auc, flush=True)"
   ]
  },
  {
   "cell_type": "code",
   "execution_count": 73,
   "id": "e3aa57be",
   "metadata": {},
   "outputs": [
    {
     "data": {
      "text/plain": [
       "ResNet(\n",
       "  (conv1): Conv2d(28, 64, kernel_size=(7, 7), stride=(2, 2), padding=(3, 3), bias=False)\n",
       "  (bn1): BatchNorm2d(64, eps=1e-05, momentum=0.1, affine=True, track_running_stats=True)\n",
       "  (relu): ReLU(inplace=True)\n",
       "  (maxpool): MaxPool2d(kernel_size=3, stride=2, padding=1, dilation=1, ceil_mode=False)\n",
       "  (layer1): Sequential(\n",
       "    (0): BasicBlock(\n",
       "      (conv1): Conv2d(64, 64, kernel_size=(3, 3), stride=(1, 1), padding=(1, 1), bias=False)\n",
       "      (bn1): BatchNorm2d(64, eps=1e-05, momentum=0.1, affine=True, track_running_stats=True)\n",
       "      (relu): ReLU(inplace=True)\n",
       "      (conv2): Conv2d(64, 64, kernel_size=(3, 3), stride=(1, 1), padding=(1, 1), bias=False)\n",
       "      (bn2): BatchNorm2d(64, eps=1e-05, momentum=0.1, affine=True, track_running_stats=True)\n",
       "    )\n",
       "    (1): BasicBlock(\n",
       "      (conv1): Conv2d(64, 64, kernel_size=(3, 3), stride=(1, 1), padding=(1, 1), bias=False)\n",
       "      (bn1): BatchNorm2d(64, eps=1e-05, momentum=0.1, affine=True, track_running_stats=True)\n",
       "      (relu): ReLU(inplace=True)\n",
       "      (conv2): Conv2d(64, 64, kernel_size=(3, 3), stride=(1, 1), padding=(1, 1), bias=False)\n",
       "      (bn2): BatchNorm2d(64, eps=1e-05, momentum=0.1, affine=True, track_running_stats=True)\n",
       "    )\n",
       "  )\n",
       "  (layer2): Sequential(\n",
       "    (0): BasicBlock(\n",
       "      (conv1): Conv2d(64, 128, kernel_size=(3, 3), stride=(2, 2), padding=(1, 1), bias=False)\n",
       "      (bn1): BatchNorm2d(128, eps=1e-05, momentum=0.1, affine=True, track_running_stats=True)\n",
       "      (relu): ReLU(inplace=True)\n",
       "      (conv2): Conv2d(128, 128, kernel_size=(3, 3), stride=(1, 1), padding=(1, 1), bias=False)\n",
       "      (bn2): BatchNorm2d(128, eps=1e-05, momentum=0.1, affine=True, track_running_stats=True)\n",
       "      (downsample): Sequential(\n",
       "        (0): Conv2d(64, 128, kernel_size=(1, 1), stride=(2, 2), bias=False)\n",
       "        (1): BatchNorm2d(128, eps=1e-05, momentum=0.1, affine=True, track_running_stats=True)\n",
       "      )\n",
       "    )\n",
       "    (1): BasicBlock(\n",
       "      (conv1): Conv2d(128, 128, kernel_size=(3, 3), stride=(1, 1), padding=(1, 1), bias=False)\n",
       "      (bn1): BatchNorm2d(128, eps=1e-05, momentum=0.1, affine=True, track_running_stats=True)\n",
       "      (relu): ReLU(inplace=True)\n",
       "      (conv2): Conv2d(128, 128, kernel_size=(3, 3), stride=(1, 1), padding=(1, 1), bias=False)\n",
       "      (bn2): BatchNorm2d(128, eps=1e-05, momentum=0.1, affine=True, track_running_stats=True)\n",
       "    )\n",
       "  )\n",
       "  (layer3): Sequential(\n",
       "    (0): BasicBlock(\n",
       "      (conv1): Conv2d(128, 256, kernel_size=(3, 3), stride=(2, 2), padding=(1, 1), bias=False)\n",
       "      (bn1): BatchNorm2d(256, eps=1e-05, momentum=0.1, affine=True, track_running_stats=True)\n",
       "      (relu): ReLU(inplace=True)\n",
       "      (conv2): Conv2d(256, 256, kernel_size=(3, 3), stride=(1, 1), padding=(1, 1), bias=False)\n",
       "      (bn2): BatchNorm2d(256, eps=1e-05, momentum=0.1, affine=True, track_running_stats=True)\n",
       "      (downsample): Sequential(\n",
       "        (0): Conv2d(128, 256, kernel_size=(1, 1), stride=(2, 2), bias=False)\n",
       "        (1): BatchNorm2d(256, eps=1e-05, momentum=0.1, affine=True, track_running_stats=True)\n",
       "      )\n",
       "    )\n",
       "    (1): BasicBlock(\n",
       "      (conv1): Conv2d(256, 256, kernel_size=(3, 3), stride=(1, 1), padding=(1, 1), bias=False)\n",
       "      (bn1): BatchNorm2d(256, eps=1e-05, momentum=0.1, affine=True, track_running_stats=True)\n",
       "      (relu): ReLU(inplace=True)\n",
       "      (conv2): Conv2d(256, 256, kernel_size=(3, 3), stride=(1, 1), padding=(1, 1), bias=False)\n",
       "      (bn2): BatchNorm2d(256, eps=1e-05, momentum=0.1, affine=True, track_running_stats=True)\n",
       "    )\n",
       "  )\n",
       "  (layer4): Sequential(\n",
       "    (0): BasicBlock(\n",
       "      (conv1): Conv2d(256, 512, kernel_size=(3, 3), stride=(2, 2), padding=(1, 1), bias=False)\n",
       "      (bn1): BatchNorm2d(512, eps=1e-05, momentum=0.1, affine=True, track_running_stats=True)\n",
       "      (relu): ReLU(inplace=True)\n",
       "      (conv2): Conv2d(512, 512, kernel_size=(3, 3), stride=(1, 1), padding=(1, 1), bias=False)\n",
       "      (bn2): BatchNorm2d(512, eps=1e-05, momentum=0.1, affine=True, track_running_stats=True)\n",
       "      (downsample): Sequential(\n",
       "        (0): Conv2d(256, 512, kernel_size=(1, 1), stride=(2, 2), bias=False)\n",
       "        (1): BatchNorm2d(512, eps=1e-05, momentum=0.1, affine=True, track_running_stats=True)\n",
       "      )\n",
       "    )\n",
       "    (1): BasicBlock(\n",
       "      (conv1): Conv2d(512, 512, kernel_size=(3, 3), stride=(1, 1), padding=(1, 1), bias=False)\n",
       "      (bn1): BatchNorm2d(512, eps=1e-05, momentum=0.1, affine=True, track_running_stats=True)\n",
       "      (relu): ReLU(inplace=True)\n",
       "      (conv2): Conv2d(512, 512, kernel_size=(3, 3), stride=(1, 1), padding=(1, 1), bias=False)\n",
       "      (bn2): BatchNorm2d(512, eps=1e-05, momentum=0.1, affine=True, track_running_stats=True)\n",
       "    )\n",
       "  )\n",
       "  (avgpool): AdaptiveAvgPool2d(output_size=(1, 1))\n",
       "  (fc): Linear(in_features=512, out_features=1, bias=True)\n",
       "  (sigmoid): Sigmoid()\n",
       ")"
      ]
     },
     "execution_count": 73,
     "metadata": {},
     "output_type": "execute_result"
    }
   ],
   "source": [
    "best_model"
   ]
  },
  {
   "cell_type": "code",
   "execution_count": 74,
   "id": "ba86f4b0",
   "metadata": {},
   "outputs": [],
   "source": [
    "# save the best model\n",
    "torch.save(best_model.state_dict(), \"nodule/nodule_hyperparam.pth\")"
   ]
  },
  {
   "cell_type": "code",
   "execution_count": null,
   "id": "6ffadc5f",
   "metadata": {},
   "outputs": [],
   "source": [
    "# load the model\n",
    "net = ResNet18(pretrained=False)\n",
    "#net.conv1 = torch.nn.Conv2d(1, 64, kernel_size=7, stride=2, padding=3, bias=False)\n",
    "net.load_state_dict(torch.load(\"saved_model/test_model\"))\n",
    "model.eval()"
   ]
  }
 ],
 "metadata": {
  "kernelspec": {
   "display_name": "Python 3 (ipykernel)",
   "language": "python",
   "name": "python3"
  },
  "language_info": {
   "codemirror_mode": {
    "name": "ipython",
    "version": 3
   },
   "file_extension": ".py",
   "mimetype": "text/x-python",
   "name": "python",
   "nbconvert_exporter": "python",
   "pygments_lexer": "ipython3",
   "version": "3.9.13"
  }
 },
 "nbformat": 4,
 "nbformat_minor": 5
}
