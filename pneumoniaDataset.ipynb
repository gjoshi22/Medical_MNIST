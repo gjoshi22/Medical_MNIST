{
 "cells": [
  {
   "cell_type": "code",
   "execution_count": 1,
   "id": "60fcb60f",
   "metadata": {},
   "outputs": [],
   "source": [
    "'''\n",
    "Steps\n",
    "1. Data shifting (balance data if imblance by downsampling)\n",
    "2. Data augmentation\n",
    "--a) do only Gaussian noise\n",
    "--b) do only Flipping/mirroring\n",
    "--c) do only Rotation\n",
    "--d) do only Normalizing\n",
    "--e) do all augmentation techniques at the same time\n",
    "3. Go back to step 1 or 2 and repeat (for data-centric approach)\n",
    "4. Optimizer\n",
    "5. Hyperparameter tuning (w/o hyper parameter tuning) and model training and testing with the best dataset\n",
    "'''\n",
    "pass"
   ]
  },
  {
   "cell_type": "code",
   "execution_count": 2,
   "id": "e90d5818",
   "metadata": {},
   "outputs": [],
   "source": [
    "from sklearn import metrics\n",
    "from tqdm import tqdm\n",
    "import numpy as np\n",
    "import torch\n",
    "import torch.nn as nn\n",
    "import torch.optim as optim\n",
    "import torch.utils.data as data\n",
    "import torchvision.transforms as transforms\n",
    "from dataCentric_functions import *\n",
    "\n",
    "import medmnist\n",
    "from medmnist import INFO, Evaluator"
   ]
  },
  {
   "cell_type": "code",
   "execution_count": 3,
   "id": "720d15ad",
   "metadata": {},
   "outputs": [],
   "source": [
    "from libauc.losses import AUCMLoss\n",
    "from libauc.optimizers import PESG, Adam, SGD\n",
    "from libauc.models import resnet20 as ResNet20\n",
    "from libauc.datasets import CIFAR10\n",
    "from libauc.utils import ImbalancedDataGenerator\n",
    "from libauc.sampler import DualSampler\n",
    "from libauc.metrics import auc_roc_score\n",
    "\n",
    "import torch \n",
    "from PIL import Image\n",
    "import numpy as np\n",
    "import torchvision.transforms as transforms\n",
    "from torch.utils.data import Dataset\n",
    "from sklearn.metrics import roc_auc_score\n",
    "#from pytorchtools import EarlyStopping\n",
    "import sys\n",
    "     "
   ]
  },
  {
   "cell_type": "code",
   "execution_count": 4,
   "id": "a509af5d",
   "metadata": {},
   "outputs": [],
   "source": [
    "import matplotlib.pyplot as plt"
   ]
  },
  {
   "cell_type": "code",
   "execution_count": 5,
   "id": "3a650856",
   "metadata": {},
   "outputs": [],
   "source": [
    "#data_flag = 'pathmnist'\n",
    "data_flag = 'pneumoniamnist'\n",
    "download = True\n",
    "\n",
    "NUM_EPOCHS = 3\n",
    "BATCH_SIZE = 128\n",
    "lr = 0.001\n",
    "\n",
    "info = INFO[data_flag]\n",
    "task = info['task']\n",
    "n_channels = info['n_channels']\n",
    "n_classes = len(info['label'])\n",
    "\n",
    "DataClass = getattr(medmnist, info['python_class'])"
   ]
  },
  {
   "cell_type": "code",
   "execution_count": 6,
   "id": "90598f6d",
   "metadata": {},
   "outputs": [],
   "source": [
    "# preprocessing\n",
    "data_transform1 = transforms.Compose([\n",
    "    transforms.ToTensor()\n",
    "])\n"
   ]
  },
  {
   "cell_type": "code",
   "execution_count": 7,
   "id": "2fc85708",
   "metadata": {},
   "outputs": [
    {
     "name": "stdout",
     "output_type": "stream",
     "text": [
      "Using downloaded and verified file: C:\\Users\\Gunjan Joshi\\.medmnist\\pneumoniamnist.npz\n",
      "Using downloaded and verified file: C:\\Users\\Gunjan Joshi\\.medmnist\\pneumoniamnist.npz\n",
      "Using downloaded and verified file: C:\\Users\\Gunjan Joshi\\.medmnist\\pneumoniamnist.npz\n"
     ]
    },
    {
     "data": {
      "text/plain": [
       "Dataset PneumoniaMNIST (pneumoniamnist)\n",
       "    Number of datapoints: 4708\n",
       "    Root location: C:\\Users\\Gunjan Joshi\\.medmnist\n",
       "    Split: train\n",
       "    Task: binary-class\n",
       "    Number of channels: 1\n",
       "    Meaning of labels: {'0': 'normal', '1': 'pneumonia'}\n",
       "    Number of samples: {'train': 4708, 'val': 524, 'test': 624}\n",
       "    Description: The PneumoniaMNIST is based on a prior dataset of 5,856 pediatric chest X-Ray images. The task is binary-class classification of pneumonia against normal. We split the source training set with a ratio of 9:1 into training and validation set and use its source validation set as the test set. The source images are gray-scale, and their sizes are (384−2,916)×(127−2,713). We center-crop the images and resize them into 1×28×28.\n",
       "    License: CC BY 4.0"
      ]
     },
     "execution_count": 7,
     "metadata": {},
     "output_type": "execute_result"
    }
   ],
   "source": [
    "train_dataset1 = DataClass(split='train', transform=data_transform1, download=download)\n",
    "val_dataset1 = DataClass(split='val', transform=data_transform1, download=download)\n",
    "test_dataset = DataClass(split='test', transform=data_transform1, download=download)\n",
    "\n",
    "train_dataset1"
   ]
  },
  {
   "cell_type": "code",
   "execution_count": 8,
   "id": "ee57aad2",
   "metadata": {},
   "outputs": [
    {
     "name": "stdout",
     "output_type": "stream",
     "text": [
      "class ratio: (array([0, 1], dtype=uint8), array([1214, 3494], dtype=int64))\n",
      "class ratio: (array([0, 1], dtype=uint8), array([135, 389], dtype=int64))\n",
      "class ratio: (array([0, 1], dtype=uint8), array([234, 390], dtype=int64))\n",
      "train+validation class ratio: (1349, 3883)\n"
     ]
    }
   ],
   "source": [
    "train_counts = np.unique(train_dataset1.labels, return_counts=True)\n",
    "val_counts = np.unique(val_dataset1.labels, return_counts=True)\n",
    "print(f\"class ratio: {train_counts}\")\n",
    "print(f\"class ratio: {val_counts}\")\n",
    "print(f\"class ratio: {np.unique(test_dataset.labels, return_counts=True)}\")\n",
    "train_val_comb = train_counts[1] + val_counts[1]\n",
    "neg_counts, pos_counts = train_val_comb[0], train_val_comb[1]\n",
    "print(f\"train+validation class ratio: {neg_counts, pos_counts}\")"
   ]
  },
  {
   "cell_type": "markdown",
   "id": "9b729ebc",
   "metadata": {},
   "source": [
    "As we see from the number of counts of each class in the dataset, this dataset is imbalanced, and we are going to balance it by upsampling technique."
   ]
  },
  {
   "cell_type": "markdown",
   "id": "0fc77ef2",
   "metadata": {},
   "source": [
    "Step 1: Data shifting (balance data if imblance by upsampling)"
   ]
  },
  {
   "cell_type": "code",
   "execution_count": 9,
   "id": "d0ca6828",
   "metadata": {},
   "outputs": [
    {
     "name": "stdout",
     "output_type": "stream",
     "text": [
      "5232\n"
     ]
    }
   ],
   "source": [
    "# combine train and validation datasets to check class ratio\n",
    "from math import ceil\n",
    "\n",
    "combined_train = torch.utils.data.ConcatDataset([train_dataset1, val_dataset1])\n",
    "ct_loader = data.DataLoader(dataset=combined_train, batch_size=BATCH_SIZE, shuffle=True)\n",
    "ct_iter = iter(ct_loader)\n",
    "print(len(combined_train))\n",
    "examples, labels = next(ct_iter)\n",
    "ct_tensors_img, ct_tensors_labels = examples, labels\n",
    "for i in range(1, ceil(len(combined_train) / BATCH_SIZE)):\n",
    "    examples, labels = next(ct_iter)\n",
    "    ct_tensors_img = torch.cat([ct_tensors_img, examples])\n",
    "    ct_tensors_labels = torch.cat([ct_tensors_labels, labels])"
   ]
  },
  {
   "cell_type": "markdown",
   "id": "c0af9c72",
   "metadata": {},
   "source": [
    "Step 2: data augmentation"
   ]
  },
  {
   "cell_type": "code",
   "execution_count": 10,
   "id": "4a9db4e2",
   "metadata": {},
   "outputs": [],
   "source": [
    "# We will overcome the data imbalance issue by upsamling the minority class using data augmentation\n",
    "# since the majority class is almost three times as many as the minority class, \n",
    "# two data augmentation techniques will be employed to increase the number of images in the minority class\n",
    "\n",
    "# two augmentation combination: HorizontalFlip and Gaussian Noise\n",
    "data_transform2 = transforms.Compose([\n",
    "    transforms.ToTensor(),\n",
    "    transforms.RandomHorizontalFlip(p=1.0)\n",
    "])\n",
    "data_transform3 = transforms.Compose([\n",
    "    transforms.ToTensor(),\n",
    "    AddGaussianNoise(0., 0.2)\n",
    "])"
   ]
  },
  {
   "cell_type": "code",
   "execution_count": 11,
   "id": "edadd35f",
   "metadata": {},
   "outputs": [],
   "source": [
    "# Data upsampling function\n",
    "def create_new_img_by_augmentations(desired_class, data_transform):\n",
    "    # load more training and validation dataset to create new data using data augmentation\n",
    "    # param: desired_class(list) is a list of classes to be kept,\n",
    "    # and all the other classes not in this list will be filtered out\n",
    "    # param: data_transform(pytorch.transforms) is a data transform method to be applied to dataset\n",
    "    # return: pytorch dataset\n",
    "    train_dataset = DataClass(split='train', transform=data_transform)\n",
    "    val_dataset = DataClass(split='val', transform=data_transform)\n",
    "    filtered_trainset = torch.utils.data.Subset(train_dataset,\n",
    "                            [i for i in range(len(train_dataset)) if train_dataset.labels[i] in desired_class])\n",
    "    filtered_valset = torch.utils.data.Subset(val_dataset,\n",
    "                            [i for i in range(len(val_dataset)) if val_dataset.labels[i] in desired_class])\n",
    "    combined_train = torch.utils.data.ConcatDataset([filtered_trainset, filtered_valset])\n",
    "    return combined_train"
   ]
  },
  {
   "cell_type": "code",
   "execution_count": 12,
   "id": "5e07bd48",
   "metadata": {},
   "outputs": [
    {
     "data": {
      "text/plain": [
       "<torch.utils.data.dataset.ConcatDataset at 0x1a52d66f850>"
      ]
     },
     "execution_count": 12,
     "metadata": {},
     "output_type": "execute_result"
    }
   ],
   "source": [
    "# load more training and validation dataset to create new data using data augmentation\n",
    "desired_class = [1]\n",
    "new_combined_train = torch.utils.data.ConcatDataset([create_new_img_by_augmentations(desired_class,\n",
    "                                                                                     data_transform=data_transform2),\n",
    "                                               create_new_img_by_augmentations(desired_class,\n",
    "                                                                               data_transform=data_transform3)])\n",
    "new_combined_train"
   ]
  },
  {
   "cell_type": "code",
   "execution_count": 13,
   "id": "03107f40",
   "metadata": {},
   "outputs": [],
   "source": [
    "count_diff = int(max(neg_counts, pos_counts) - min(neg_counts, pos_counts))\n",
    "random_sampler = data.RandomSampler(new_combined_train, num_samples=count_diff)\n",
    "added_dataloader = data.DataLoader(new_combined_train, batch_size=BATCH_SIZE, sampler=random_sampler)\n",
    "\n",
    "added_diter = iter(added_dataloader)\n",
    "examples, labels = next(added_diter)\n",
    "added_tensors_img, added_tensors_labels = examples, labels\n",
    "#for i in range(1, ceil(len(combined_train) / BATCH_SIZE)):\n",
    "for i in range(1, ceil(count_diff / BATCH_SIZE)):\n",
    "    examples, labels = next(added_diter)\n",
    "    added_tensors_img = torch.cat([added_tensors_img, examples])\n",
    "    added_tensors_labels = torch.cat([added_tensors_labels, labels])\n",
    "\n",
    "X = torch.cat([ct_tensors_img, added_tensors_img])\n",
    "y = torch.cat([ct_tensors_labels, added_tensors_labels])"
   ]
  },
  {
   "cell_type": "code",
   "execution_count": 14,
   "id": "d16e9833",
   "metadata": {},
   "outputs": [
    {
     "data": {
      "text/plain": [
       "(tensor([0, 1], dtype=torch.int32), tensor([1349, 6417]))"
      ]
     },
     "execution_count": 14,
     "metadata": {},
     "output_type": "execute_result"
    }
   ],
   "source": [
    "y.unique(return_counts=True)"
   ]
  },
  {
   "cell_type": "code",
   "execution_count": 15,
   "id": "b7be9cf0",
   "metadata": {},
   "outputs": [
    {
     "data": {
      "text/plain": [
       "6212"
      ]
     },
     "execution_count": 15,
     "metadata": {},
     "output_type": "execute_result"
    }
   ],
   "source": [
    "# splitting train and validation data with balanced ratio\n",
    "from sklearn.model_selection import train_test_split\n",
    "X_train, X_val, y_train, y_val = train_test_split(X, y, test_size=0.2, random_state=7)\n",
    "len(X_train)"
   ]
  },
  {
   "cell_type": "code",
   "execution_count": 16,
   "id": "ec435f55",
   "metadata": {},
   "outputs": [],
   "source": [
    "train_d = torch.utils.data.TensorDataset(X_train, y_train)\n",
    "val_d = torch.utils.data.TensorDataset(X_val, y_val)\n",
    "\n",
    "trainloader = data.DataLoader(dataset=train_d, batch_size=BATCH_SIZE, shuffle=True)\n",
    "valloader = data.DataLoader(dataset=val_d, batch_size=BATCH_SIZE, shuffle=False, num_workers=2)\n",
    "trainloader_eval = data.DataLoader(train_d, batch_size=BATCH_SIZE, shuffle=False, num_workers=2)"
   ]
  },
  {
   "cell_type": "code",
   "execution_count": 17,
   "id": "708931f8",
   "metadata": {},
   "outputs": [],
   "source": [
    "# resnet18 model\n",
    "from libauc.models import resnet18 as ResNet18\n",
    "\n",
    "#writer = SummaryWriter(\"runs/breast\")\n",
    "model = ResNet18(pretrained=False, last_activation=None, num_classes=1)\n",
    "model.conv1 = torch.nn.Conv2d(1, 64, kernel_size=7, stride=2, padding=3, bias=False)\n",
    "\n",
    "# HyperParameters\n",
    "SEED = 123\n",
    "BATCH_SIZE = 128\n",
    "imratio = 0.1 # for demo \n",
    "total_epochs = 50\n",
    "decay_epochs = [50, 75]\n",
    "\n",
    "lr = 0.1\n",
    "margin = 1.0\n",
    "epoch_decay = 0.003 # refers gamma in the paper\n",
    "weight_decay = 0.0001\n",
    "\n",
    "\n",
    "# loss and optimizer\n",
    "loss_fn = AUCMLoss()\n",
    "optimizer = PESG(model, \n",
    "                 loss_fn=loss_fn,\n",
    "                 lr=lr, \n",
    "                 momentum=0.9,\n",
    "                 #margin=margin)\n",
    "                 margin=margin, \n",
    "                 epoch_decay=epoch_decay, \n",
    "                 weight_decay=weight_decay)\n",
    "\n",
    "#writer.add_graph(model=model)  # graph of model structure\n",
    "#writer.close()\n",
    "#sys.exit()\n",
    "\n"
   ]
  },
  {
   "cell_type": "code",
   "execution_count": 18,
   "id": "eedb95b0",
   "metadata": {
    "scrolled": true
   },
   "outputs": [
    {
     "name": "stdout",
     "output_type": "stream",
     "text": [
      "Start Training\n",
      "------------------------------\n",
      "epoch: 0, train_loss: 0.0234, train_auc: 0.9896, val_auc: 0.9843, lr: 0.1000\n",
      "0\n",
      "epoch: 1, train_loss: 0.0053, train_auc: 0.9968, val_auc: 0.9943, lr: 0.1000\n",
      "0\n",
      "epoch: 2, train_loss: 0.0037, train_auc: 0.9979, val_auc: 0.9936, lr: 0.1000\n",
      "1\n",
      "epoch: 3, train_loss: 0.0035, train_auc: 0.9986, val_auc: 0.9945, lr: 0.1000\n",
      "2\n",
      "epoch: 4, train_loss: 0.0023, train_auc: 0.9988, val_auc: 0.9939, lr: 0.1000\n",
      "3\n",
      "epoch: 5, train_loss: 0.0014, train_auc: 0.9990, val_auc: 0.9951, lr: 0.1000\n",
      "4\n",
      "epoch: 6, train_loss: 0.0012, train_auc: 0.9992, val_auc: 0.9932, lr: 0.1000\n",
      "5\n",
      "epoch: 7, train_loss: 0.0011, train_auc: 0.9992, val_auc: 0.9946, lr: 0.1000\n",
      "6\n",
      "epoch: 8, train_loss: 0.0007, train_auc: 0.9994, val_auc: 0.9951, lr: 0.1000\n",
      "7\n",
      "epoch: 9, train_loss: 0.0006, train_auc: 0.9994, val_auc: 0.9943, lr: 0.1000\n",
      "8\n",
      "epoch: 10, train_loss: 0.0005, train_auc: 0.9994, val_auc: 0.9942, lr: 0.1000\n",
      "9\n",
      "epoch: 11, train_loss: 0.0006, train_auc: 0.9982, val_auc: 0.9904, lr: 0.1000\n",
      "10\n",
      "epoch: 12, train_loss: 0.0007, train_auc: 0.9996, val_auc: 0.9932, lr: 0.1000\n",
      "11\n",
      "epoch: 13, train_loss: 0.0012, train_auc: 0.9996, val_auc: 0.9933, lr: 0.1000\n",
      "12\n",
      "Early stopping\n"
     ]
    }
   ],
   "source": [
    "# early stopping patience; how long to wait after last time validation loss improved.\n",
    "patience=12\n",
    "train_log, val_log = train(model, loss_fn, optimizer, total_epochs, trainloader, trainloader_eval, \n",
    "                           valloader, patience=patience, decay_epochs=decay_epochs)"
   ]
  },
  {
   "cell_type": "code",
   "execution_count": 19,
   "id": "52de7a09",
   "metadata": {},
   "outputs": [
    {
     "data": {
      "text/plain": [
       "Text(0.5, 0, 'Epoch')"
      ]
     },
     "execution_count": 19,
     "metadata": {},
     "output_type": "execute_result"
    },
    {
     "data": {
      "image/png": "[encoded data removed]",
      "text/plain": [
       "<Figure size 648x360 with 1 Axes>"
      ]
     },
     "metadata": {
      "needs_background": "light"
     },
     "output_type": "display_data"
    }
   ],
   "source": [
    "plt.rcParams[\"figure.figsize\"] = (9,5)\n",
    "x=np.arange(len(train_log))\n",
    "plt.figure()\n",
    "plt.plot(x, train_log, linestyle='-', label='Train Set', linewidth=3)\n",
    "plt.plot(x, val_log,  linestyle='-', label='Validation Set', linewidth=3)\n",
    "plt.title('AUCMLoss (10% BreasetMNIST)',fontsize=25)\n",
    "plt.legend(fontsize=15)\n",
    "plt.ylabel('AUROC', fontsize=25)\n",
    "plt.xlabel('Epoch', fontsize=25)"
   ]
  },
  {
   "cell_type": "code",
   "execution_count": 20,
   "id": "da901461",
   "metadata": {},
   "outputs": [],
   "source": [
    "test_loader = data.DataLoader(dataset=test_dataset, batch_size=BATCH_SIZE)"
   ]
  },
  {
   "cell_type": "code",
   "execution_count": 21,
   "id": "b2e988ee",
   "metadata": {},
   "outputs": [
    {
     "name": "stdout",
     "output_type": "stream",
     "text": [
      "Test : 0.9183\n"
     ]
    }
   ],
   "source": [
    "# Testing AUC\n",
    "score_list = list()\n",
    "label_list = list()\n",
    "for _, d in enumerate(test_loader, 0):\n",
    "    tmp_data, tmp_label = d\n",
    "    #tmp_data, tmp_label = tmp_data.cuda(), tmp_label.cuda()\n",
    "    \n",
    "    tmp_score = model(tmp_data).detach().clone().cpu()\n",
    "    score_list.append(tmp_score)\n",
    "    label_list.append(tmp_label.cpu())\n",
    "\n",
    "test_label = torch.cat(label_list)\n",
    "test_score = torch.cat(score_list)\n",
    "                   \n",
    "test_auc = metrics.roc_auc_score(test_label, test_score)                   \n",
    "print(\"Test : %.4f\"%test_auc, flush=True)"
   ]
  },
  {
   "cell_type": "code",
   "execution_count": 22,
   "id": "673a2bfc",
   "metadata": {},
   "outputs": [],
   "source": [
    "# save the best model1\n",
    "torch.save(model.state_dict(), \"pneumonia_model1.pth\")"
   ]
  },
  {
   "cell_type": "code",
   "execution_count": 23,
   "id": "25da8362",
   "metadata": {},
   "outputs": [],
   "source": [
    "# Back to Step 2\n",
    "# two augmentation combination: HorizontalFlip and Normalize\n",
    "data_transform2 = transforms.Compose([\n",
    "    transforms.ToTensor(),\n",
    "    transforms.RandomHorizontalFlip(p=1.0)\n",
    "])\n",
    "data_transform4 = transforms.Compose([\n",
    "    transforms.ToTensor(),\n",
    "    transforms.Normalize(mean=[.5], std=[.5])\n",
    "])"
   ]
  },
  {
   "cell_type": "code",
   "execution_count": 24,
   "id": "c7cde527",
   "metadata": {},
   "outputs": [
    {
     "data": {
      "text/plain": [
       "<torch.utils.data.dataset.ConcatDataset at 0x1a52ef75400>"
      ]
     },
     "execution_count": 24,
     "metadata": {},
     "output_type": "execute_result"
    }
   ],
   "source": [
    "# load more training and validation dataset to create new data using data augmentation\n",
    "desired_class = [1]\n",
    "new_combined_train = torch.utils.data.ConcatDataset([create_new_img_by_augmentations(desired_class,\n",
    "                                                                                     data_transform=data_transform2),\n",
    "                                               create_new_img_by_augmentations(desired_class,\n",
    "                                                                               data_transform=data_transform4)])\n",
    "new_combined_train"
   ]
  },
  {
   "cell_type": "code",
   "execution_count": 25,
   "id": "7882fde0",
   "metadata": {},
   "outputs": [],
   "source": [
    "count_diff = int(max(neg_counts, pos_counts) - min(neg_counts, pos_counts))\n",
    "random_sampler = data.RandomSampler(new_combined_train, num_samples=count_diff)\n",
    "added_dataloader = data.DataLoader(new_combined_train, batch_size=BATCH_SIZE, sampler=random_sampler)\n",
    "\n",
    "added_diter = iter(added_dataloader)\n",
    "examples, labels = next(added_diter)\n",
    "added_tensors_img, added_tensors_labels = examples, labels\n",
    "#for i in range(1, ceil(len(combined_train) / BATCH_SIZE)):\n",
    "for i in range(1, ceil(count_diff / BATCH_SIZE)):\n",
    "    examples, labels = next(added_diter)\n",
    "    added_tensors_img = torch.cat([added_tensors_img, examples])\n",
    "    added_tensors_labels = torch.cat([added_tensors_labels, labels])\n",
    "    \n",
    "X = torch.cat([ct_tensors_img, added_tensors_img])\n",
    "y = torch.cat([ct_tensors_labels, added_tensors_labels])"
   ]
  },
  {
   "cell_type": "code",
   "execution_count": 26,
   "id": "02c92649",
   "metadata": {},
   "outputs": [
    {
     "data": {
      "text/plain": [
       "6212"
      ]
     },
     "execution_count": 26,
     "metadata": {},
     "output_type": "execute_result"
    }
   ],
   "source": [
    "# splitting train and validation data with balanced ratio\n",
    "from sklearn.model_selection import train_test_split\n",
    "X_train, X_val, y_train, y_val = train_test_split(X, y, test_size=0.2, random_state=7)\n",
    "len(X_train)"
   ]
  },
  {
   "cell_type": "code",
   "execution_count": 27,
   "id": "65da1059",
   "metadata": {},
   "outputs": [],
   "source": [
    "train_d = torch.utils.data.TensorDataset(X_train, y_train)\n",
    "val_d = torch.utils.data.TensorDataset(X_val, y_val)\n",
    "\n",
    "trainloader = data.DataLoader(dataset=train_d, batch_size=BATCH_SIZE, shuffle=True)\n",
    "valloader = data.DataLoader(dataset=val_d, batch_size=BATCH_SIZE, shuffle=False, num_workers=2)\n",
    "trainloader_eval = data.DataLoader(train_d, batch_size=BATCH_SIZE, shuffle=False, num_workers=2)"
   ]
  },
  {
   "cell_type": "code",
   "execution_count": 28,
   "id": "53efd112",
   "metadata": {},
   "outputs": [],
   "source": [
    "# resnet18 model\n",
    "from libauc.models import resnet18 as ResNet18\n",
    "\n",
    "#writer = SummaryWriter(\"runs/breast\")\n",
    "model2 = ResNet18(pretrained=False, last_activation=None, num_classes=1, )\n",
    "model2.conv1 = torch.nn.Conv2d(1, 64, kernel_size=7, stride=2, padding=3, bias=False)\n",
    "\n",
    "# HyperParameters\n",
    "SEED = 123\n",
    "BATCH_SIZE = 128\n",
    "imratio = 0.1 # for demo \n",
    "total_epochs = 50\n",
    "decay_epochs = [50, 75]\n",
    "\n",
    "lr = 0.1\n",
    "margin = 1.0\n",
    "epoch_decay = 0.003 # refers gamma in the paper\n",
    "weight_decay = 0.0001\n",
    "\n",
    "\n",
    "# loss and optimizer\n",
    "loss_fn = AUCMLoss()\n",
    "optimizer = PESG(model2, \n",
    "                 loss_fn=loss_fn,\n",
    "                 lr=lr, \n",
    "                 momentum=0.9,\n",
    "                 #margin=margin)\n",
    "                 margin=margin, \n",
    "                 epoch_decay=epoch_decay, \n",
    "                 weight_decay=weight_decay)\n",
    "\n",
    "#writer.add_graph(model=model)  # graph of model structure\n",
    "#writer.close()\n",
    "#sys.exit()\n"
   ]
  },
  {
   "cell_type": "code",
   "execution_count": 29,
   "id": "d386d846",
   "metadata": {},
   "outputs": [
    {
     "name": "stdout",
     "output_type": "stream",
     "text": [
      "Start Training\n",
      "------------------------------\n",
      "epoch: 0, train_loss: 0.0252, train_auc: 0.9760, val_auc: 0.9749, lr: 0.1000\n",
      "0\n",
      "epoch: 1, train_loss: 0.0072, train_auc: 0.9968, val_auc: 0.9924, lr: 0.1000\n",
      "0\n",
      "epoch: 2, train_loss: 0.0050, train_auc: 0.9978, val_auc: 0.9942, lr: 0.1000\n",
      "1\n",
      "epoch: 3, train_loss: 0.0044, train_auc: 0.9982, val_auc: 0.9926, lr: 0.1000\n",
      "2\n",
      "epoch: 4, train_loss: 0.0033, train_auc: 0.9939, val_auc: 0.9860, lr: 0.1000\n",
      "3\n",
      "epoch: 5, train_loss: 0.0025, train_auc: 0.9986, val_auc: 0.9902, lr: 0.1000\n",
      "4\n",
      "epoch: 6, train_loss: 0.0019, train_auc: 0.9983, val_auc: 0.9850, lr: 0.1000\n",
      "5\n",
      "epoch: 7, train_loss: 0.0018, train_auc: 0.9990, val_auc: 0.9925, lr: 0.1000\n",
      "0\n",
      "epoch: 8, train_loss: 0.0017, train_auc: 0.9991, val_auc: 0.9862, lr: 0.1000\n",
      "1\n",
      "epoch: 9, train_loss: 0.0017, train_auc: 0.9995, val_auc: 0.9939, lr: 0.1000\n",
      "0\n",
      "epoch: 10, train_loss: 0.0010, train_auc: 0.9969, val_auc: 0.9863, lr: 0.1000\n",
      "1\n",
      "epoch: 11, train_loss: 0.0017, train_auc: 0.9992, val_auc: 0.9940, lr: 0.1000\n",
      "0\n",
      "epoch: 12, train_loss: 0.0009, train_auc: 0.9996, val_auc: 0.9918, lr: 0.1000\n",
      "1\n",
      "epoch: 13, train_loss: 0.0004, train_auc: 0.9997, val_auc: 0.9927, lr: 0.1000\n",
      "2\n",
      "epoch: 14, train_loss: 0.0003, train_auc: 0.9996, val_auc: 0.9928, lr: 0.1000\n",
      "3\n",
      "epoch: 15, train_loss: 0.0003, train_auc: 0.9996, val_auc: 0.9922, lr: 0.1000\n",
      "4\n",
      "epoch: 16, train_loss: 0.0005, train_auc: 0.9993, val_auc: 0.9927, lr: 0.1000\n",
      "5\n",
      "epoch: 17, train_loss: 0.0004, train_auc: 0.9996, val_auc: 0.9937, lr: 0.1000\n",
      "6\n",
      "epoch: 18, train_loss: 0.0005, train_auc: 0.9997, val_auc: 0.9899, lr: 0.1000\n",
      "7\n",
      "epoch: 19, train_loss: 0.0013, train_auc: 0.9997, val_auc: 0.9930, lr: 0.1000\n",
      "8\n",
      "epoch: 20, train_loss: 0.0007, train_auc: 0.9996, val_auc: 0.9925, lr: 0.1000\n",
      "9\n",
      "epoch: 21, train_loss: 0.0004, train_auc: 0.9997, val_auc: 0.9899, lr: 0.1000\n",
      "10\n",
      "epoch: 22, train_loss: 0.0002, train_auc: 0.9997, val_auc: 0.9934, lr: 0.1000\n",
      "11\n",
      "epoch: 23, train_loss: 0.0003, train_auc: 0.9997, val_auc: 0.9932, lr: 0.1000\n",
      "12\n",
      "Early stopping\n"
     ]
    }
   ],
   "source": [
    "# early stopping patience; how long to wait after last time validation loss improved.\n",
    "train_log, val_log = train(model2, loss_fn, optimizer, total_epochs, trainloader, trainloader_eval, valloader, \n",
    "     patience=patience, decay_epochs=decay_epochs)"
   ]
  },
  {
   "cell_type": "code",
   "execution_count": 30,
   "id": "49bae44c",
   "metadata": {},
   "outputs": [
    {
     "data": {
      "text/plain": [
       "Text(0.5, 0, 'Epoch')"
      ]
     },
     "execution_count": 30,
     "metadata": {},
     "output_type": "execute_result"
    },
    {
     "data": {
      "image/png": "[encoded data removed]",
      "text/plain": [
       "<Figure size 648x360 with 1 Axes>"
      ]
     },
     "metadata": {
      "needs_background": "light"
     },
     "output_type": "display_data"
    }
   ],
   "source": [
    "plt.rcParams[\"figure.figsize\"] = (9,5)\n",
    "x=np.arange(len(train_log))\n",
    "plt.figure()\n",
    "plt.plot(x, train_log, linestyle='-', label='Train Set', linewidth=3)\n",
    "plt.plot(x, val_log,  linestyle='-', label='Validation Set', linewidth=3)\n",
    "plt.title('AUCMLoss (10% BreasetMNIST)',fontsize=25)\n",
    "plt.legend(fontsize=15)\n",
    "plt.ylabel('AUROC', fontsize=25)\n",
    "plt.xlabel('Epoch', fontsize=25)"
   ]
  },
  {
   "cell_type": "code",
   "execution_count": 31,
   "id": "9ba1fbe3",
   "metadata": {},
   "outputs": [
    {
     "name": "stdout",
     "output_type": "stream",
     "text": [
      "Test : 0.9373\n"
     ]
    }
   ],
   "source": [
    "test_loader = data.DataLoader(dataset=test_dataset, batch_size=BATCH_SIZE)\n",
    "\n",
    "# Testing AUC\n",
    "score_list = list()\n",
    "label_list = list()\n",
    "for _, d in enumerate(test_loader, 0):\n",
    "    tmp_data, tmp_label = d\n",
    "    #tmp_data, tmp_label = tmp_data.cuda(), tmp_label.cuda()\n",
    "    \n",
    "    tmp_score = model2(tmp_data).detach().clone().cpu()\n",
    "    score_list.append(tmp_score)\n",
    "    label_list.append(tmp_label.cpu())\n",
    "\n",
    "test_label = torch.cat(label_list)\n",
    "test_score = torch.cat(score_list)\n",
    "                   \n",
    "test_auc = metrics.roc_auc_score(test_label, test_score)                   \n",
    "print(\"Test : %.4f\"%test_auc, flush=True)"
   ]
  },
  {
   "cell_type": "code",
   "execution_count": 32,
   "id": "cb4532b9",
   "metadata": {},
   "outputs": [],
   "source": [
    "# save the best model2\n",
    "torch.save(model2.state_dict(), \"pneumonia_model2.pth\")"
   ]
  },
  {
   "cell_type": "code",
   "execution_count": 33,
   "id": "c99dffdf",
   "metadata": {},
   "outputs": [
    {
     "data": {
      "text/plain": [
       "<torch.utils.data.dataset.ConcatDataset at 0x1a52e333c70>"
      ]
     },
     "execution_count": 33,
     "metadata": {},
     "output_type": "execute_result"
    }
   ],
   "source": [
    "# Back to Step 2\n",
    "# two augmentation combination: Gaussian Noise and Normalize\n",
    "# load more training and validation dataset to create new data using data augmentation\n",
    "desired_class = [1]\n",
    "new_combined_train = torch.utils.data.ConcatDataset([create_new_img_by_augmentations(desired_class,\n",
    "                                                                                     data_transform=data_transform3),\n",
    "                                               create_new_img_by_augmentations(desired_class,\n",
    "                                                                               data_transform=data_transform4)])\n",
    "new_combined_train"
   ]
  },
  {
   "cell_type": "code",
   "execution_count": 34,
   "id": "51517cc7",
   "metadata": {},
   "outputs": [],
   "source": [
    "count_diff = int(max(neg_counts, pos_counts) - min(neg_counts, pos_counts))\n",
    "random_sampler = data.RandomSampler(new_combined_train, num_samples=count_diff)\n",
    "added_dataloader = data.DataLoader(new_combined_train, batch_size=BATCH_SIZE, sampler=random_sampler)\n",
    "\n",
    "added_diter = iter(added_dataloader)\n",
    "examples, labels = next(added_diter)\n",
    "added_tensors_img, added_tensors_labels = examples, labels\n",
    "#for i in range(1, ceil(len(combined_train) / BATCH_SIZE)):\n",
    "for i in range(1, ceil(count_diff / BATCH_SIZE)):\n",
    "    examples, labels = next(added_diter)\n",
    "    added_tensors_img = torch.cat([added_tensors_img, examples])\n",
    "    added_tensors_labels = torch.cat([added_tensors_labels, labels])\n",
    "    \n",
    "X = torch.cat([ct_tensors_img, added_tensors_img])\n",
    "y = torch.cat([ct_tensors_labels, added_tensors_labels])"
   ]
  },
  {
   "cell_type": "code",
   "execution_count": 35,
   "id": "d363136f",
   "metadata": {},
   "outputs": [
    {
     "data": {
      "text/plain": [
       "6212"
      ]
     },
     "execution_count": 35,
     "metadata": {},
     "output_type": "execute_result"
    }
   ],
   "source": [
    "# splitting train and validation data with balanced ratio\n",
    "from sklearn.model_selection import train_test_split\n",
    "X_train, X_val, y_train, y_val = train_test_split(X, y, test_size=0.2, random_state=7)\n",
    "len(X_train)"
   ]
  },
  {
   "cell_type": "code",
   "execution_count": 36,
   "id": "cb7ed176",
   "metadata": {},
   "outputs": [],
   "source": [
    "train_d = torch.utils.data.TensorDataset(X_train, y_train)\n",
    "val_d = torch.utils.data.TensorDataset(X_val, y_val)\n",
    "\n",
    "trainloader = data.DataLoader(dataset=train_d, batch_size=BATCH_SIZE, shuffle=True)\n",
    "valloader = data.DataLoader(dataset=val_d, batch_size=BATCH_SIZE, shuffle=False, num_workers=2)\n",
    "trainloader_eval = data.DataLoader(train_d, batch_size=BATCH_SIZE, shuffle=False, num_workers=2)"
   ]
  },
  {
   "cell_type": "code",
   "execution_count": 37,
   "id": "f27c2136",
   "metadata": {},
   "outputs": [],
   "source": [
    "# resnet18 model\n",
    "from libauc.models import resnet18 as ResNet18\n",
    "\n",
    "#writer = SummaryWriter(\"runs/breast\")\n",
    "model3 = ResNet18(pretrained=False, last_activation=None, num_classes=1, )\n",
    "model3.conv1 = torch.nn.Conv2d(1, 64, kernel_size=7, stride=2, padding=3, bias=False)\n",
    "\n",
    "# HyperParameters\n",
    "SEED = 123\n",
    "BATCH_SIZE = 128\n",
    "imratio = 0.1 # for demo \n",
    "total_epochs = 50\n",
    "decay_epochs = [50, 75]\n",
    "\n",
    "lr = 0.1\n",
    "margin = 1.0\n",
    "epoch_decay = 0.003 # refers gamma in the paper\n",
    "weight_decay = 0.0001\n",
    "\n",
    "\n",
    "# loss and optimizer\n",
    "loss_fn = AUCMLoss()\n",
    "optimizer = PESG(model3, \n",
    "                 loss_fn=loss_fn,\n",
    "                 lr=lr, \n",
    "                 momentum=0.9,\n",
    "                 #margin=margin)\n",
    "                 margin=margin, \n",
    "                 epoch_decay=epoch_decay, \n",
    "                 weight_decay=weight_decay)\n",
    "\n",
    "#writer.add_graph(model=model)  # graph of model structure\n",
    "#writer.close()\n",
    "#sys.exit()\n",
    "\n"
   ]
  },
  {
   "cell_type": "code",
   "execution_count": 38,
   "id": "429ede61",
   "metadata": {},
   "outputs": [
    {
     "name": "stdout",
     "output_type": "stream",
     "text": [
      "Start Training\n",
      "------------------------------\n",
      "epoch: 0, train_loss: 0.0254, train_auc: 0.9626, val_auc: 0.9604, lr: 0.1000\n",
      "0\n",
      "epoch: 1, train_loss: 0.0069, train_auc: 0.9963, val_auc: 0.9926, lr: 0.1000\n",
      "0\n",
      "epoch: 2, train_loss: 0.0058, train_auc: 0.9892, val_auc: 0.9815, lr: 0.1000\n",
      "1\n",
      "epoch: 3, train_loss: 0.0037, train_auc: 0.9971, val_auc: 0.9868, lr: 0.1000\n",
      "0\n",
      "epoch: 4, train_loss: 0.0030, train_auc: 0.9978, val_auc: 0.9939, lr: 0.1000\n",
      "0\n",
      "epoch: 5, train_loss: 0.0020, train_auc: 0.9993, val_auc: 0.9945, lr: 0.1000\n",
      "1\n",
      "epoch: 6, train_loss: 0.0022, train_auc: 0.9988, val_auc: 0.9921, lr: 0.1000\n",
      "2\n",
      "epoch: 7, train_loss: 0.0022, train_auc: 0.9979, val_auc: 0.9917, lr: 0.1000\n",
      "3\n",
      "epoch: 8, train_loss: 0.0023, train_auc: 0.9991, val_auc: 0.9933, lr: 0.1000\n",
      "4\n",
      "epoch: 9, train_loss: 0.0013, train_auc: 0.9989, val_auc: 0.9911, lr: 0.1000\n",
      "5\n",
      "epoch: 10, train_loss: 0.0009, train_auc: 0.9992, val_auc: 0.9934, lr: 0.1000\n",
      "6\n",
      "epoch: 11, train_loss: 0.0006, train_auc: 0.9992, val_auc: 0.9937, lr: 0.1000\n",
      "7\n",
      "epoch: 12, train_loss: 0.0005, train_auc: 0.9994, val_auc: 0.9902, lr: 0.1000\n",
      "8\n",
      "epoch: 13, train_loss: 0.0009, train_auc: 0.9719, val_auc: 0.9656, lr: 0.1000\n",
      "9\n",
      "epoch: 14, train_loss: 0.0039, train_auc: 0.9986, val_auc: 0.9925, lr: 0.1000\n",
      "0\n",
      "epoch: 15, train_loss: 0.0013, train_auc: 0.9993, val_auc: 0.9912, lr: 0.1000\n",
      "1\n",
      "epoch: 16, train_loss: 0.0010, train_auc: 0.9995, val_auc: 0.9945, lr: 0.1000\n",
      "2\n",
      "epoch: 17, train_loss: 0.0010, train_auc: 0.9995, val_auc: 0.9948, lr: 0.1000\n",
      "3\n",
      "epoch: 18, train_loss: 0.0013, train_auc: 0.9993, val_auc: 0.9934, lr: 0.1000\n",
      "4\n",
      "epoch: 19, train_loss: 0.0007, train_auc: 0.9995, val_auc: 0.9929, lr: 0.1000\n",
      "5\n",
      "epoch: 20, train_loss: 0.0004, train_auc: 0.9995, val_auc: 0.9931, lr: 0.1000\n",
      "6\n",
      "epoch: 21, train_loss: 0.0003, train_auc: 0.9995, val_auc: 0.9929, lr: 0.1000\n",
      "7\n",
      "epoch: 22, train_loss: 0.0005, train_auc: 0.9996, val_auc: 0.9935, lr: 0.1000\n",
      "8\n",
      "epoch: 23, train_loss: 0.0004, train_auc: 0.9996, val_auc: 0.9910, lr: 0.1000\n",
      "9\n",
      "epoch: 24, train_loss: 0.0002, train_auc: 0.9996, val_auc: 0.9932, lr: 0.1000\n",
      "10\n",
      "epoch: 25, train_loss: 0.0004, train_auc: 0.9996, val_auc: 0.9896, lr: 0.1000\n",
      "11\n",
      "epoch: 26, train_loss: 0.0003, train_auc: 0.9996, val_auc: 0.9950, lr: 0.1000\n",
      "0\n",
      "epoch: 27, train_loss: 0.0002, train_auc: 0.9996, val_auc: 0.9944, lr: 0.1000\n",
      "1\n",
      "epoch: 28, train_loss: 0.0002, train_auc: 0.9996, val_auc: 0.9955, lr: 0.1000\n",
      "2\n",
      "epoch: 29, train_loss: 0.0002, train_auc: 0.9996, val_auc: 0.9948, lr: 0.1000\n",
      "3\n",
      "epoch: 30, train_loss: 0.0002, train_auc: 0.9997, val_auc: 0.9943, lr: 0.1000\n",
      "4\n",
      "epoch: 31, train_loss: 0.0004, train_auc: 0.9996, val_auc: 0.9940, lr: 0.1000\n",
      "5\n",
      "epoch: 32, train_loss: 0.0003, train_auc: 0.9996, val_auc: 0.9950, lr: 0.1000\n",
      "6\n",
      "epoch: 33, train_loss: 0.0003, train_auc: 0.9996, val_auc: 0.9945, lr: 0.1000\n",
      "7\n",
      "epoch: 34, train_loss: 0.0003, train_auc: 0.9996, val_auc: 0.9960, lr: 0.1000\n",
      "8\n",
      "epoch: 35, train_loss: 0.0004, train_auc: 0.9996, val_auc: 0.9865, lr: 0.1000\n",
      "9\n",
      "epoch: 36, train_loss: 0.0020, train_auc: 0.9993, val_auc: 0.9919, lr: 0.1000\n",
      "0\n",
      "epoch: 37, train_loss: 0.0048, train_auc: 0.9845, val_auc: 0.9716, lr: 0.1000\n",
      "1\n",
      "epoch: 38, train_loss: 0.0045, train_auc: 0.9914, val_auc: 0.9839, lr: 0.1000\n",
      "0\n",
      "epoch: 39, train_loss: 0.0030, train_auc: 0.9992, val_auc: 0.9966, lr: 0.1000\n",
      "0\n",
      "epoch: 40, train_loss: 0.0033, train_auc: 0.9974, val_auc: 0.9935, lr: 0.1000\n",
      "1\n",
      "epoch: 41, train_loss: 0.0030, train_auc: 0.9992, val_auc: 0.9966, lr: 0.1000\n",
      "2\n",
      "epoch: 42, train_loss: 0.0027, train_auc: 0.9953, val_auc: 0.9901, lr: 0.1000\n",
      "3\n",
      "epoch: 43, train_loss: 0.0029, train_auc: 0.9994, val_auc: 0.9933, lr: 0.1000\n",
      "4\n",
      "epoch: 44, train_loss: 0.0023, train_auc: 0.9991, val_auc: 0.9929, lr: 0.1000\n",
      "5\n",
      "epoch: 45, train_loss: 0.0018, train_auc: 0.9962, val_auc: 0.9896, lr: 0.1000\n",
      "6\n",
      "epoch: 46, train_loss: 0.0018, train_auc: 0.9993, val_auc: 0.9886, lr: 0.1000\n",
      "7\n",
      "epoch: 47, train_loss: 0.0020, train_auc: 0.9987, val_auc: 0.9959, lr: 0.1000\n",
      "0\n",
      "epoch: 48, train_loss: 0.0021, train_auc: 0.9994, val_auc: 0.9959, lr: 0.1000\n",
      "1\n",
      "epoch: 49, train_loss: 0.0016, train_auc: 0.9995, val_auc: 0.9961, lr: 0.1000\n",
      "2\n"
     ]
    }
   ],
   "source": [
    "# early stopping patience; how long to wait after last time validation loss improved.\n",
    "train_log, val_log = train(model3, loss_fn, optimizer, total_epochs, trainloader, trainloader_eval, valloader,\n",
    "      patience=patience, decay_epochs=decay_epochs)"
   ]
  },
  {
   "cell_type": "code",
   "execution_count": 39,
   "id": "11ef7d0e",
   "metadata": {},
   "outputs": [
    {
     "data": {
      "text/plain": [
       "Text(0.5, 0, 'Epoch')"
      ]
     },
     "execution_count": 39,
     "metadata": {},
     "output_type": "execute_result"
    },
    {
     "data": {
      "image/png": "[encoded data removed]",
      "text/plain": [
       "<Figure size 648x360 with 1 Axes>"
      ]
     },
     "metadata": {
      "needs_background": "light"
     },
     "output_type": "display_data"
    }
   ],
   "source": [
    "plt.rcParams[\"figure.figsize\"] = (9,5)\n",
    "x=np.arange(len(train_log))\n",
    "plt.figure()\n",
    "plt.plot(x, train_log, linestyle='-', label='Train Set', linewidth=3)\n",
    "plt.plot(x, val_log,  linestyle='-', label='Validation Set', linewidth=3)\n",
    "plt.title('AUCMLoss (10% BreasetMNIST)',fontsize=25)\n",
    "plt.legend(fontsize=15)\n",
    "plt.ylabel('AUROC', fontsize=25)\n",
    "plt.xlabel('Epoch', fontsize=25)"
   ]
  },
  {
   "cell_type": "code",
   "execution_count": 40,
   "id": "989e8858",
   "metadata": {},
   "outputs": [
    {
     "name": "stdout",
     "output_type": "stream",
     "text": [
      "Test : 0.9274\n"
     ]
    }
   ],
   "source": [
    "test_loader = data.DataLoader(dataset=test_dataset, batch_size=BATCH_SIZE)\n",
    "\n",
    "# Testing AUC\n",
    "score_list = list()\n",
    "label_list = list()\n",
    "for _, d in enumerate(test_loader, 0):\n",
    "    tmp_data, tmp_label = d\n",
    "    #tmp_data, tmp_label = tmp_data.cuda(), tmp_label.cuda()\n",
    "    \n",
    "    tmp_score = model3(tmp_data).detach().clone().cpu()\n",
    "    #print(tmp_score)\n",
    "    score_list.append(tmp_score)\n",
    "    label_list.append(tmp_label.cpu())\n",
    "\n",
    "test_label = torch.cat(label_list)\n",
    "test_score = torch.cat(score_list)\n",
    "                   \n",
    "test_auc = metrics.roc_auc_score(test_label, test_score)                   \n",
    "print(\"Test : %.4f\"%test_auc, flush=True)"
   ]
  },
  {
   "cell_type": "code",
   "execution_count": 41,
   "id": "b94bd3a5",
   "metadata": {},
   "outputs": [],
   "source": [
    "# save the best model3\n",
    "torch.save(model3.state_dict(), \"pneumonia_model3.pth\")"
   ]
  },
  {
   "cell_type": "code",
   "execution_count": 42,
   "id": "3480f9a4",
   "metadata": {},
   "outputs": [
    {
     "data": {
      "text/plain": [
       "11649"
      ]
     },
     "execution_count": 42,
     "metadata": {},
     "output_type": "execute_result"
    }
   ],
   "source": [
    "# Back to Step 2\n",
    "# two augmentation combination: Flipping, Gaussian Noise, and Normalize\n",
    "# load more training and validation dataset to create new data using data augmentation\n",
    "desired_class = [1]\n",
    "new_combined_train = torch.utils.data.ConcatDataset([create_new_img_by_augmentations(desired_class,\n",
    "                                                                                     data_transform=data_transform2),\n",
    "                                                     create_new_img_by_augmentations(desired_class,\n",
    "                                                                                     data_transform=data_transform3),\n",
    "                                               create_new_img_by_augmentations(desired_class,\n",
    "                                                                               data_transform=data_transform4)])\n",
    "len(new_combined_train)"
   ]
  },
  {
   "cell_type": "code",
   "execution_count": 43,
   "id": "02720c8a",
   "metadata": {},
   "outputs": [],
   "source": [
    "count_diff = int(max(neg_counts, pos_counts) - min(neg_counts, pos_counts))\n",
    "random_sampler = data.RandomSampler(new_combined_train, num_samples=count_diff)\n",
    "added_dataloader = data.DataLoader(new_combined_train, batch_size=BATCH_SIZE, sampler=random_sampler)\n",
    "\n",
    "added_diter = iter(added_dataloader)\n",
    "examples, labels = next(added_diter)\n",
    "added_tensors_img, added_tensors_labels = examples, labels\n",
    "#for i in range(1, ceil(len(combined_train) / BATCH_SIZE)):\n",
    "for i in range(1, ceil(count_diff / BATCH_SIZE)):\n",
    "    examples, labels = next(added_diter)\n",
    "    added_tensors_img = torch.cat([added_tensors_img, examples])\n",
    "    added_tensors_labels = torch.cat([added_tensors_labels, labels])\n",
    "    \n",
    "X = torch.cat([ct_tensors_img, added_tensors_img])\n",
    "y = torch.cat([ct_tensors_labels, added_tensors_labels])"
   ]
  },
  {
   "cell_type": "code",
   "execution_count": 44,
   "id": "f4374dfe",
   "metadata": {},
   "outputs": [
    {
     "data": {
      "text/plain": [
       "6212"
      ]
     },
     "execution_count": 44,
     "metadata": {},
     "output_type": "execute_result"
    }
   ],
   "source": [
    "# splitting train and validation data with balanced ratio\n",
    "from sklearn.model_selection import train_test_split\n",
    "X_train, X_val, y_train, y_val = train_test_split(X, y, test_size=0.2, random_state=7)\n",
    "len(X_train)"
   ]
  },
  {
   "cell_type": "code",
   "execution_count": 45,
   "id": "75117476",
   "metadata": {},
   "outputs": [],
   "source": [
    "train_d = torch.utils.data.TensorDataset(X_train, y_train)\n",
    "val_d = torch.utils.data.TensorDataset(X_val, y_val)\n",
    "\n",
    "trainloader = data.DataLoader(dataset=train_d, batch_size=BATCH_SIZE, shuffle=True)\n",
    "valloader = data.DataLoader(dataset=val_d, batch_size=BATCH_SIZE, shuffle=False, num_workers=2)\n",
    "trainloader_eval = data.DataLoader(train_d, batch_size=BATCH_SIZE, shuffle=False, num_workers=2)"
   ]
  },
  {
   "cell_type": "code",
   "execution_count": 46,
   "id": "377663a4",
   "metadata": {},
   "outputs": [],
   "source": [
    "# resnet18 model\n",
    "from libauc.models import resnet18 as ResNet18\n",
    "\n",
    "#writer = SummaryWriter(\"runs/breast\")\n",
    "model4 = ResNet18(pretrained=False, last_activation=None, num_classes=1, )\n",
    "model4.conv1 = torch.nn.Conv2d(1, 64, kernel_size=7, stride=2, padding=3, bias=False)\n",
    "\n",
    "# HyperParameters\n",
    "SEED = 123\n",
    "BATCH_SIZE = 128\n",
    "imratio = 0.1 # for demo \n",
    "total_epochs = 50\n",
    "decay_epochs = [50, 75]\n",
    "\n",
    "lr = 0.1\n",
    "margin = 1.0\n",
    "epoch_decay = 0.003 # refers gamma in the paper\n",
    "weight_decay = 0.0001\n",
    "\n",
    "\n",
    "# loss and optimizer\n",
    "loss_fn = AUCMLoss()\n",
    "optimizer = PESG(model4, \n",
    "                 loss_fn=loss_fn,\n",
    "                 lr=lr, \n",
    "                 momentum=0.9,\n",
    "                 #margin=margin)\n",
    "                 margin=margin, \n",
    "                 epoch_decay=epoch_decay, \n",
    "                 weight_decay=weight_decay)\n",
    "\n",
    "#writer.add_graph(model=model)  # graph of model structure\n",
    "#writer.close()\n",
    "#sys.exit()\n",
    "\n"
   ]
  },
  {
   "cell_type": "code",
   "execution_count": 47,
   "id": "04ab213f",
   "metadata": {},
   "outputs": [
    {
     "name": "stdout",
     "output_type": "stream",
     "text": [
      "Start Training\n",
      "------------------------------\n",
      "epoch: 0, train_loss: 0.0253, train_auc: 0.9801, val_auc: 0.9727, lr: 0.1000\n",
      "0\n",
      "epoch: 1, train_loss: 0.0063, train_auc: 0.9959, val_auc: 0.9916, lr: 0.1000\n",
      "0\n",
      "epoch: 2, train_loss: 0.0054, train_auc: 0.9966, val_auc: 0.9882, lr: 0.1000\n",
      "1\n",
      "epoch: 3, train_loss: 0.0030, train_auc: 0.9980, val_auc: 0.9934, lr: 0.1000\n",
      "0\n",
      "epoch: 4, train_loss: 0.0028, train_auc: 0.9978, val_auc: 0.9926, lr: 0.1000\n",
      "1\n",
      "epoch: 5, train_loss: 0.0025, train_auc: 0.9976, val_auc: 0.9927, lr: 0.1000\n",
      "2\n",
      "epoch: 6, train_loss: 0.0022, train_auc: 0.9989, val_auc: 0.9922, lr: 0.1000\n",
      "3\n",
      "epoch: 7, train_loss: 0.0021, train_auc: 0.9991, val_auc: 0.9921, lr: 0.1000\n",
      "4\n",
      "epoch: 8, train_loss: 0.0012, train_auc: 0.9992, val_auc: 0.9936, lr: 0.1000\n",
      "5\n",
      "epoch: 9, train_loss: 0.0010, train_auc: 0.9967, val_auc: 0.9883, lr: 0.1000\n",
      "6\n",
      "epoch: 10, train_loss: 0.0012, train_auc: 0.9995, val_auc: 0.9948, lr: 0.1000\n",
      "0\n",
      "epoch: 11, train_loss: 0.0012, train_auc: 0.9985, val_auc: 0.9921, lr: 0.1000\n",
      "1\n",
      "epoch: 12, train_loss: 0.0011, train_auc: 0.9994, val_auc: 0.9946, lr: 0.1000\n",
      "2\n",
      "epoch: 13, train_loss: 0.0005, train_auc: 0.9995, val_auc: 0.9953, lr: 0.1000\n",
      "3\n",
      "epoch: 14, train_loss: 0.0004, train_auc: 0.9996, val_auc: 0.9947, lr: 0.1000\n",
      "4\n",
      "epoch: 15, train_loss: 0.0004, train_auc: 0.9996, val_auc: 0.9957, lr: 0.1000\n",
      "5\n",
      "epoch: 16, train_loss: 0.0003, train_auc: 0.9997, val_auc: 0.9956, lr: 0.1000\n",
      "6\n",
      "epoch: 17, train_loss: 0.0004, train_auc: 0.9997, val_auc: 0.9960, lr: 0.1000\n",
      "7\n",
      "epoch: 18, train_loss: 0.0003, train_auc: 0.9997, val_auc: 0.9958, lr: 0.1000\n",
      "8\n",
      "epoch: 19, train_loss: 0.0003, train_auc: 0.9997, val_auc: 0.9956, lr: 0.1000\n",
      "9\n",
      "epoch: 20, train_loss: 0.0003, train_auc: 0.9995, val_auc: 0.9905, lr: 0.1000\n",
      "10\n",
      "epoch: 21, train_loss: 0.0004, train_auc: 0.9997, val_auc: 0.9959, lr: 0.1000\n",
      "0\n",
      "epoch: 22, train_loss: 0.0003, train_auc: 0.9998, val_auc: 0.9957, lr: 0.1000\n",
      "1\n",
      "epoch: 23, train_loss: 0.0003, train_auc: 0.9998, val_auc: 0.9952, lr: 0.1000\n",
      "2\n",
      "epoch: 24, train_loss: 0.0003, train_auc: 0.9998, val_auc: 0.9956, lr: 0.1000\n",
      "3\n",
      "epoch: 25, train_loss: 0.0004, train_auc: 0.9997, val_auc: 0.9906, lr: 0.1000\n",
      "4\n",
      "epoch: 26, train_loss: 0.0027, train_auc: 0.9848, val_auc: 0.9750, lr: 0.1000\n",
      "5\n",
      "epoch: 27, train_loss: 0.0036, train_auc: 0.9977, val_auc: 0.9939, lr: 0.1000\n",
      "0\n",
      "epoch: 28, train_loss: 0.0033, train_auc: 0.9993, val_auc: 0.9953, lr: 0.1000\n",
      "1\n",
      "epoch: 29, train_loss: 0.0023, train_auc: 0.9852, val_auc: 0.9706, lr: 0.1000\n",
      "2\n",
      "epoch: 30, train_loss: 0.0029, train_auc: 0.9991, val_auc: 0.9920, lr: 0.1000\n",
      "0\n",
      "epoch: 31, train_loss: 0.0012, train_auc: 0.9995, val_auc: 0.9957, lr: 0.1000\n",
      "1\n",
      "epoch: 32, train_loss: 0.0008, train_auc: 0.9996, val_auc: 0.9939, lr: 0.1000\n",
      "2\n",
      "epoch: 33, train_loss: 0.0006, train_auc: 0.9994, val_auc: 0.9918, lr: 0.1000\n",
      "3\n",
      "epoch: 34, train_loss: 0.0008, train_auc: 0.9996, val_auc: 0.9795, lr: 0.1000\n",
      "4\n",
      "epoch: 35, train_loss: 0.0006, train_auc: 0.9984, val_auc: 0.9908, lr: 0.1000\n",
      "0\n",
      "epoch: 36, train_loss: 0.0023, train_auc: 0.9995, val_auc: 0.9959, lr: 0.1000\n",
      "0\n",
      "epoch: 37, train_loss: 0.0009, train_auc: 0.9997, val_auc: 0.9923, lr: 0.1000\n",
      "1\n",
      "epoch: 38, train_loss: 0.0032, train_auc: 0.9988, val_auc: 0.9946, lr: 0.1000\n",
      "2\n",
      "epoch: 39, train_loss: 0.0025, train_auc: 0.9992, val_auc: 0.9951, lr: 0.1000\n",
      "3\n",
      "epoch: 40, train_loss: 0.0024, train_auc: 0.9993, val_auc: 0.9936, lr: 0.1000\n",
      "4\n",
      "epoch: 41, train_loss: 0.0011, train_auc: 0.9997, val_auc: 0.9951, lr: 0.1000\n",
      "5\n",
      "epoch: 42, train_loss: 0.0011, train_auc: 0.9996, val_auc: 0.9915, lr: 0.1000\n",
      "6\n",
      "epoch: 43, train_loss: 0.0010, train_auc: 0.9995, val_auc: 0.9874, lr: 0.1000\n",
      "7\n",
      "epoch: 44, train_loss: 0.0020, train_auc: 0.9991, val_auc: 0.9932, lr: 0.1000\n",
      "0\n",
      "epoch: 45, train_loss: 0.0023, train_auc: 0.9991, val_auc: 0.9831, lr: 0.1000\n",
      "1\n",
      "epoch: 46, train_loss: 0.0017, train_auc: 0.9989, val_auc: 0.9883, lr: 0.1000\n",
      "0\n",
      "epoch: 47, train_loss: 0.0009, train_auc: 0.9998, val_auc: 0.9955, lr: 0.1000\n",
      "0\n",
      "epoch: 48, train_loss: 0.0004, train_auc: 0.9996, val_auc: 0.9954, lr: 0.1000\n",
      "1\n",
      "epoch: 49, train_loss: 0.0004, train_auc: 0.9997, val_auc: 0.9952, lr: 0.1000\n",
      "2\n"
     ]
    }
   ],
   "source": [
    "# early stopping patience; how long to wait after last time validation loss improved.\n",
    "train_log, val_log = train(model4, loss_fn, optimizer, total_epochs, trainloader, trainloader_eval, valloader,\n",
    "      patience=patience, decay_epochs=decay_epochs)"
   ]
  },
  {
   "cell_type": "code",
   "execution_count": 48,
   "id": "b0e7ee58",
   "metadata": {},
   "outputs": [
    {
     "data": {
      "text/plain": [
       "Text(0.5, 0, 'Epoch')"
      ]
     },
     "execution_count": 48,
     "metadata": {},
     "output_type": "execute_result"
    },
    {
     "data": {
      "image/png": "[encoded data removed]",
      "text/plain": [
       "<Figure size 648x360 with 1 Axes>"
      ]
     },
     "metadata": {
      "needs_background": "light"
     },
     "output_type": "display_data"
    }
   ],
   "source": [
    "plt.rcParams[\"figure.figsize\"] = (9,5)\n",
    "x=np.arange(len(train_log))\n",
    "plt.figure()\n",
    "plt.plot(x, train_log, linestyle='-', label='Train Set', linewidth=3)\n",
    "plt.plot(x, val_log,  linestyle='-', label='Validation Set', linewidth=3)\n",
    "plt.title('AUCMLoss (10% BreasetMNIST)',fontsize=25)\n",
    "plt.legend(fontsize=15)\n",
    "plt.ylabel('AUROC', fontsize=25)\n",
    "plt.xlabel('Epoch', fontsize=25)"
   ]
  },
  {
   "cell_type": "code",
   "execution_count": 49,
   "id": "d59990ba",
   "metadata": {},
   "outputs": [
    {
     "name": "stdout",
     "output_type": "stream",
     "text": [
      "Test : 0.9118\n"
     ]
    }
   ],
   "source": [
    "test_loader = data.DataLoader(dataset=test_dataset, batch_size=BATCH_SIZE)\n",
    "\n",
    "# Testing AUC\n",
    "score_list = list()\n",
    "label_list = list()\n",
    "for _, d in enumerate(test_loader, 0):\n",
    "    tmp_data, tmp_label = d\n",
    "    #tmp_data, tmp_label = tmp_data.cuda(), tmp_label.cuda()\n",
    "    \n",
    "    tmp_score = model4(tmp_data).detach().clone().cpu()\n",
    "    #print(tmp_score)\n",
    "    score_list.append(tmp_score)\n",
    "    label_list.append(tmp_label.cpu())\n",
    "\n",
    "test_label = torch.cat(label_list)\n",
    "test_score = torch.cat(score_list)\n",
    "                   \n",
    "test_auc = metrics.roc_auc_score(test_label, test_score)                   \n",
    "print(\"Test : %.4f\"%test_auc, flush=True)"
   ]
  },
  {
   "cell_type": "code",
   "execution_count": 50,
   "id": "3e833ac2",
   "metadata": {},
   "outputs": [],
   "source": [
    "# save the best model4\n",
    "torch.save(model4.state_dict(), \"pneumonia_model4.pth\")"
   ]
  },
  {
   "cell_type": "markdown",
   "id": "9214841f",
   "metadata": {},
   "source": [
    "Data created by augmentation techniques Horizontal flip and data created by Normalize generated the top performing ResNet model. So, the dataset we will use for the next steps will be that one."
   ]
  },
  {
   "cell_type": "markdown",
   "id": "e8296fee",
   "metadata": {},
   "source": [
    "Combined Step 4 & 5: Optimizer selection. Tune optimizer, batch size, and step size and Hyperparameter tuning. Lastly, model training and testing with the best dataset"
   ]
  },
  {
   "cell_type": "code",
   "execution_count": 51,
   "id": "861f37c6",
   "metadata": {},
   "outputs": [
    {
     "data": {
      "text/plain": [
       "7766"
      ]
     },
     "execution_count": 51,
     "metadata": {},
     "output_type": "execute_result"
    }
   ],
   "source": [
    "# load more training and validation dataset to create new data using data augmentation\n",
    "desired_class = [1]\n",
    "new_combined_train = torch.utils.data.ConcatDataset([create_new_img_by_augmentations(desired_class,\n",
    "                                                                                     data_transform=data_transform3),\n",
    "                                               create_new_img_by_augmentations(desired_class,\n",
    "                                                                               data_transform=data_transform4)])\n",
    "len(new_combined_train)"
   ]
  },
  {
   "cell_type": "code",
   "execution_count": 52,
   "id": "668061b8",
   "metadata": {},
   "outputs": [],
   "source": [
    "# construct upsampled dataset\n",
    "count_diff = int(max(neg_counts, pos_counts) - min(neg_counts, pos_counts))\n",
    "random_sampler = data.RandomSampler(new_combined_train, num_samples=count_diff)\n",
    "added_dataloader = data.DataLoader(new_combined_train, batch_size=BATCH_SIZE, sampler=random_sampler)\n",
    "\n",
    "added_diter = iter(added_dataloader)\n",
    "examples, labels = next(added_diter)\n",
    "added_tensors_img, added_tensors_labels = examples, labels\n",
    "#for i in range(1, ceil(len(combined_train) / BATCH_SIZE)):\n",
    "for i in range(1, ceil(count_diff / BATCH_SIZE)):\n",
    "    examples, labels = next(added_diter)\n",
    "    added_tensors_img = torch.cat([added_tensors_img, examples])\n",
    "    added_tensors_labels = torch.cat([added_tensors_labels, labels])\n",
    "\n",
    "X = torch.cat([ct_tensors_img, added_tensors_img])\n",
    "y = torch.cat([ct_tensors_labels, added_tensors_labels])"
   ]
  },
  {
   "cell_type": "code",
   "execution_count": 53,
   "id": "59d6de2a",
   "metadata": {},
   "outputs": [
    {
     "data": {
      "text/plain": [
       "6212"
      ]
     },
     "execution_count": 53,
     "metadata": {},
     "output_type": "execute_result"
    }
   ],
   "source": [
    "# splitting train and validation data with balanced ratio\n",
    "from sklearn.model_selection import train_test_split\n",
    "X_train, X_val, y_train, y_val = train_test_split(X, y, test_size=0.2, random_state=7)\n",
    "len(X_train)"
   ]
  },
  {
   "cell_type": "code",
   "execution_count": 58,
   "id": "f00d1b65",
   "metadata": {},
   "outputs": [],
   "source": [
    "train_d = torch.utils.data.TensorDataset(X_train, y_train)\n",
    "val_d = torch.utils.data.TensorDataset(X_val, y_val)"
   ]
  },
  {
   "cell_type": "code",
   "execution_count": 59,
   "id": "55757e48",
   "metadata": {
    "scrolled": true
   },
   "outputs": [
    {
     "name": "stdout",
     "output_type": "stream",
     "text": [
      "optimzer: adam, step size: 0.001, batch size: 128\n",
      "Start Training\n",
      "------------------------------\n",
      "epoch: 0, train_loss: 0.0055, train_auc: 0.8736, val_auc: 0.8601, lr: 0.0010\n",
      "0\n",
      "epoch: 1, train_loss: 0.0000, train_auc: 0.7977, val_auc: 0.7880, lr: 0.0010\n",
      "1\n",
      "epoch: 2, train_loss: 0.0000, train_auc: 0.8164, val_auc: 0.8033, lr: 0.0010\n",
      "0\n",
      "epoch: 3, train_loss: 0.0000, train_auc: 0.8215, val_auc: 0.8037, lr: 0.0010\n",
      "1\n",
      "epoch: 4, train_loss: 0.0000, train_auc: 0.9014, val_auc: 0.8841, lr: 0.0010\n",
      "0\n",
      "epoch: 5, train_loss: 0.0000, train_auc: 0.8680, val_auc: 0.8474, lr: 0.0010\n",
      "1\n",
      "epoch: 6, train_loss: 0.0000, train_auc: 0.8354, val_auc: 0.8148, lr: 0.0010\n",
      "2\n",
      "epoch: 7, train_loss: 0.0000, train_auc: 0.8855, val_auc: 0.8728, lr: 0.0010\n",
      "0\n",
      "epoch: 8, train_loss: 0.0000, train_auc: 0.9657, val_auc: 0.9558, lr: 0.0010\n",
      "0\n",
      "epoch: 9, train_loss: 0.0000, train_auc: 0.9355, val_auc: 0.9208, lr: 0.0010\n",
      "1\n",
      "epoch: 10, train_loss: 0.0000, train_auc: 0.9048, val_auc: 0.8849, lr: 0.0010\n",
      "2\n",
      "epoch: 11, train_loss: 0.0000, train_auc: 0.9207, val_auc: 0.9053, lr: 0.0010\n",
      "0\n",
      "epoch: 12, train_loss: 0.0000, train_auc: 0.5501, val_auc: 0.5617, lr: 0.0010\n",
      "1\n",
      "epoch: 13, train_loss: 0.0000, train_auc: 0.6402, val_auc: 0.6497, lr: 0.0010\n",
      "0\n",
      "epoch: 14, train_loss: 0.0000, train_auc: 0.9076, val_auc: 0.9011, lr: 0.0010\n",
      "0\n",
      "epoch: 15, train_loss: 0.0000, train_auc: 0.7412, val_auc: 0.7562, lr: 0.0010\n",
      "1\n",
      "epoch: 16, train_loss: 0.0000, train_auc: 0.9600, val_auc: 0.9500, lr: 0.0010\n",
      "0\n",
      "epoch: 17, train_loss: 0.0000, train_auc: 0.9057, val_auc: 0.8995, lr: 0.0010\n",
      "1\n",
      "epoch: 18, train_loss: 0.0000, train_auc: 0.7829, val_auc: 0.7803, lr: 0.0010\n",
      "2\n",
      "epoch: 19, train_loss: 0.0000, train_auc: 0.9407, val_auc: 0.9432, lr: 0.0010\n",
      "0\n",
      "epoch: 20, train_loss: 0.0001, train_auc: 0.5123, val_auc: 0.5020, lr: 0.0010\n",
      "1\n",
      "epoch: 21, train_loss: 0.0001, train_auc: 0.9852, val_auc: 0.9846, lr: 0.0010\n",
      "0\n",
      "epoch: 22, train_loss: 0.0001, train_auc: 0.9902, val_auc: 0.9863, lr: 0.0010\n",
      "1\n",
      "epoch: 23, train_loss: 0.0001, train_auc: 0.9776, val_auc: 0.9670, lr: 0.0010\n",
      "2\n",
      "epoch: 24, train_loss: 0.0001, train_auc: 0.6472, val_auc: 0.6710, lr: 0.0010\n",
      "3\n",
      "epoch: 25, train_loss: 0.0001, train_auc: 0.9276, val_auc: 0.9308, lr: 0.0010\n",
      "0\n",
      "epoch: 26, train_loss: 0.0001, train_auc: 0.9655, val_auc: 0.9600, lr: 0.0010\n",
      "0\n",
      "epoch: 27, train_loss: 0.0001, train_auc: 0.9606, val_auc: 0.9586, lr: 0.0010\n",
      "1\n",
      "epoch: 28, train_loss: 0.0001, train_auc: 0.6148, val_auc: 0.6203, lr: 0.0010\n",
      "2\n",
      "epoch: 29, train_loss: 0.0001, train_auc: 0.9081, val_auc: 0.9123, lr: 0.0010\n",
      "0\n",
      "epoch: 30, train_loss: 0.0001, train_auc: 0.9675, val_auc: 0.9728, lr: 0.0010\n",
      "0\n",
      "epoch: 31, train_loss: 0.0001, train_auc: 0.9346, val_auc: 0.9278, lr: 0.0010\n",
      "1\n",
      "epoch: 32, train_loss: 0.0001, train_auc: 0.9714, val_auc: 0.9664, lr: 0.0010\n",
      "0\n",
      "epoch: 33, train_loss: 0.0001, train_auc: 0.9213, val_auc: 0.9145, lr: 0.0010\n",
      "1\n",
      "epoch: 34, train_loss: 0.0001, train_auc: 0.9172, val_auc: 0.9185, lr: 0.0010\n",
      "2\n",
      "epoch: 35, train_loss: 0.0001, train_auc: 0.8952, val_auc: 0.8836, lr: 0.0010\n",
      "3\n",
      "epoch: 36, train_loss: 0.0001, train_auc: 0.9910, val_auc: 0.9856, lr: 0.0010\n",
      "0\n",
      "epoch: 37, train_loss: 0.0001, train_auc: 0.9829, val_auc: 0.9787, lr: 0.0010\n",
      "1\n",
      "epoch: 38, train_loss: 0.0001, train_auc: 0.9838, val_auc: 0.9818, lr: 0.0010\n",
      "2\n",
      "epoch: 39, train_loss: 0.0001, train_auc: 0.9502, val_auc: 0.9519, lr: 0.0010\n",
      "3\n",
      "epoch: 40, train_loss: 0.0001, train_auc: 0.9894, val_auc: 0.9879, lr: 0.0010\n",
      "0\n",
      "epoch: 41, train_loss: 0.0001, train_auc: 0.9905, val_auc: 0.9883, lr: 0.0010\n",
      "1\n",
      "epoch: 42, train_loss: 0.0000, train_auc: 0.9706, val_auc: 0.9653, lr: 0.0010\n",
      "2\n",
      "epoch: 43, train_loss: 0.0000, train_auc: 0.9948, val_auc: 0.9928, lr: 0.0010\n",
      "0\n",
      "epoch: 44, train_loss: 0.0000, train_auc: 0.9912, val_auc: 0.9878, lr: 0.0010\n",
      "1\n",
      "epoch: 45, train_loss: 0.0000, train_auc: 0.9960, val_auc: 0.9937, lr: 0.0010\n",
      "0\n",
      "epoch: 46, train_loss: 0.0000, train_auc: 0.9963, val_auc: 0.9934, lr: 0.0010\n",
      "1\n",
      "epoch: 47, train_loss: 0.0000, train_auc: 0.9956, val_auc: 0.9914, lr: 0.0010\n",
      "2\n",
      "epoch: 48, train_loss: 0.0000, train_auc: 0.9964, val_auc: 0.9918, lr: 0.0010\n",
      "3\n",
      "epoch: 49, train_loss: 0.0000, train_auc: 0.9956, val_auc: 0.9906, lr: 0.0010\n",
      "4\n",
      "Validation : 0.9909\n",
      "optimzer: adam, step size: 0.1, batch size: 128\n",
      "Start Training\n",
      "------------------------------\n",
      "epoch: 0, train_loss: 0.0014, train_auc: 0.4791, val_auc: 0.4470, lr: 0.1000\n",
      "0\n",
      "epoch: 1, train_loss: 0.0000, train_auc: 0.5630, val_auc: 0.5580, lr: 0.1000\n",
      "0\n",
      "epoch: 2, train_loss: 0.0000, train_auc: 0.5000, val_auc: 0.5000, lr: 0.1000\n",
      "1\n",
      "epoch: 3, train_loss: 0.0000, train_auc: 0.5000, val_auc: 0.5000, lr: 0.1000\n",
      "2\n",
      "epoch: 4, train_loss: 0.0000, train_auc: 0.5000, val_auc: 0.5000, lr: 0.1000\n",
      "3\n",
      "epoch: 5, train_loss: 0.0000, train_auc: 0.5000, val_auc: 0.5000, lr: 0.1000\n",
      "4\n",
      "epoch: 6, train_loss: 0.0000, train_auc: 0.5000, val_auc: 0.5000, lr: 0.1000\n",
      "5\n",
      "epoch: 7, train_loss: 0.0000, train_auc: 0.5000, val_auc: 0.5000, lr: 0.1000\n",
      "6\n",
      "epoch: 8, train_loss: 0.0000, train_auc: 0.5000, val_auc: 0.5000, lr: 0.1000\n",
      "7\n",
      "Early stopping\n",
      "Validation : 0.5000\n",
      "optimzer: adam, step size: 0.001, batch size: 256\n",
      "Start Training\n",
      "------------------------------\n",
      "epoch: 0, train_loss: 0.0081, train_auc: 0.4629, val_auc: 0.4540, lr: 0.0010\n",
      "0\n",
      "epoch: 1, train_loss: 0.0000, train_auc: 0.7902, val_auc: 0.7833, lr: 0.0010\n",
      "0\n",
      "epoch: 2, train_loss: 0.0000, train_auc: 0.7593, val_auc: 0.7747, lr: 0.0010\n",
      "1\n",
      "epoch: 3, train_loss: 0.0000, train_auc: 0.7743, val_auc: 0.7902, lr: 0.0010\n",
      "0\n",
      "epoch: 4, train_loss: 0.0000, train_auc: 0.8045, val_auc: 0.8176, lr: 0.0010\n",
      "0\n",
      "epoch: 5, train_loss: 0.0000, train_auc: 0.8350, val_auc: 0.8432, lr: 0.0010\n",
      "0\n",
      "epoch: 6, train_loss: 0.0000, train_auc: 0.8600, val_auc: 0.8608, lr: 0.0010\n",
      "0\n",
      "epoch: 7, train_loss: 0.0000, train_auc: 0.8783, val_auc: 0.8786, lr: 0.0010\n",
      "0\n",
      "epoch: 8, train_loss: 0.0000, train_auc: 0.9165, val_auc: 0.9105, lr: 0.0010\n",
      "0\n",
      "epoch: 9, train_loss: 0.0000, train_auc: 0.9157, val_auc: 0.9102, lr: 0.0010\n",
      "1\n",
      "epoch: 10, train_loss: 0.0000, train_auc: 0.9370, val_auc: 0.9304, lr: 0.0010\n",
      "0\n",
      "epoch: 11, train_loss: 0.0000, train_auc: 0.9566, val_auc: 0.9536, lr: 0.0010\n",
      "0\n",
      "epoch: 12, train_loss: 0.0000, train_auc: 0.9342, val_auc: 0.9255, lr: 0.0010\n",
      "1\n",
      "epoch: 13, train_loss: 0.0000, train_auc: 0.9502, val_auc: 0.9423, lr: 0.0010\n",
      "0\n",
      "epoch: 14, train_loss: 0.0000, train_auc: 0.9116, val_auc: 0.9096, lr: 0.0010\n",
      "1\n",
      "epoch: 15, train_loss: 0.0000, train_auc: 0.9675, val_auc: 0.9657, lr: 0.0010\n",
      "0\n",
      "epoch: 16, train_loss: 0.0000, train_auc: 0.9681, val_auc: 0.9668, lr: 0.0010\n",
      "1\n",
      "epoch: 17, train_loss: 0.0000, train_auc: 0.9780, val_auc: 0.9777, lr: 0.0010\n",
      "0\n",
      "epoch: 18, train_loss: 0.0000, train_auc: 0.9610, val_auc: 0.9534, lr: 0.0010\n",
      "1\n",
      "epoch: 19, train_loss: 0.0000, train_auc: 0.9806, val_auc: 0.9818, lr: 0.0010\n",
      "0\n",
      "epoch: 20, train_loss: 0.0000, train_auc: 0.9794, val_auc: 0.9784, lr: 0.0010\n",
      "1\n",
      "epoch: 21, train_loss: 0.0000, train_auc: 0.9566, val_auc: 0.9474, lr: 0.0010\n",
      "2\n",
      "epoch: 22, train_loss: 0.0000, train_auc: 0.9630, val_auc: 0.9595, lr: 0.0010\n",
      "0\n",
      "epoch: 23, train_loss: 0.0000, train_auc: 0.9781, val_auc: 0.9751, lr: 0.0010\n",
      "0\n",
      "epoch: 24, train_loss: 0.0000, train_auc: 0.9647, val_auc: 0.9619, lr: 0.0010\n",
      "1\n",
      "epoch: 25, train_loss: 0.0000, train_auc: 0.9452, val_auc: 0.9304, lr: 0.0010\n",
      "2\n",
      "epoch: 26, train_loss: 0.0000, train_auc: 0.9720, val_auc: 0.9690, lr: 0.0010\n",
      "0\n",
      "epoch: 27, train_loss: 0.0000, train_auc: 0.9618, val_auc: 0.9583, lr: 0.0010\n",
      "1\n",
      "epoch: 28, train_loss: 0.0000, train_auc: 0.7933, val_auc: 0.7955, lr: 0.0010\n",
      "2\n",
      "epoch: 29, train_loss: 0.0000, train_auc: 0.9719, val_auc: 0.9716, lr: 0.0010\n",
      "0\n",
      "epoch: 30, train_loss: 0.0000, train_auc: 0.9704, val_auc: 0.9656, lr: 0.0010\n",
      "1\n",
      "epoch: 31, train_loss: 0.0000, train_auc: 0.9359, val_auc: 0.9363, lr: 0.0010\n",
      "2\n",
      "epoch: 32, train_loss: 0.0000, train_auc: 0.9861, val_auc: 0.9848, lr: 0.0010\n",
      "0\n",
      "epoch: 33, train_loss: 0.0000, train_auc: 0.9852, val_auc: 0.9826, lr: 0.0010\n",
      "1\n",
      "epoch: 34, train_loss: 0.0000, train_auc: 0.9785, val_auc: 0.9740, lr: 0.0010\n",
      "2\n",
      "epoch: 35, train_loss: 0.0000, train_auc: 0.8285, val_auc: 0.8278, lr: 0.0010\n",
      "3\n",
      "epoch: 36, train_loss: 0.0000, train_auc: 0.9429, val_auc: 0.9375, lr: 0.0010\n",
      "0\n",
      "epoch: 37, train_loss: 0.0000, train_auc: 0.6569, val_auc: 0.6625, lr: 0.0010\n",
      "1\n",
      "epoch: 38, train_loss: 0.0000, train_auc: 0.9199, val_auc: 0.9131, lr: 0.0010\n",
      "0\n",
      "epoch: 39, train_loss: 0.0000, train_auc: 0.9709, val_auc: 0.9685, lr: 0.0010\n",
      "0\n"
     ]
    },
    {
     "name": "stdout",
     "output_type": "stream",
     "text": [
      "epoch: 40, train_loss: 0.0001, train_auc: 0.9621, val_auc: 0.9614, lr: 0.0010\n",
      "1\n",
      "epoch: 41, train_loss: 0.0001, train_auc: 0.9879, val_auc: 0.9843, lr: 0.0010\n",
      "0\n",
      "epoch: 42, train_loss: 0.0001, train_auc: 0.7063, val_auc: 0.7307, lr: 0.0010\n",
      "1\n",
      "epoch: 43, train_loss: 0.0001, train_auc: 0.9132, val_auc: 0.9069, lr: 0.0010\n",
      "0\n",
      "epoch: 44, train_loss: 0.0001, train_auc: 0.9073, val_auc: 0.9051, lr: 0.0010\n",
      "1\n",
      "epoch: 45, train_loss: 0.0001, train_auc: 0.9328, val_auc: 0.9296, lr: 0.0010\n",
      "0\n",
      "epoch: 46, train_loss: 0.0001, train_auc: 0.9541, val_auc: 0.9383, lr: 0.0010\n",
      "0\n",
      "epoch: 47, train_loss: 0.0001, train_auc: 0.8025, val_auc: 0.8040, lr: 0.0010\n",
      "1\n",
      "epoch: 48, train_loss: 0.0001, train_auc: 0.5241, val_auc: 0.5176, lr: 0.0010\n",
      "2\n",
      "epoch: 49, train_loss: 0.0001, train_auc: 0.9435, val_auc: 0.9523, lr: 0.0010\n",
      "0\n",
      "Validation : 0.9559\n",
      "optimzer: adam, step size: 0.1, batch size: 256\n",
      "Start Training\n",
      "------------------------------\n",
      "epoch: 0, train_loss: 0.0041, train_auc: 0.5435, val_auc: 0.5202, lr: 0.1000\n",
      "0\n",
      "epoch: 1, train_loss: 0.0000, train_auc: 0.5344, val_auc: 0.5629, lr: 0.1000\n",
      "0\n",
      "epoch: 2, train_loss: 0.0000, train_auc: 0.4628, val_auc: 0.4543, lr: 0.1000\n",
      "1\n",
      "epoch: 3, train_loss: 0.0000, train_auc: 0.4680, val_auc: 0.4758, lr: 0.1000\n",
      "0\n",
      "epoch: 4, train_loss: 0.0000, train_auc: 0.5000, val_auc: 0.5000, lr: 0.1000\n",
      "0\n",
      "epoch: 5, train_loss: 0.0000, train_auc: 0.5000, val_auc: 0.5000, lr: 0.1000\n",
      "1\n",
      "epoch: 6, train_loss: 0.0000, train_auc: 0.5000, val_auc: 0.5000, lr: 0.1000\n",
      "2\n",
      "epoch: 7, train_loss: 0.0000, train_auc: 0.5000, val_auc: 0.5000, lr: 0.1000\n",
      "3\n",
      "epoch: 8, train_loss: 0.0000, train_auc: 0.5000, val_auc: 0.5000, lr: 0.1000\n",
      "4\n",
      "epoch: 9, train_loss: 0.0000, train_auc: 0.5000, val_auc: 0.5000, lr: 0.1000\n",
      "5\n",
      "epoch: 10, train_loss: 0.0000, train_auc: 0.5000, val_auc: 0.5000, lr: 0.1000\n",
      "6\n",
      "epoch: 11, train_loss: 0.0000, train_auc: 0.5000, val_auc: 0.5000, lr: 0.1000\n",
      "7\n",
      "Early stopping\n",
      "Validation : 0.5000\n",
      "optimzer: PESG, step size: 0.001, batch size: 128\n",
      "Start Training\n",
      "------------------------------\n",
      "epoch: 0, train_loss: 0.0705, train_auc: 0.7494, val_auc: 0.7303, lr: 0.0010\n",
      "0\n",
      "epoch: 1, train_loss: 0.0566, train_auc: 0.8411, val_auc: 0.8143, lr: 0.0010\n",
      "0\n",
      "epoch: 2, train_loss: 0.0620, train_auc: 0.8975, val_auc: 0.8730, lr: 0.0010\n",
      "0\n",
      "epoch: 3, train_loss: 0.0696, train_auc: 0.9325, val_auc: 0.9120, lr: 0.0010\n",
      "0\n",
      "epoch: 4, train_loss: 0.0765, train_auc: 0.9541, val_auc: 0.9379, lr: 0.0010\n",
      "0\n",
      "epoch: 5, train_loss: 0.0816, train_auc: 0.9677, val_auc: 0.9534, lr: 0.0010\n",
      "0\n",
      "epoch: 6, train_loss: 0.0852, train_auc: 0.9752, val_auc: 0.9640, lr: 0.0010\n",
      "0\n",
      "epoch: 7, train_loss: 0.0869, train_auc: 0.9800, val_auc: 0.9704, lr: 0.0010\n",
      "0\n",
      "epoch: 8, train_loss: 0.0866, train_auc: 0.9822, val_auc: 0.9735, lr: 0.0010\n",
      "1\n",
      "epoch: 9, train_loss: 0.0846, train_auc: 0.9837, val_auc: 0.9770, lr: 0.0010\n",
      "2\n",
      "epoch: 10, train_loss: 0.0819, train_auc: 0.9851, val_auc: 0.9788, lr: 0.0010\n",
      "3\n",
      "epoch: 11, train_loss: 0.0785, train_auc: 0.9859, val_auc: 0.9800, lr: 0.0010\n",
      "4\n",
      "epoch: 12, train_loss: 0.0739, train_auc: 0.9867, val_auc: 0.9812, lr: 0.0010\n",
      "5\n",
      "epoch: 13, train_loss: 0.0696, train_auc: 0.9868, val_auc: 0.9818, lr: 0.0010\n",
      "6\n",
      "epoch: 14, train_loss: 0.0645, train_auc: 0.9876, val_auc: 0.9827, lr: 0.0010\n",
      "7\n",
      "Early stopping\n",
      "Validation : 0.9829\n",
      "optimzer: PESG, step size: 0.1, batch size: 128\n",
      "Start Training\n",
      "------------------------------\n",
      "epoch: 0, train_loss: 0.0247, train_auc: 0.9882, val_auc: 0.9835, lr: 0.1000\n",
      "0\n",
      "epoch: 1, train_loss: 0.0076, train_auc: 0.9962, val_auc: 0.9938, lr: 0.1000\n",
      "0\n",
      "epoch: 2, train_loss: 0.0046, train_auc: 0.9978, val_auc: 0.9950, lr: 0.1000\n",
      "1\n",
      "epoch: 3, train_loss: 0.0034, train_auc: 0.9983, val_auc: 0.9944, lr: 0.1000\n",
      "2\n",
      "epoch: 4, train_loss: 0.0035, train_auc: 0.9985, val_auc: 0.9946, lr: 0.1000\n",
      "3\n",
      "epoch: 5, train_loss: 0.0021, train_auc: 0.9984, val_auc: 0.9952, lr: 0.1000\n",
      "4\n",
      "epoch: 6, train_loss: 0.0016, train_auc: 0.9988, val_auc: 0.9943, lr: 0.1000\n",
      "5\n",
      "epoch: 7, train_loss: 0.0018, train_auc: 0.9989, val_auc: 0.9952, lr: 0.1000\n",
      "6\n",
      "epoch: 8, train_loss: 0.0012, train_auc: 0.9989, val_auc: 0.9939, lr: 0.1000\n",
      "7\n",
      "Early stopping\n",
      "Validation : 0.9944\n",
      "optimzer: PESG, step size: 0.001, batch size: 256\n",
      "Start Training\n",
      "------------------------------\n",
      "epoch: 0, train_loss: 0.0614, train_auc: 0.6723, val_auc: 0.6661, lr: 0.0010\n",
      "0\n",
      "epoch: 1, train_loss: 0.0537, train_auc: 0.6821, val_auc: 0.6774, lr: 0.0010\n",
      "0\n",
      "epoch: 2, train_loss: 0.0526, train_auc: 0.7238, val_auc: 0.7138, lr: 0.0010\n",
      "0\n",
      "epoch: 3, train_loss: 0.0559, train_auc: 0.7728, val_auc: 0.7560, lr: 0.0010\n",
      "0\n",
      "epoch: 4, train_loss: 0.0602, train_auc: 0.8145, val_auc: 0.7926, lr: 0.0010\n",
      "0\n",
      "epoch: 5, train_loss: 0.0656, train_auc: 0.8469, val_auc: 0.8240, lr: 0.0010\n",
      "0\n",
      "epoch: 6, train_loss: 0.0689, train_auc: 0.8750, val_auc: 0.8539, lr: 0.0010\n",
      "0\n",
      "epoch: 7, train_loss: 0.0735, train_auc: 0.8967, val_auc: 0.8781, lr: 0.0010\n",
      "0\n",
      "epoch: 8, train_loss: 0.0774, train_auc: 0.9176, val_auc: 0.8994, lr: 0.0010\n",
      "0\n",
      "epoch: 9, train_loss: 0.0799, train_auc: 0.9321, val_auc: 0.9175, lr: 0.0010\n",
      "0\n",
      "epoch: 10, train_loss: 0.0834, train_auc: 0.9426, val_auc: 0.9289, lr: 0.0010\n",
      "0\n",
      "epoch: 11, train_loss: 0.0864, train_auc: 0.9523, val_auc: 0.9403, lr: 0.0010\n",
      "0\n",
      "epoch: 12, train_loss: 0.0888, train_auc: 0.9584, val_auc: 0.9481, lr: 0.0010\n",
      "0\n",
      "epoch: 13, train_loss: 0.0893, train_auc: 0.9639, val_auc: 0.9558, lr: 0.0010\n",
      "0\n",
      "epoch: 14, train_loss: 0.0906, train_auc: 0.9683, val_auc: 0.9613, lr: 0.0010\n",
      "0\n",
      "epoch: 15, train_loss: 0.0912, train_auc: 0.9710, val_auc: 0.9648, lr: 0.0010\n",
      "1\n",
      "epoch: 16, train_loss: 0.0904, train_auc: 0.9732, val_auc: 0.9679, lr: 0.0010\n",
      "2\n",
      "epoch: 17, train_loss: 0.0901, train_auc: 0.9751, val_auc: 0.9703, lr: 0.0010\n",
      "3\n",
      "epoch: 18, train_loss: 0.0894, train_auc: 0.9765, val_auc: 0.9719, lr: 0.0010\n",
      "4\n",
      "epoch: 19, train_loss: 0.0881, train_auc: 0.9778, val_auc: 0.9739, lr: 0.0010\n",
      "5\n",
      "epoch: 20, train_loss: 0.0864, train_auc: 0.9789, val_auc: 0.9750, lr: 0.0010\n",
      "6\n",
      "epoch: 21, train_loss: 0.0845, train_auc: 0.9798, val_auc: 0.9763, lr: 0.0010\n",
      "7\n",
      "Early stopping\n",
      "Validation : 0.9740\n",
      "optimzer: PESG, step size: 0.1, batch size: 256\n",
      "Start Training\n",
      "------------------------------\n",
      "epoch: 0, train_loss: 0.0400, train_auc: 0.8334, val_auc: 0.8362, lr: 0.1000\n",
      "0\n",
      "epoch: 1, train_loss: 0.0036, train_auc: 0.9940, val_auc: 0.9864, lr: 0.1000\n",
      "0\n",
      "epoch: 2, train_loss: 0.0034, train_auc: 0.9977, val_auc: 0.9907, lr: 0.1000\n",
      "1\n",
      "epoch: 3, train_loss: 0.0028, train_auc: 0.9984, val_auc: 0.9914, lr: 0.1000\n",
      "2\n",
      "epoch: 4, train_loss: 0.0017, train_auc: 0.9990, val_auc: 0.9898, lr: 0.1000\n",
      "3\n",
      "epoch: 5, train_loss: 0.0013, train_auc: 0.9991, val_auc: 0.9893, lr: 0.1000\n",
      "4\n",
      "epoch: 6, train_loss: 0.0015, train_auc: 0.9992, val_auc: 0.9893, lr: 0.1000\n",
      "5\n",
      "epoch: 7, train_loss: 0.0009, train_auc: 0.9993, val_auc: 0.9886, lr: 0.1000\n",
      "6\n",
      "epoch: 8, train_loss: 0.0006, train_auc: 0.9994, val_auc: 0.9905, lr: 0.1000\n",
      "7\n",
      "Early stopping\n",
      "Validation : 0.9917\n"
     ]
    }
   ],
   "source": [
    "# resnet18 model\n",
    "from libauc.models import resnet18 as ResNet18\n",
    "\n",
    "SEED = 123\n",
    "imratio = 0.1 # for demo \n",
    "total_epochs = 50\n",
    "decay_epochs = [50, 75]\n",
    "\n",
    "\n",
    "margin = 1.0\n",
    "epoch_decay = 0.003 # refers gamma in the paper\n",
    "weight_decay = 0.0001\n",
    "\n",
    "# HyperParameters\n",
    "optmzr = ['adam', 'PESG']\n",
    "BATCH_SIZE = [128, 256]\n",
    "lr = [1e-3, 1e-1]\n",
    "#lr = [1,1e-1]\n",
    "\n",
    "max_auc = 0\n",
    "best_hyperparams = []  # optimizer, batch_size, lr order\n",
    "best_model = None\n",
    "# hyperparameter tuning based on gridsearch\n",
    "for i in range(len(optmzr)*len(BATCH_SIZE)*len(lr)):\n",
    "    model_i = ResNet18(pretrained=False, last_activation=None, num_classes=1, )\n",
    "    model_i.conv1 = torch.nn.Conv2d(1, 64, kernel_size=7, stride=2, padding=3, bias=False)\n",
    "    \n",
    "    lr_idx = i % len(lr)\n",
    "    batch_idx = (i // len(lr)) % len(BATCH_SIZE)\n",
    "    optmzr_idx = i // (len(lr) * len(BATCH_SIZE))\n",
    "    \n",
    "    trainloader = data.DataLoader(dataset=train_d, batch_size=BATCH_SIZE[batch_idx], shuffle=True)\n",
    "    valloader = data.DataLoader(dataset=val_d, batch_size=BATCH_SIZE[batch_idx], shuffle=False, num_workers=2)\n",
    "    trainloader_eval = data.DataLoader(train_d, batch_size=BATCH_SIZE[batch_idx], shuffle=False, num_workers=2)\n",
    "    \n",
    "\n",
    "    # loss and optimizer\n",
    "    loss_fn = AUCMLoss()\n",
    "\n",
    "    if optmzr[optmzr_idx] == 'adam':  # use adam optimizer\n",
    "        #optimizer = torch.optim.Adam(model_i.parameters(), lr=lr[lr_idx], weight_decay=weight_decay)\n",
    "        optimizer = Adam(model_i,\n",
    "                 lr=lr[lr_idx],\n",
    "                 weight_decay=weight_decay)\n",
    "    elif optmzr[optmzr_idx] == 'momentum':  # use momentous SGD optimzer\n",
    "        #optimizer = optim.SGD(model_i.parameters(), lr=lr[lr_idx], momentum=0.9)\n",
    "        optimizer = SGD(model_i, \n",
    "                 lr=lr[lr_idx],\n",
    "                 momentum=0.9,\n",
    "                 weight_decay=weight_decay)\n",
    "    else:  # PESG\n",
    "        optimizer = PESG(model_i, \n",
    "                 loss_fn=loss_fn,\n",
    "                 lr=lr[lr_idx], \n",
    "                 momentum=0.9,\n",
    "                 #margin=margin)\n",
    "                 margin=margin, \n",
    "                 epoch_decay=epoch_decay, \n",
    "                 weight_decay=weight_decay)\n",
    "    \n",
    "    print(f\"optimzer: {optmzr[optmzr_idx]}, step size: {lr[lr_idx]}, batch size: {BATCH_SIZE[batch_idx]}\")\n",
    "    train(model_i, loss_fn, optimizer, total_epochs, trainloader, trainloader_eval, valloader,\n",
    "          patience=7, decay_epochs=decay_epochs)\n",
    "\n",
    "    # evaluate the performance on validation set to select the best hyperparameters\n",
    "    val_loader = data.DataLoader(dataset=val_d, batch_size=BATCH_SIZE[batch_idx], num_workers=2)\n",
    "    score_list = list()\n",
    "    label_list = list()\n",
    "    for _, d in enumerate(val_loader, 0):\n",
    "        tmp_data, tmp_label = d\n",
    "        #tmp_data, tmp_label = tmp_data.cuda(), tmp_label.cuda()\n",
    "\n",
    "        tmp_score = model_i(tmp_data).detach().clone().cpu()\n",
    "        #print(tmp_score)\n",
    "        score_list.append(tmp_score)\n",
    "        label_list.append(tmp_label.cpu())\n",
    "\n",
    "    val_label = torch.cat(label_list)\n",
    "    val_score = torch.cat(score_list)\n",
    "\n",
    "    val_auc = metrics.roc_auc_score(val_label, val_score)                   \n",
    "    print(\"Validation : %.4f\"%val_auc, flush=True)\n",
    "                        #val_auc??\n",
    "    if val_auc > max_auc:\n",
    "        #val_auc??\n",
    "        max_auc = val_auc #val_auc?\n",
    "        best_hyperparams = [optmzr[optmzr_idx], lr[lr_idx], BATCH_SIZE[batch_idx]]\n",
    "        best_model = model_i"
   ]
  },
  {
   "cell_type": "code",
   "execution_count": 60,
   "id": "6577e29c",
   "metadata": {},
   "outputs": [
    {
     "name": "stdout",
     "output_type": "stream",
     "text": [
      "Test : 0.9205\n"
     ]
    }
   ],
   "source": [
    "batch_size = best_hyperparams[2]\n",
    "test_loader = data.DataLoader(dataset=test_dataset, batch_size=batch_size)\n",
    "\n",
    "# Testing AUC\n",
    "score_list = list()\n",
    "label_list = list()\n",
    "for _, d in enumerate(test_loader, 0):\n",
    "    tmp_data, tmp_label = d\n",
    "    #tmp_data, tmp_label = tmp_data.cuda(), tmp_label.cuda()\n",
    "    \n",
    "    tmp_score = best_model(tmp_data).detach().clone().cpu()\n",
    "    #print(tmp_score)\n",
    "    score_list.append(tmp_score)\n",
    "    label_list.append(tmp_label.cpu())\n",
    "\n",
    "test_label = torch.cat(label_list)\n",
    "test_score = torch.cat(score_list)\n",
    "                   \n",
    "test_auc = metrics.roc_auc_score(test_label, test_score)                   \n",
    "print(\"Test : %.4f\"%test_auc, flush=True)"
   ]
  },
  {
   "cell_type": "code",
   "execution_count": 68,
   "id": "6f43ed12",
   "metadata": {},
   "outputs": [
    {
     "data": {
      "text/plain": [
       "['PESG', 0.1, 128]"
      ]
     },
     "execution_count": 68,
     "metadata": {},
     "output_type": "execute_result"
    }
   ],
   "source": [
    "best_hyperparams"
   ]
  },
  {
   "cell_type": "code",
   "execution_count": 61,
   "id": "60c5d59f",
   "metadata": {},
   "outputs": [
    {
     "data": {
      "text/plain": [
       "ResNet(\n",
       "  (conv1): Conv2d(1, 64, kernel_size=(7, 7), stride=(2, 2), padding=(3, 3), bias=False)\n",
       "  (bn1): BatchNorm2d(64, eps=1e-05, momentum=0.1, affine=True, track_running_stats=True)\n",
       "  (relu): ReLU(inplace=True)\n",
       "  (maxpool): MaxPool2d(kernel_size=3, stride=2, padding=1, dilation=1, ceil_mode=False)\n",
       "  (layer1): Sequential(\n",
       "    (0): BasicBlock(\n",
       "      (conv1): Conv2d(64, 64, kernel_size=(3, 3), stride=(1, 1), padding=(1, 1), bias=False)\n",
       "      (bn1): BatchNorm2d(64, eps=1e-05, momentum=0.1, affine=True, track_running_stats=True)\n",
       "      (relu): ReLU(inplace=True)\n",
       "      (conv2): Conv2d(64, 64, kernel_size=(3, 3), stride=(1, 1), padding=(1, 1), bias=False)\n",
       "      (bn2): BatchNorm2d(64, eps=1e-05, momentum=0.1, affine=True, track_running_stats=True)\n",
       "    )\n",
       "    (1): BasicBlock(\n",
       "      (conv1): Conv2d(64, 64, kernel_size=(3, 3), stride=(1, 1), padding=(1, 1), bias=False)\n",
       "      (bn1): BatchNorm2d(64, eps=1e-05, momentum=0.1, affine=True, track_running_stats=True)\n",
       "      (relu): ReLU(inplace=True)\n",
       "      (conv2): Conv2d(64, 64, kernel_size=(3, 3), stride=(1, 1), padding=(1, 1), bias=False)\n",
       "      (bn2): BatchNorm2d(64, eps=1e-05, momentum=0.1, affine=True, track_running_stats=True)\n",
       "    )\n",
       "  )\n",
       "  (layer2): Sequential(\n",
       "    (0): BasicBlock(\n",
       "      (conv1): Conv2d(64, 128, kernel_size=(3, 3), stride=(2, 2), padding=(1, 1), bias=False)\n",
       "      (bn1): BatchNorm2d(128, eps=1e-05, momentum=0.1, affine=True, track_running_stats=True)\n",
       "      (relu): ReLU(inplace=True)\n",
       "      (conv2): Conv2d(128, 128, kernel_size=(3, 3), stride=(1, 1), padding=(1, 1), bias=False)\n",
       "      (bn2): BatchNorm2d(128, eps=1e-05, momentum=0.1, affine=True, track_running_stats=True)\n",
       "      (downsample): Sequential(\n",
       "        (0): Conv2d(64, 128, kernel_size=(1, 1), stride=(2, 2), bias=False)\n",
       "        (1): BatchNorm2d(128, eps=1e-05, momentum=0.1, affine=True, track_running_stats=True)\n",
       "      )\n",
       "    )\n",
       "    (1): BasicBlock(\n",
       "      (conv1): Conv2d(128, 128, kernel_size=(3, 3), stride=(1, 1), padding=(1, 1), bias=False)\n",
       "      (bn1): BatchNorm2d(128, eps=1e-05, momentum=0.1, affine=True, track_running_stats=True)\n",
       "      (relu): ReLU(inplace=True)\n",
       "      (conv2): Conv2d(128, 128, kernel_size=(3, 3), stride=(1, 1), padding=(1, 1), bias=False)\n",
       "      (bn2): BatchNorm2d(128, eps=1e-05, momentum=0.1, affine=True, track_running_stats=True)\n",
       "    )\n",
       "  )\n",
       "  (layer3): Sequential(\n",
       "    (0): BasicBlock(\n",
       "      (conv1): Conv2d(128, 256, kernel_size=(3, 3), stride=(2, 2), padding=(1, 1), bias=False)\n",
       "      (bn1): BatchNorm2d(256, eps=1e-05, momentum=0.1, affine=True, track_running_stats=True)\n",
       "      (relu): ReLU(inplace=True)\n",
       "      (conv2): Conv2d(256, 256, kernel_size=(3, 3), stride=(1, 1), padding=(1, 1), bias=False)\n",
       "      (bn2): BatchNorm2d(256, eps=1e-05, momentum=0.1, affine=True, track_running_stats=True)\n",
       "      (downsample): Sequential(\n",
       "        (0): Conv2d(128, 256, kernel_size=(1, 1), stride=(2, 2), bias=False)\n",
       "        (1): BatchNorm2d(256, eps=1e-05, momentum=0.1, affine=True, track_running_stats=True)\n",
       "      )\n",
       "    )\n",
       "    (1): BasicBlock(\n",
       "      (conv1): Conv2d(256, 256, kernel_size=(3, 3), stride=(1, 1), padding=(1, 1), bias=False)\n",
       "      (bn1): BatchNorm2d(256, eps=1e-05, momentum=0.1, affine=True, track_running_stats=True)\n",
       "      (relu): ReLU(inplace=True)\n",
       "      (conv2): Conv2d(256, 256, kernel_size=(3, 3), stride=(1, 1), padding=(1, 1), bias=False)\n",
       "      (bn2): BatchNorm2d(256, eps=1e-05, momentum=0.1, affine=True, track_running_stats=True)\n",
       "    )\n",
       "  )\n",
       "  (layer4): Sequential(\n",
       "    (0): BasicBlock(\n",
       "      (conv1): Conv2d(256, 512, kernel_size=(3, 3), stride=(2, 2), padding=(1, 1), bias=False)\n",
       "      (bn1): BatchNorm2d(512, eps=1e-05, momentum=0.1, affine=True, track_running_stats=True)\n",
       "      (relu): ReLU(inplace=True)\n",
       "      (conv2): Conv2d(512, 512, kernel_size=(3, 3), stride=(1, 1), padding=(1, 1), bias=False)\n",
       "      (bn2): BatchNorm2d(512, eps=1e-05, momentum=0.1, affine=True, track_running_stats=True)\n",
       "      (downsample): Sequential(\n",
       "        (0): Conv2d(256, 512, kernel_size=(1, 1), stride=(2, 2), bias=False)\n",
       "        (1): BatchNorm2d(512, eps=1e-05, momentum=0.1, affine=True, track_running_stats=True)\n",
       "      )\n",
       "    )\n",
       "    (1): BasicBlock(\n",
       "      (conv1): Conv2d(512, 512, kernel_size=(3, 3), stride=(1, 1), padding=(1, 1), bias=False)\n",
       "      (bn1): BatchNorm2d(512, eps=1e-05, momentum=0.1, affine=True, track_running_stats=True)\n",
       "      (relu): ReLU(inplace=True)\n",
       "      (conv2): Conv2d(512, 512, kernel_size=(3, 3), stride=(1, 1), padding=(1, 1), bias=False)\n",
       "      (bn2): BatchNorm2d(512, eps=1e-05, momentum=0.1, affine=True, track_running_stats=True)\n",
       "    )\n",
       "  )\n",
       "  (avgpool): AdaptiveAvgPool2d(output_size=(1, 1))\n",
       "  (fc): Linear(in_features=512, out_features=1, bias=True)\n",
       "  (sigmoid): Sigmoid()\n",
       ")"
      ]
     },
     "execution_count": 61,
     "metadata": {},
     "output_type": "execute_result"
    }
   ],
   "source": [
    "best_model"
   ]
  },
  {
   "cell_type": "code",
   "execution_count": 62,
   "id": "e1715e6e",
   "metadata": {},
   "outputs": [],
   "source": [
    "# save the best model\n",
    "torch.save(best_model.state_dict(), \"pneumonia_hyperparam.pth\")"
   ]
  },
  {
   "cell_type": "code",
   "execution_count": 65,
   "id": "f5c25948",
   "metadata": {},
   "outputs": [
    {
     "data": {
      "text/plain": [
       "ResNet(\n",
       "  (conv1): Conv2d(1, 64, kernel_size=(7, 7), stride=(2, 2), padding=(3, 3), bias=False)\n",
       "  (bn1): BatchNorm2d(64, eps=1e-05, momentum=0.1, affine=True, track_running_stats=True)\n",
       "  (relu): ReLU(inplace=True)\n",
       "  (maxpool): MaxPool2d(kernel_size=3, stride=2, padding=1, dilation=1, ceil_mode=False)\n",
       "  (layer1): Sequential(\n",
       "    (0): BasicBlock(\n",
       "      (conv1): Conv2d(64, 64, kernel_size=(3, 3), stride=(1, 1), padding=(1, 1), bias=False)\n",
       "      (bn1): BatchNorm2d(64, eps=1e-05, momentum=0.1, affine=True, track_running_stats=True)\n",
       "      (relu): ReLU(inplace=True)\n",
       "      (conv2): Conv2d(64, 64, kernel_size=(3, 3), stride=(1, 1), padding=(1, 1), bias=False)\n",
       "      (bn2): BatchNorm2d(64, eps=1e-05, momentum=0.1, affine=True, track_running_stats=True)\n",
       "    )\n",
       "    (1): BasicBlock(\n",
       "      (conv1): Conv2d(64, 64, kernel_size=(3, 3), stride=(1, 1), padding=(1, 1), bias=False)\n",
       "      (bn1): BatchNorm2d(64, eps=1e-05, momentum=0.1, affine=True, track_running_stats=True)\n",
       "      (relu): ReLU(inplace=True)\n",
       "      (conv2): Conv2d(64, 64, kernel_size=(3, 3), stride=(1, 1), padding=(1, 1), bias=False)\n",
       "      (bn2): BatchNorm2d(64, eps=1e-05, momentum=0.1, affine=True, track_running_stats=True)\n",
       "    )\n",
       "  )\n",
       "  (layer2): Sequential(\n",
       "    (0): BasicBlock(\n",
       "      (conv1): Conv2d(64, 128, kernel_size=(3, 3), stride=(2, 2), padding=(1, 1), bias=False)\n",
       "      (bn1): BatchNorm2d(128, eps=1e-05, momentum=0.1, affine=True, track_running_stats=True)\n",
       "      (relu): ReLU(inplace=True)\n",
       "      (conv2): Conv2d(128, 128, kernel_size=(3, 3), stride=(1, 1), padding=(1, 1), bias=False)\n",
       "      (bn2): BatchNorm2d(128, eps=1e-05, momentum=0.1, affine=True, track_running_stats=True)\n",
       "      (downsample): Sequential(\n",
       "        (0): Conv2d(64, 128, kernel_size=(1, 1), stride=(2, 2), bias=False)\n",
       "        (1): BatchNorm2d(128, eps=1e-05, momentum=0.1, affine=True, track_running_stats=True)\n",
       "      )\n",
       "    )\n",
       "    (1): BasicBlock(\n",
       "      (conv1): Conv2d(128, 128, kernel_size=(3, 3), stride=(1, 1), padding=(1, 1), bias=False)\n",
       "      (bn1): BatchNorm2d(128, eps=1e-05, momentum=0.1, affine=True, track_running_stats=True)\n",
       "      (relu): ReLU(inplace=True)\n",
       "      (conv2): Conv2d(128, 128, kernel_size=(3, 3), stride=(1, 1), padding=(1, 1), bias=False)\n",
       "      (bn2): BatchNorm2d(128, eps=1e-05, momentum=0.1, affine=True, track_running_stats=True)\n",
       "    )\n",
       "  )\n",
       "  (layer3): Sequential(\n",
       "    (0): BasicBlock(\n",
       "      (conv1): Conv2d(128, 256, kernel_size=(3, 3), stride=(2, 2), padding=(1, 1), bias=False)\n",
       "      (bn1): BatchNorm2d(256, eps=1e-05, momentum=0.1, affine=True, track_running_stats=True)\n",
       "      (relu): ReLU(inplace=True)\n",
       "      (conv2): Conv2d(256, 256, kernel_size=(3, 3), stride=(1, 1), padding=(1, 1), bias=False)\n",
       "      (bn2): BatchNorm2d(256, eps=1e-05, momentum=0.1, affine=True, track_running_stats=True)\n",
       "      (downsample): Sequential(\n",
       "        (0): Conv2d(128, 256, kernel_size=(1, 1), stride=(2, 2), bias=False)\n",
       "        (1): BatchNorm2d(256, eps=1e-05, momentum=0.1, affine=True, track_running_stats=True)\n",
       "      )\n",
       "    )\n",
       "    (1): BasicBlock(\n",
       "      (conv1): Conv2d(256, 256, kernel_size=(3, 3), stride=(1, 1), padding=(1, 1), bias=False)\n",
       "      (bn1): BatchNorm2d(256, eps=1e-05, momentum=0.1, affine=True, track_running_stats=True)\n",
       "      (relu): ReLU(inplace=True)\n",
       "      (conv2): Conv2d(256, 256, kernel_size=(3, 3), stride=(1, 1), padding=(1, 1), bias=False)\n",
       "      (bn2): BatchNorm2d(256, eps=1e-05, momentum=0.1, affine=True, track_running_stats=True)\n",
       "    )\n",
       "  )\n",
       "  (layer4): Sequential(\n",
       "    (0): BasicBlock(\n",
       "      (conv1): Conv2d(256, 512, kernel_size=(3, 3), stride=(2, 2), padding=(1, 1), bias=False)\n",
       "      (bn1): BatchNorm2d(512, eps=1e-05, momentum=0.1, affine=True, track_running_stats=True)\n",
       "      (relu): ReLU(inplace=True)\n",
       "      (conv2): Conv2d(512, 512, kernel_size=(3, 3), stride=(1, 1), padding=(1, 1), bias=False)\n",
       "      (bn2): BatchNorm2d(512, eps=1e-05, momentum=0.1, affine=True, track_running_stats=True)\n",
       "      (downsample): Sequential(\n",
       "        (0): Conv2d(256, 512, kernel_size=(1, 1), stride=(2, 2), bias=False)\n",
       "        (1): BatchNorm2d(512, eps=1e-05, momentum=0.1, affine=True, track_running_stats=True)\n",
       "      )\n",
       "    )\n",
       "    (1): BasicBlock(\n",
       "      (conv1): Conv2d(512, 512, kernel_size=(3, 3), stride=(1, 1), padding=(1, 1), bias=False)\n",
       "      (bn1): BatchNorm2d(512, eps=1e-05, momentum=0.1, affine=True, track_running_stats=True)\n",
       "      (relu): ReLU(inplace=True)\n",
       "      (conv2): Conv2d(512, 512, kernel_size=(3, 3), stride=(1, 1), padding=(1, 1), bias=False)\n",
       "      (bn2): BatchNorm2d(512, eps=1e-05, momentum=0.1, affine=True, track_running_stats=True)\n",
       "    )\n",
       "  )\n",
       "  (avgpool): AdaptiveAvgPool2d(output_size=(1, 1))\n",
       "  (fc): Linear(in_features=512, out_features=1, bias=True)\n",
       "  (sigmoid): Sigmoid()\n",
       ")"
      ]
     },
     "execution_count": 65,
     "metadata": {},
     "output_type": "execute_result"
    }
   ],
   "source": [
    "# load the best model\n",
    "net = ResNet18(pretrained=False)\n",
    "net.conv1 = torch.nn.Conv2d(1, 64, kernel_size=7, stride=2, padding=3, bias=False)\n",
    "#net.load_state_dict(torch.load(\"saved_model/test_model\"))\n",
    "net.load_state_dict(torch.load(\"pneumonia_hyperparam.pth\"))\n",
    "model.eval()"
   ]
  },
  {
   "cell_type": "code",
   "execution_count": 66,
   "id": "170b10da",
   "metadata": {},
   "outputs": [
    {
     "name": "stdout",
     "output_type": "stream",
     "text": [
      "Test : 0.9205\n"
     ]
    }
   ],
   "source": [
    "batch_size = 128\n",
    "test_loader = data.DataLoader(dataset=test_dataset, batch_size=batch_size)\n",
    "\n",
    "# Testing AUC\n",
    "score_list = list()\n",
    "label_list = list()\n",
    "for _, d in enumerate(test_loader, 0):\n",
    "    tmp_data, tmp_label = d\n",
    "    #tmp_data, tmp_label = tmp_data.cuda(), tmp_label.cuda()\n",
    "    \n",
    "    tmp_score = net(tmp_data).detach().clone().cpu()\n",
    "    #print(tmp_score)\n",
    "    score_list.append(tmp_score)\n",
    "    label_list.append(tmp_label.cpu())\n",
    "\n",
    "test_label = torch.cat(label_list)\n",
    "test_score = torch.cat(score_list)\n",
    "                   \n",
    "test_auc = metrics.roc_auc_score(test_label, test_score)                   \n",
    "print(\"Test : %.4f\"%test_auc, flush=True)"
   ]
  },
  {
   "cell_type": "code",
   "execution_count": null,
   "id": "347b7003",
   "metadata": {},
   "outputs": [],
   "source": []
  }
 ],
 "metadata": {
  "kernelspec": {
   "display_name": "Python 3 (ipykernel)",
   "language": "python",
   "name": "python3"
  },
  "language_info": {
   "codemirror_mode": {
    "name": "ipython",
    "version": 3
   },
   "file_extension": ".py",
   "mimetype": "text/x-python",
   "name": "python",
   "nbconvert_exporter": "python",
   "pygments_lexer": "ipython3",
   "version": "3.9.12"
  }
 },
 "nbformat": 4,
 "nbformat_minor": 5
}
